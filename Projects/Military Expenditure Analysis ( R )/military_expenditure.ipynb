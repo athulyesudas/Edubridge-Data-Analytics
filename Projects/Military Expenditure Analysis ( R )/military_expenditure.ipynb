{
 "cells": [
  {
   "cell_type": "markdown",
   "metadata": {},
   "source": [
    "## EDA on Military Expenditure\n",
    "\n",
    " - You can download the dataset from this link:    https://www.kaggle.com/datasets/prasertk/military-expenditure-by-country-from-19702020\n",
    "\n",
    " - This dataset contains Military Expenditure of Whole World from year 1970 to 2020"
   ]
  },
  {
   "cell_type": "markdown",
   "metadata": {},
   "source": [
    "## OBJECTIVE:\n",
    "   1. Find the top 10 countries with highest total military spending.\n",
    "   2. Find the top 10 countries with lowest total military spending.\n",
    "   3. Find the top 10 countries with highest military spending in each decade."
   ]
  },
  {
   "cell_type": "code",
   "execution_count": 2,
   "metadata": {
    "vscode": {
     "languageId": "r"
    }
   },
   "outputs": [
    {
     "name": "stderr",
     "output_type": "stream",
     "text": [
      "\n",
      "Attaching package: 'dplyr'\n",
      "\n",
      "The following objects are masked from 'package:stats':\n",
      "\n",
      "    filter, lag\n",
      "\n",
      "The following objects are masked from 'package:base':\n",
      "\n",
      "    intersect, setdiff, setequal, union\n",
      "\n",
      "Registered S3 methods overwritten by 'ggplot2':\n",
      "  method         from \n",
      "  [.quosures     rlang\n",
      "  c.quosures     rlang\n",
      "  print.quosures rlang\n",
      "Registered S3 method overwritten by 'rvest':\n",
      "  method            from\n",
      "  read_xml.response xml2\n",
      "-- Attaching packages --------------------------------------- tidyverse 1.2.1 --\n",
      "v ggplot2 3.1.1     v readr   1.3.1\n",
      "v tibble  2.1.1     v purrr   0.3.2\n",
      "v tidyr   0.8.3     v stringr 1.4.0\n",
      "v ggplot2 3.1.1     v forcats 0.4.0\n",
      "-- Conflicts ------------------------------------------ tidyverse_conflicts() --\n",
      "x dplyr::filter() masks stats::filter()\n",
      "x dplyr::lag()    masks stats::lag()\n"
     ]
    }
   ],
   "source": [
    "library(dplyr)\n",
    "library(tidyverse)\n",
    "library(ggplot2)"
   ]
  },
  {
   "cell_type": "code",
   "execution_count": 3,
   "metadata": {
    "vscode": {
     "languageId": "r"
    }
   },
   "outputs": [
    {
     "data": {
      "text/html": [
       "'d:/DOCS/R STUDIO/Military Expenditure'"
      ],
      "text/latex": [
       "'d:/DOCS/R STUDIO/Military Expenditure'"
      ],
      "text/markdown": [
       "'d:/DOCS/R STUDIO/Military Expenditure'"
      ],
      "text/plain": [
       "[1] \"d:/DOCS/R STUDIO/Military Expenditure\""
      ]
     },
     "metadata": {},
     "output_type": "display_data"
    }
   ],
   "source": [
    "getwd()"
   ]
  },
  {
   "cell_type": "code",
   "execution_count": 4,
   "metadata": {
    "vscode": {
     "languageId": "r"
    }
   },
   "outputs": [],
   "source": [
    "d = read.csv('military expenditure.csv')  # for reading data from csv file"
   ]
  },
  {
   "cell_type": "code",
   "execution_count": 5,
   "metadata": {
    "vscode": {
     "languageId": "r"
    }
   },
   "outputs": [
    {
     "data": {
      "text/html": [
       "<table>\n",
       "<thead><tr><th scope=col>country</th><th scope=col>iso3c</th><th scope=col>iso2c</th><th scope=col>year</th><th scope=col>Military.expenditure..current.USD.</th><th scope=col>Military.expenditure....of.general.government.expenditure.</th><th scope=col>Military.expenditure....of.GDP.</th><th scope=col>adminregion</th><th scope=col>incomeLevel</th></tr></thead>\n",
       "<tbody>\n",
       "\t<tr><td>Afghanistan</td><td>AFG        </td><td>AF         </td><td>1970       </td><td>2939586    </td><td>NA         </td><td>1.629606   </td><td>South Asia </td><td>Low income </td></tr>\n",
       "\t<tr><td>Afghanistan</td><td>AFG        </td><td>AF         </td><td>1971       </td><td>     NA    </td><td>NA         </td><td>      NA   </td><td>South Asia </td><td>Low income </td></tr>\n",
       "\t<tr><td>Afghanistan</td><td>AFG        </td><td>AF         </td><td>1972       </td><td>     NA    </td><td>NA         </td><td>      NA   </td><td>South Asia </td><td>Low income </td></tr>\n",
       "\t<tr><td>Afghanistan</td><td>AFG        </td><td>AF         </td><td>1973       </td><td>3341272    </td><td>NA         </td><td>1.868910   </td><td>South Asia </td><td>Low income </td></tr>\n",
       "\t<tr><td>Afghanistan</td><td>AFG        </td><td>AF         </td><td>1974       </td><td>3581366    </td><td>NA         </td><td>1.610825   </td><td>South Asia </td><td>Low income </td></tr>\n",
       "\t<tr><td>Afghanistan</td><td>AFG        </td><td>AF         </td><td>1975       </td><td>4203665    </td><td>NA         </td><td>1.722066   </td><td>South Asia </td><td>Low income </td></tr>\n",
       "\t<tr><td>Afghanistan</td><td>AFG        </td><td>AF         </td><td>1976       </td><td>5393251    </td><td>NA         </td><td>2.046087   </td><td>South Asia </td><td>Low income </td></tr>\n",
       "\t<tr><td>Afghanistan</td><td>AFG        </td><td>AF         </td><td>1977       </td><td>6127288    </td><td>NA         </td><td>2.011475   </td><td>South Asia </td><td>Low income </td></tr>\n",
       "\t<tr><td>Afghanistan</td><td>AFG        </td><td>AF         </td><td>1978       </td><td>     NA    </td><td>NA         </td><td>      NA   </td><td>South Asia </td><td>Low income </td></tr>\n",
       "\t<tr><td>Afghanistan</td><td>AFG        </td><td>AF         </td><td>1979       </td><td>     NA    </td><td>NA         </td><td>      NA   </td><td>South Asia </td><td>Low income </td></tr>\n",
       "</tbody>\n",
       "</table>\n"
      ],
      "text/latex": [
       "\\begin{tabular}{r|lllllllll}\n",
       " country & iso3c & iso2c & year & Military.expenditure..current.USD. & Military.expenditure....of.general.government.expenditure. & Military.expenditure....of.GDP. & adminregion & incomeLevel\\\\\n",
       "\\hline\n",
       "\t Afghanistan & AFG         & AF          & 1970        & 2939586     & NA          & 1.629606    & South Asia  & Low income \\\\\n",
       "\t Afghanistan & AFG         & AF          & 1971        &      NA     & NA          &       NA    & South Asia  & Low income \\\\\n",
       "\t Afghanistan & AFG         & AF          & 1972        &      NA     & NA          &       NA    & South Asia  & Low income \\\\\n",
       "\t Afghanistan & AFG         & AF          & 1973        & 3341272     & NA          & 1.868910    & South Asia  & Low income \\\\\n",
       "\t Afghanistan & AFG         & AF          & 1974        & 3581366     & NA          & 1.610825    & South Asia  & Low income \\\\\n",
       "\t Afghanistan & AFG         & AF          & 1975        & 4203665     & NA          & 1.722066    & South Asia  & Low income \\\\\n",
       "\t Afghanistan & AFG         & AF          & 1976        & 5393251     & NA          & 2.046087    & South Asia  & Low income \\\\\n",
       "\t Afghanistan & AFG         & AF          & 1977        & 6127288     & NA          & 2.011475    & South Asia  & Low income \\\\\n",
       "\t Afghanistan & AFG         & AF          & 1978        &      NA     & NA          &       NA    & South Asia  & Low income \\\\\n",
       "\t Afghanistan & AFG         & AF          & 1979        &      NA     & NA          &       NA    & South Asia  & Low income \\\\\n",
       "\\end{tabular}\n"
      ],
      "text/markdown": [
       "\n",
       "| country | iso3c | iso2c | year | Military.expenditure..current.USD. | Military.expenditure....of.general.government.expenditure. | Military.expenditure....of.GDP. | adminregion | incomeLevel |\n",
       "|---|---|---|---|---|---|---|---|---|\n",
       "| Afghanistan | AFG         | AF          | 1970        | 2939586     | NA          | 1.629606    | South Asia  | Low income  |\n",
       "| Afghanistan | AFG         | AF          | 1971        |      NA     | NA          |       NA    | South Asia  | Low income  |\n",
       "| Afghanistan | AFG         | AF          | 1972        |      NA     | NA          |       NA    | South Asia  | Low income  |\n",
       "| Afghanistan | AFG         | AF          | 1973        | 3341272     | NA          | 1.868910    | South Asia  | Low income  |\n",
       "| Afghanistan | AFG         | AF          | 1974        | 3581366     | NA          | 1.610825    | South Asia  | Low income  |\n",
       "| Afghanistan | AFG         | AF          | 1975        | 4203665     | NA          | 1.722066    | South Asia  | Low income  |\n",
       "| Afghanistan | AFG         | AF          | 1976        | 5393251     | NA          | 2.046087    | South Asia  | Low income  |\n",
       "| Afghanistan | AFG         | AF          | 1977        | 6127288     | NA          | 2.011475    | South Asia  | Low income  |\n",
       "| Afghanistan | AFG         | AF          | 1978        |      NA     | NA          |       NA    | South Asia  | Low income  |\n",
       "| Afghanistan | AFG         | AF          | 1979        |      NA     | NA          |       NA    | South Asia  | Low income  |\n",
       "\n"
      ],
      "text/plain": [
       "   country     iso3c iso2c year Military.expenditure..current.USD.\n",
       "1  Afghanistan AFG   AF    1970 2939586                           \n",
       "2  Afghanistan AFG   AF    1971      NA                           \n",
       "3  Afghanistan AFG   AF    1972      NA                           \n",
       "4  Afghanistan AFG   AF    1973 3341272                           \n",
       "5  Afghanistan AFG   AF    1974 3581366                           \n",
       "6  Afghanistan AFG   AF    1975 4203665                           \n",
       "7  Afghanistan AFG   AF    1976 5393251                           \n",
       "8  Afghanistan AFG   AF    1977 6127288                           \n",
       "9  Afghanistan AFG   AF    1978      NA                           \n",
       "10 Afghanistan AFG   AF    1979      NA                           \n",
       "   Military.expenditure....of.general.government.expenditure.\n",
       "1  NA                                                        \n",
       "2  NA                                                        \n",
       "3  NA                                                        \n",
       "4  NA                                                        \n",
       "5  NA                                                        \n",
       "6  NA                                                        \n",
       "7  NA                                                        \n",
       "8  NA                                                        \n",
       "9  NA                                                        \n",
       "10 NA                                                        \n",
       "   Military.expenditure....of.GDP. adminregion incomeLevel\n",
       "1  1.629606                        South Asia  Low income \n",
       "2        NA                        South Asia  Low income \n",
       "3        NA                        South Asia  Low income \n",
       "4  1.868910                        South Asia  Low income \n",
       "5  1.610825                        South Asia  Low income \n",
       "6  1.722066                        South Asia  Low income \n",
       "7  2.046087                        South Asia  Low income \n",
       "8  2.011475                        South Asia  Low income \n",
       "9        NA                        South Asia  Low income \n",
       "10       NA                        South Asia  Low income "
      ]
     },
     "metadata": {},
     "output_type": "display_data"
    }
   ],
   "source": [
    "head(d,10)"
   ]
  },
  {
   "cell_type": "code",
   "execution_count": 6,
   "metadata": {
    "vscode": {
     "languageId": "r"
    }
   },
   "outputs": [
    {
     "name": "stdout",
     "output_type": "stream",
     "text": [
      "'data.frame':\t13566 obs. of  9 variables:\n",
      " $ country                                                   : Factor w/ 266 levels \"Afghanistan\",..: 1 1 1 1 1 1 1 1 1 1 ...\n",
      " $ iso3c                                                     : Factor w/ 265 levels \"\",\"ABW\",\"AFE\",..: 4 4 4 4 4 4 4 4 4 4 ...\n",
      " $ iso2c                                                     : Factor w/ 264 levels \"\",\"1A\",\"1W\",\"4E\",..: 9 9 9 9 9 9 9 9 9 9 ...\n",
      " $ year                                                      : int  1970 1971 1972 1973 1974 1975 1976 1977 1978 1979 ...\n",
      " $ Military.expenditure..current.USD.                        : num  2939586 NA NA 3341272 3581366 ...\n",
      " $ Military.expenditure....of.general.government.expenditure.: num  NA NA NA NA NA NA NA NA NA NA ...\n",
      " $ Military.expenditure....of.GDP.                           : num  1.63 NA NA 1.87 1.61 ...\n",
      " $ adminregion                                               : Factor w/ 7 levels \"\",\"East Asia & Pacific (excluding high income)\",..: 6 6 6 6 6 6 6 6 6 6 ...\n",
      " $ incomeLevel                                               : Factor w/ 7 levels \"\",\"Aggregates\",..: 4 4 4 4 4 4 4 4 4 4 ...\n"
     ]
    }
   ],
   "source": [
    "str(d)  # structure of data"
   ]
  },
  {
   "cell_type": "code",
   "execution_count": 7,
   "metadata": {
    "vscode": {
     "languageId": "r"
    }
   },
   "outputs": [
    {
     "data": {
      "text/plain": [
       "                        country          iso3c           iso2c      \n",
       " Afghanistan                :   51          :  102          :  102  \n",
       " Africa Eastern and Southern:   51   ABW    :   51   1A     :   51  \n",
       " Africa Western and Central :   51   AFE    :   51   1W     :   51  \n",
       " Albania                    :   51   AFG    :   51   4E     :   51  \n",
       " Algeria                    :   51   AFW    :   51   7E     :   51  \n",
       " American Samoa             :   51   AGO    :   51   (Other):13209  \n",
       " (Other)                    :13260   (Other):13209   NA's   :   51  \n",
       "      year      Military.expenditure..current.USD.\n",
       " Min.   :1970   Min.   :0.000e+00                 \n",
       " 1st Qu.:1982   1st Qu.:1.200e+08                 \n",
       " Median :1995   Median :1.148e+09                 \n",
       " Mean   :1995   Mean   :3.676e+10                 \n",
       " 3rd Qu.:2008   3rd Qu.:8.533e+09                 \n",
       " Max.   :2020   Max.   :1.929e+12                 \n",
       "                NA's   :4797                      \n",
       " Military.expenditure....of.general.government.expenditure.\n",
       " Min.   : 0.000                                            \n",
       " 1st Qu.: 3.666                                            \n",
       " Median : 6.034                                            \n",
       " Mean   : 7.659                                            \n",
       " 3rd Qu.: 9.996                                            \n",
       " Max.   :57.478                                            \n",
       " NA's   :8284                                              \n",
       " Military.expenditure....of.GDP.\n",
       " Min.   :  0.000                \n",
       " 1st Qu.:  1.327                \n",
       " Median :  2.013                \n",
       " Mean   :  2.723                \n",
       " 3rd Qu.:  3.218                \n",
       " Max.   :117.350                \n",
       " NA's   :4789                   \n",
       "                                             adminregion  \n",
       "                                                   :6579  \n",
       " East Asia & Pacific (excluding high income)       :1173  \n",
       " Europe & Central Asia (excluding high income)     :1071  \n",
       " Latin America & Caribbean (excluding high income) :1275  \n",
       " Middle East & North Africa (excluding high income): 663  \n",
       " South Asia                                        : 408  \n",
       " Sub-Saharan Africa (excluding high income)        :2397  \n",
       "              incomeLevel  \n",
       "                    : 102  \n",
       " Aggregates         :2397  \n",
       " High income        :4029  \n",
       " Low income         :1377  \n",
       " Lower middle income:2805  \n",
       " Not classified     :  51  \n",
       " Upper middle income:2805  "
      ]
     },
     "metadata": {},
     "output_type": "display_data"
    }
   ],
   "source": [
    "summary(d)"
   ]
  },
  {
   "cell_type": "code",
   "execution_count": 8,
   "metadata": {
    "vscode": {
     "languageId": "r"
    }
   },
   "outputs": [
    {
     "name": "stdout",
     "output_type": "stream",
     "text": [
      "Observations: 13,566\n",
      "Variables: 9\n",
      "$ country                                                    <fct> Afghanis...\n",
      "$ iso3c                                                      <fct> AFG, AFG...\n",
      "$ iso2c                                                      <fct> AF, AF, ...\n",
      "$ year                                                       <int> 1970, 19...\n",
      "$ Military.expenditure..current.USD.                         <dbl> 2939586,...\n",
      "$ Military.expenditure....of.general.government.expenditure. <dbl> NA, NA, ...\n",
      "$ Military.expenditure....of.GDP.                            <dbl> 1.629606...\n",
      "$ adminregion                                                <fct> South As...\n",
      "$ incomeLevel                                                <fct> Low inco...\n"
     ]
    }
   ],
   "source": [
    "glimpse(d)"
   ]
  },
  {
   "cell_type": "code",
   "execution_count": 9,
   "metadata": {
    "vscode": {
     "languageId": "r"
    }
   },
   "outputs": [
    {
     "data": {
      "text/html": [
       "<table>\n",
       "<thead><tr><th scope=col>country</th><th scope=col>iso3c</th><th scope=col>iso2c</th><th scope=col>year</th><th scope=col>Military.expenditure..current.USD.</th><th scope=col>Military.expenditure....of.general.government.expenditure.</th><th scope=col>Military.expenditure....of.GDP.</th><th scope=col>adminregion</th><th scope=col>incomeLevel</th></tr></thead>\n",
       "<tbody>\n",
       "\t<tr><td>IDA total                                    </td><td>IDA                                          </td><td>XG                                           </td><td>1994                                         </td><td>13383991486                                  </td><td>      NA                                     </td><td>3.3401681                                    </td><td>                                             </td><td>Aggregates                                   </td></tr>\n",
       "\t<tr><td>Barbados                                     </td><td>BRB                                          </td><td>BB                                           </td><td>2011                                         </td><td>         NA                                  </td><td>      NA                                     </td><td>       NA                                    </td><td>                                             </td><td>High income                                  </td></tr>\n",
       "\t<tr><td>Brunei Darussalam                            </td><td>BRN                                          </td><td>BN                                           </td><td>1972                                         </td><td>         NA                                  </td><td>      NA                                     </td><td>       NA                                    </td><td>                                             </td><td>High income                                  </td></tr>\n",
       "\t<tr><td>Luxembourg                                   </td><td>LUX                                          </td><td>LU                                           </td><td>2012                                         </td><td>  237503050                                  </td><td>0.949395                                     </td><td>0.4282375                                    </td><td>                                             </td><td>High income                                  </td></tr>\n",
       "\t<tr><td><span style=white-space:pre-wrap>Georgia          </span></td><td>GEO                                                      </td><td>GE                                                       </td><td>2017                                                     </td><td><span style=white-space:pre-wrap>  321136645</span>      </td><td>7.138158                                                 </td><td>1.9697430                                                </td><td>Europe &amp; Central Asia (excluding high income)        </td><td>Upper middle income                                      </td></tr>\n",
       "</tbody>\n",
       "</table>\n"
      ],
      "text/latex": [
       "\\begin{tabular}{r|lllllllll}\n",
       " country & iso3c & iso2c & year & Military.expenditure..current.USD. & Military.expenditure....of.general.government.expenditure. & Military.expenditure....of.GDP. & adminregion & incomeLevel\\\\\n",
       "\\hline\n",
       "\t IDA total                                     & IDA                                           & XG                                            & 1994                                          & 13383991486                                   &       NA                                      & 3.3401681                                     &                                               & Aggregates                                   \\\\\n",
       "\t Barbados                                      & BRB                                           & BB                                            & 2011                                          &          NA                                   &       NA                                      &        NA                                     &                                               & High income                                  \\\\\n",
       "\t Brunei Darussalam                             & BRN                                           & BN                                            & 1972                                          &          NA                                   &       NA                                      &        NA                                     &                                               & High income                                  \\\\\n",
       "\t Luxembourg                                    & LUX                                           & LU                                            & 2012                                          &   237503050                                   & 0.949395                                      & 0.4282375                                     &                                               & High income                                  \\\\\n",
       "\t Georgia                                         & GEO                                             & GE                                              & 2017                                            &   321136645                                     & 7.138158                                        & 1.9697430                                       & Europe \\& Central Asia (excluding high income) & Upper middle income                            \\\\\n",
       "\\end{tabular}\n"
      ],
      "text/markdown": [
       "\n",
       "| country | iso3c | iso2c | year | Military.expenditure..current.USD. | Military.expenditure....of.general.government.expenditure. | Military.expenditure....of.GDP. | adminregion | incomeLevel |\n",
       "|---|---|---|---|---|---|---|---|---|\n",
       "| IDA total                                     | IDA                                           | XG                                            | 1994                                          | 13383991486                                   |       NA                                      | 3.3401681                                     |                                               | Aggregates                                    |\n",
       "| Barbados                                      | BRB                                           | BB                                            | 2011                                          |          NA                                   |       NA                                      |        NA                                     |                                               | High income                                   |\n",
       "| Brunei Darussalam                             | BRN                                           | BN                                            | 1972                                          |          NA                                   |       NA                                      |        NA                                     |                                               | High income                                   |\n",
       "| Luxembourg                                    | LUX                                           | LU                                            | 2012                                          |   237503050                                   | 0.949395                                      | 0.4282375                                     |                                               | High income                                   |\n",
       "| Georgia                                       | GEO                                           | GE                                            | 2017                                          |   321136645                                   | 7.138158                                      | 1.9697430                                     | Europe & Central Asia (excluding high income) | Upper middle income                           |\n",
       "\n"
      ],
      "text/plain": [
       "  country           iso3c iso2c year Military.expenditure..current.USD.\n",
       "1 IDA total         IDA   XG    1994 13383991486                       \n",
       "2 Barbados          BRB   BB    2011          NA                       \n",
       "3 Brunei Darussalam BRN   BN    1972          NA                       \n",
       "4 Luxembourg        LUX   LU    2012   237503050                       \n",
       "5 Georgia           GEO   GE    2017   321136645                       \n",
       "  Military.expenditure....of.general.government.expenditure.\n",
       "1       NA                                                  \n",
       "2       NA                                                  \n",
       "3       NA                                                  \n",
       "4 0.949395                                                  \n",
       "5 7.138158                                                  \n",
       "  Military.expenditure....of.GDP. adminregion                                  \n",
       "1 3.3401681                                                                    \n",
       "2        NA                                                                    \n",
       "3        NA                                                                    \n",
       "4 0.4282375                                                                    \n",
       "5 1.9697430                       Europe & Central Asia (excluding high income)\n",
       "  incomeLevel        \n",
       "1 Aggregates         \n",
       "2 High income        \n",
       "3 High income        \n",
       "4 High income        \n",
       "5 Upper middle income"
      ]
     },
     "metadata": {},
     "output_type": "display_data"
    }
   ],
   "source": [
    "sample_n(d,5)"
   ]
  },
  {
   "cell_type": "code",
   "execution_count": 10,
   "metadata": {
    "vscode": {
     "languageId": "r"
    }
   },
   "outputs": [
    {
     "data": {
      "text/html": [
       "<table>\n",
       "<thead><tr><th scope=col>country</th><th scope=col>iso3c</th><th scope=col>iso2c</th><th scope=col>year</th><th scope=col>Military.expenditure..current.USD.</th><th scope=col>Military.expenditure....of.general.government.expenditure.</th><th scope=col>Military.expenditure....of.GDP.</th><th scope=col>adminregion</th><th scope=col>incomeLevel</th></tr></thead>\n",
       "<tbody>\n",
       "\t<tr><td>Bahrain                                          </td><td>BHR                                              </td><td>BH                                               </td><td>1988                                             </td><td>2.074468e+08                                     </td><td>      NA                                         </td><td>5.6030458                                        </td><td>                                                 </td><td>High income                                      </td></tr>\n",
       "\t<tr><td>Liechtenstein                                    </td><td>LIE                                              </td><td>LI                                               </td><td>1975                                             </td><td>          NA                                     </td><td>      NA                                         </td><td>       NA                                        </td><td>                                                 </td><td>High income                                      </td></tr>\n",
       "\t<tr><td>Post-demographic dividend                        </td><td>PST                                              </td><td>V4                                               </td><td>2020                                             </td><td>1.225464e+12                                     </td><td>4.906157                                         </td><td>2.5307636                                        </td><td>                                                 </td><td>Aggregates                                       </td></tr>\n",
       "\t<tr><td><span style=white-space:pre-wrap>Micronesia, Fed. Sts.    </span>                            </td><td>FSM                                                                                          </td><td>FM                                                                                           </td><td>2008                                                                                         </td><td><span style=white-space:pre-wrap>          NA</span>                                         </td><td><span style=white-space:pre-wrap>      NA</span>                                             </td><td><span style=white-space:pre-wrap>       NA</span>                                            </td><td><span style=white-space:pre-wrap>East Asia &amp; Pacific (excluding high income)      </span></td><td>Lower middle income                                                                          </td></tr>\n",
       "\t<tr><td><span style=white-space:pre-wrap>Mexico                   </span></td><td>MEX                                                              </td><td>MX                                                               </td><td>1998                                                             </td><td>2.263223e+09                                                     </td><td>2.084317                                                         </td><td>0.4504505                                                        </td><td>Latin America &amp; Caribbean (excluding high income)            </td><td>Upper middle income                                              </td></tr>\n",
       "\t<tr><td>Chad                                             </td><td>TCD                                              </td><td>TD                                               </td><td>1999                                             </td><td>2.095180e+07                                     </td><td>7.215532                                         </td><td>1.3652238                                        </td><td>Sub-Saharan Africa (excluding high income)       </td><td>Low income                                       </td></tr>\n",
       "</tbody>\n",
       "</table>\n"
      ],
      "text/latex": [
       "\\begin{tabular}{r|lllllllll}\n",
       " country & iso3c & iso2c & year & Military.expenditure..current.USD. & Military.expenditure....of.general.government.expenditure. & Military.expenditure....of.GDP. & adminregion & incomeLevel\\\\\n",
       "\\hline\n",
       "\t Bahrain                                           & BHR                                               & BH                                                & 1988                                              & 2.074468e+08                                      &       NA                                          & 5.6030458                                         &                                                   & High income                                      \\\\\n",
       "\t Liechtenstein                                     & LIE                                               & LI                                                & 1975                                              &           NA                                      &       NA                                          &        NA                                         &                                                   & High income                                      \\\\\n",
       "\t Post-demographic dividend                         & PST                                               & V4                                                & 2020                                              & 1.225464e+12                                      & 4.906157                                          & 2.5307636                                         &                                                   & Aggregates                                       \\\\\n",
       "\t Micronesia, Fed. Sts.                               & FSM                                                 & FM                                                  & 2008                                                &           NA                                        &       NA                                            &        NA                                           & East Asia \\& Pacific (excluding high income)       & Lower middle income                                \\\\\n",
       "\t Mexico                                              & MEX                                                 & MX                                                  & 1998                                                & 2.263223e+09                                        & 2.084317                                            & 0.4504505                                           & Latin America \\& Caribbean (excluding high income) & Upper middle income                                \\\\\n",
       "\t Chad                                              & TCD                                               & TD                                                & 1999                                              & 2.095180e+07                                      & 7.215532                                          & 1.3652238                                         & Sub-Saharan Africa (excluding high income)        & Low income                                       \\\\\n",
       "\\end{tabular}\n"
      ],
      "text/markdown": [
       "\n",
       "| country | iso3c | iso2c | year | Military.expenditure..current.USD. | Military.expenditure....of.general.government.expenditure. | Military.expenditure....of.GDP. | adminregion | incomeLevel |\n",
       "|---|---|---|---|---|---|---|---|---|\n",
       "| Bahrain                                           | BHR                                               | BH                                                | 1988                                              | 2.074468e+08                                      |       NA                                          | 5.6030458                                         |                                                   | High income                                       |\n",
       "| Liechtenstein                                     | LIE                                               | LI                                                | 1975                                              |           NA                                      |       NA                                          |        NA                                         |                                                   | High income                                       |\n",
       "| Post-demographic dividend                         | PST                                               | V4                                                | 2020                                              | 1.225464e+12                                      | 4.906157                                          | 2.5307636                                         |                                                   | Aggregates                                        |\n",
       "| Micronesia, Fed. Sts.                             | FSM                                               | FM                                                | 2008                                              |           NA                                      |       NA                                          |        NA                                         | East Asia & Pacific (excluding high income)       | Lower middle income                               |\n",
       "| Mexico                                            | MEX                                               | MX                                                | 1998                                              | 2.263223e+09                                      | 2.084317                                          | 0.4504505                                         | Latin America & Caribbean (excluding high income) | Upper middle income                               |\n",
       "| Chad                                              | TCD                                               | TD                                                | 1999                                              | 2.095180e+07                                      | 7.215532                                          | 1.3652238                                         | Sub-Saharan Africa (excluding high income)        | Low income                                        |\n",
       "\n"
      ],
      "text/plain": [
       "  country                   iso3c iso2c year Military.expenditure..current.USD.\n",
       "1 Bahrain                   BHR   BH    1988 2.074468e+08                      \n",
       "2 Liechtenstein             LIE   LI    1975           NA                      \n",
       "3 Post-demographic dividend PST   V4    2020 1.225464e+12                      \n",
       "4 Micronesia, Fed. Sts.     FSM   FM    2008           NA                      \n",
       "5 Mexico                    MEX   MX    1998 2.263223e+09                      \n",
       "6 Chad                      TCD   TD    1999 2.095180e+07                      \n",
       "  Military.expenditure....of.general.government.expenditure.\n",
       "1       NA                                                  \n",
       "2       NA                                                  \n",
       "3 4.906157                                                  \n",
       "4       NA                                                  \n",
       "5 2.084317                                                  \n",
       "6 7.215532                                                  \n",
       "  Military.expenditure....of.GDP.\n",
       "1 5.6030458                      \n",
       "2        NA                      \n",
       "3 2.5307636                      \n",
       "4        NA                      \n",
       "5 0.4504505                      \n",
       "6 1.3652238                      \n",
       "  adminregion                                       incomeLevel        \n",
       "1                                                   High income        \n",
       "2                                                   High income        \n",
       "3                                                   Aggregates         \n",
       "4 East Asia & Pacific (excluding high income)       Lower middle income\n",
       "5 Latin America & Caribbean (excluding high income) Upper middle income\n",
       "6 Sub-Saharan Africa (excluding high income)        Low income         "
      ]
     },
     "metadata": {},
     "output_type": "display_data"
    }
   ],
   "source": [
    "head(sample_frac(d,0.2))"
   ]
  },
  {
   "cell_type": "code",
   "execution_count": 11,
   "metadata": {
    "vscode": {
     "languageId": "r"
    }
   },
   "outputs": [
    {
     "data": {
      "text/html": [
       "<table>\n",
       "<thead><tr><th scope=col>country</th><th scope=col>iso3c</th><th scope=col>iso2c</th><th scope=col>year</th><th scope=col>Military.expenditure..current.USD.</th><th scope=col>Military.expenditure....of.general.government.expenditure.</th><th scope=col>Military.expenditure....of.GDP.</th><th scope=col>adminregion</th><th scope=col>incomeLevel</th></tr></thead>\n",
       "<tbody>\n",
       "\t<tr><td>Afghanistan</td><td>AFG        </td><td>AF         </td><td>1970       </td><td>2939586    </td><td>NA         </td><td>1.629606   </td><td>South Asia </td><td>Low income </td></tr>\n",
       "\t<tr><td>Afghanistan</td><td>AFG        </td><td>AF         </td><td>1971       </td><td>     NA    </td><td>NA         </td><td>      NA   </td><td>South Asia </td><td>Low income </td></tr>\n",
       "\t<tr><td>Afghanistan</td><td>AFG        </td><td>AF         </td><td>1972       </td><td>     NA    </td><td>NA         </td><td>      NA   </td><td>South Asia </td><td>Low income </td></tr>\n",
       "\t<tr><td>Afghanistan</td><td>AFG        </td><td>AF         </td><td>1973       </td><td>3341272    </td><td>NA         </td><td>1.868910   </td><td>South Asia </td><td>Low income </td></tr>\n",
       "\t<tr><td>Afghanistan</td><td>AFG        </td><td>AF         </td><td>1974       </td><td>3581366    </td><td>NA         </td><td>1.610825   </td><td>South Asia </td><td>Low income </td></tr>\n",
       "\t<tr><td>Afghanistan</td><td>AFG        </td><td>AF         </td><td>1975       </td><td>4203665    </td><td>NA         </td><td>1.722066   </td><td>South Asia </td><td>Low income </td></tr>\n",
       "</tbody>\n",
       "</table>\n"
      ],
      "text/latex": [
       "\\begin{tabular}{r|lllllllll}\n",
       " country & iso3c & iso2c & year & Military.expenditure..current.USD. & Military.expenditure....of.general.government.expenditure. & Military.expenditure....of.GDP. & adminregion & incomeLevel\\\\\n",
       "\\hline\n",
       "\t Afghanistan & AFG         & AF          & 1970        & 2939586     & NA          & 1.629606    & South Asia  & Low income \\\\\n",
       "\t Afghanistan & AFG         & AF          & 1971        &      NA     & NA          &       NA    & South Asia  & Low income \\\\\n",
       "\t Afghanistan & AFG         & AF          & 1972        &      NA     & NA          &       NA    & South Asia  & Low income \\\\\n",
       "\t Afghanistan & AFG         & AF          & 1973        & 3341272     & NA          & 1.868910    & South Asia  & Low income \\\\\n",
       "\t Afghanistan & AFG         & AF          & 1974        & 3581366     & NA          & 1.610825    & South Asia  & Low income \\\\\n",
       "\t Afghanistan & AFG         & AF          & 1975        & 4203665     & NA          & 1.722066    & South Asia  & Low income \\\\\n",
       "\\end{tabular}\n"
      ],
      "text/markdown": [
       "\n",
       "| country | iso3c | iso2c | year | Military.expenditure..current.USD. | Military.expenditure....of.general.government.expenditure. | Military.expenditure....of.GDP. | adminregion | incomeLevel |\n",
       "|---|---|---|---|---|---|---|---|---|\n",
       "| Afghanistan | AFG         | AF          | 1970        | 2939586     | NA          | 1.629606    | South Asia  | Low income  |\n",
       "| Afghanistan | AFG         | AF          | 1971        |      NA     | NA          |       NA    | South Asia  | Low income  |\n",
       "| Afghanistan | AFG         | AF          | 1972        |      NA     | NA          |       NA    | South Asia  | Low income  |\n",
       "| Afghanistan | AFG         | AF          | 1973        | 3341272     | NA          | 1.868910    | South Asia  | Low income  |\n",
       "| Afghanistan | AFG         | AF          | 1974        | 3581366     | NA          | 1.610825    | South Asia  | Low income  |\n",
       "| Afghanistan | AFG         | AF          | 1975        | 4203665     | NA          | 1.722066    | South Asia  | Low income  |\n",
       "\n"
      ],
      "text/plain": [
       "  country     iso3c iso2c year Military.expenditure..current.USD.\n",
       "1 Afghanistan AFG   AF    1970 2939586                           \n",
       "2 Afghanistan AFG   AF    1971      NA                           \n",
       "3 Afghanistan AFG   AF    1972      NA                           \n",
       "4 Afghanistan AFG   AF    1973 3341272                           \n",
       "5 Afghanistan AFG   AF    1974 3581366                           \n",
       "6 Afghanistan AFG   AF    1975 4203665                           \n",
       "  Military.expenditure....of.general.government.expenditure.\n",
       "1 NA                                                        \n",
       "2 NA                                                        \n",
       "3 NA                                                        \n",
       "4 NA                                                        \n",
       "5 NA                                                        \n",
       "6 NA                                                        \n",
       "  Military.expenditure....of.GDP. adminregion incomeLevel\n",
       "1 1.629606                        South Asia  Low income \n",
       "2       NA                        South Asia  Low income \n",
       "3       NA                        South Asia  Low income \n",
       "4 1.868910                        South Asia  Low income \n",
       "5 1.610825                        South Asia  Low income \n",
       "6 1.722066                        South Asia  Low income "
      ]
     },
     "metadata": {},
     "output_type": "display_data"
    }
   ],
   "source": [
    "head(distinct(d))"
   ]
  },
  {
   "cell_type": "code",
   "execution_count": 12,
   "metadata": {
    "vscode": {
     "languageId": "r"
    }
   },
   "outputs": [
    {
     "data": {
      "text/html": [
       "9"
      ],
      "text/latex": [
       "9"
      ],
      "text/markdown": [
       "9"
      ],
      "text/plain": [
       "[1] 9"
      ]
     },
     "metadata": {},
     "output_type": "display_data"
    }
   ],
   "source": [
    "length(distinct(d))"
   ]
  },
  {
   "cell_type": "code",
   "execution_count": 13,
   "metadata": {
    "vscode": {
     "languageId": "r"
    }
   },
   "outputs": [
    {
     "data": {
      "text/html": [
       "<ol class=list-inline>\n",
       "\t<li>13566</li>\n",
       "\t<li>9</li>\n",
       "</ol>\n"
      ],
      "text/latex": [
       "\\begin{enumerate*}\n",
       "\\item 13566\n",
       "\\item 9\n",
       "\\end{enumerate*}\n"
      ],
      "text/markdown": [
       "1. 13566\n",
       "2. 9\n",
       "\n",
       "\n"
      ],
      "text/plain": [
       "[1] 13566     9"
      ]
     },
     "metadata": {},
     "output_type": "display_data"
    }
   ],
   "source": [
    "dim(d)"
   ]
  },
  {
   "cell_type": "code",
   "execution_count": 14,
   "metadata": {
    "vscode": {
     "languageId": "r"
    }
   },
   "outputs": [
    {
     "data": {
      "text/html": [
       "<ol class=list-inline>\n",
       "\t<li>13566</li>\n",
       "\t<li>9</li>\n",
       "</ol>\n"
      ],
      "text/latex": [
       "\\begin{enumerate*}\n",
       "\\item 13566\n",
       "\\item 9\n",
       "\\end{enumerate*}\n"
      ],
      "text/markdown": [
       "1. 13566\n",
       "2. 9\n",
       "\n",
       "\n"
      ],
      "text/plain": [
       "[1] 13566     9"
      ]
     },
     "metadata": {},
     "output_type": "display_data"
    }
   ],
   "source": [
    "dim(distinct(d))  # this proves no duplicates"
   ]
  },
  {
   "cell_type": "code",
   "execution_count": 15,
   "metadata": {
    "vscode": {
     "languageId": "r"
    }
   },
   "outputs": [
    {
     "data": {
      "text/html": [
       "<table>\n",
       "<thead><tr><th scope=col>country</th><th scope=col>iso3c</th><th scope=col>iso2c</th><th scope=col>year</th><th scope=col>Military.expenditure..current.USD.</th><th scope=col>Military.expenditure....of.general.government.expenditure.</th><th scope=col>Military.expenditure....of.GDP.</th><th scope=col>adminregion</th><th scope=col>incomeLevel</th></tr></thead>\n",
       "<tbody>\n",
       "\t<tr><td>Afghanistan</td><td>AFG        </td><td>AF         </td><td>1970       </td><td>2939586    </td><td>NA         </td><td>1.629606   </td><td>South Asia </td><td>Low income </td></tr>\n",
       "\t<tr><td>Afghanistan</td><td>AFG        </td><td>AF         </td><td>1971       </td><td>     NA    </td><td>NA         </td><td>      NA   </td><td>South Asia </td><td>Low income </td></tr>\n",
       "\t<tr><td>Afghanistan</td><td>AFG        </td><td>AF         </td><td>1972       </td><td>     NA    </td><td>NA         </td><td>      NA   </td><td>South Asia </td><td>Low income </td></tr>\n",
       "\t<tr><td>Afghanistan</td><td>AFG        </td><td>AF         </td><td>1973       </td><td>3341272    </td><td>NA         </td><td>1.868910   </td><td>South Asia </td><td>Low income </td></tr>\n",
       "\t<tr><td>Afghanistan</td><td>AFG        </td><td>AF         </td><td>1974       </td><td>3581366    </td><td>NA         </td><td>1.610825   </td><td>South Asia </td><td>Low income </td></tr>\n",
       "\t<tr><td>Afghanistan</td><td>AFG        </td><td>AF         </td><td>1975       </td><td>4203665    </td><td>NA         </td><td>1.722066   </td><td>South Asia </td><td>Low income </td></tr>\n",
       "</tbody>\n",
       "</table>\n"
      ],
      "text/latex": [
       "\\begin{tabular}{r|lllllllll}\n",
       " country & iso3c & iso2c & year & Military.expenditure..current.USD. & Military.expenditure....of.general.government.expenditure. & Military.expenditure....of.GDP. & adminregion & incomeLevel\\\\\n",
       "\\hline\n",
       "\t Afghanistan & AFG         & AF          & 1970        & 2939586     & NA          & 1.629606    & South Asia  & Low income \\\\\n",
       "\t Afghanistan & AFG         & AF          & 1971        &      NA     & NA          &       NA    & South Asia  & Low income \\\\\n",
       "\t Afghanistan & AFG         & AF          & 1972        &      NA     & NA          &       NA    & South Asia  & Low income \\\\\n",
       "\t Afghanistan & AFG         & AF          & 1973        & 3341272     & NA          & 1.868910    & South Asia  & Low income \\\\\n",
       "\t Afghanistan & AFG         & AF          & 1974        & 3581366     & NA          & 1.610825    & South Asia  & Low income \\\\\n",
       "\t Afghanistan & AFG         & AF          & 1975        & 4203665     & NA          & 1.722066    & South Asia  & Low income \\\\\n",
       "\\end{tabular}\n"
      ],
      "text/markdown": [
       "\n",
       "| country | iso3c | iso2c | year | Military.expenditure..current.USD. | Military.expenditure....of.general.government.expenditure. | Military.expenditure....of.GDP. | adminregion | incomeLevel |\n",
       "|---|---|---|---|---|---|---|---|---|\n",
       "| Afghanistan | AFG         | AF          | 1970        | 2939586     | NA          | 1.629606    | South Asia  | Low income  |\n",
       "| Afghanistan | AFG         | AF          | 1971        |      NA     | NA          |       NA    | South Asia  | Low income  |\n",
       "| Afghanistan | AFG         | AF          | 1972        |      NA     | NA          |       NA    | South Asia  | Low income  |\n",
       "| Afghanistan | AFG         | AF          | 1973        | 3341272     | NA          | 1.868910    | South Asia  | Low income  |\n",
       "| Afghanistan | AFG         | AF          | 1974        | 3581366     | NA          | 1.610825    | South Asia  | Low income  |\n",
       "| Afghanistan | AFG         | AF          | 1975        | 4203665     | NA          | 1.722066    | South Asia  | Low income  |\n",
       "\n"
      ],
      "text/plain": [
       "  country     iso3c iso2c year Military.expenditure..current.USD.\n",
       "1 Afghanistan AFG   AF    1970 2939586                           \n",
       "2 Afghanistan AFG   AF    1971      NA                           \n",
       "3 Afghanistan AFG   AF    1972      NA                           \n",
       "4 Afghanistan AFG   AF    1973 3341272                           \n",
       "5 Afghanistan AFG   AF    1974 3581366                           \n",
       "6 Afghanistan AFG   AF    1975 4203665                           \n",
       "  Military.expenditure....of.general.government.expenditure.\n",
       "1 NA                                                        \n",
       "2 NA                                                        \n",
       "3 NA                                                        \n",
       "4 NA                                                        \n",
       "5 NA                                                        \n",
       "6 NA                                                        \n",
       "  Military.expenditure....of.GDP. adminregion incomeLevel\n",
       "1 1.629606                        South Asia  Low income \n",
       "2       NA                        South Asia  Low income \n",
       "3       NA                        South Asia  Low income \n",
       "4 1.868910                        South Asia  Low income \n",
       "5 1.610825                        South Asia  Low income \n",
       "6 1.722066                        South Asia  Low income "
      ]
     },
     "metadata": {},
     "output_type": "display_data"
    }
   ],
   "source": [
    "head(d)"
   ]
  },
  {
   "cell_type": "markdown",
   "metadata": {},
   "source": [
    "### Dropping some unnecessary columns"
   ]
  },
  {
   "cell_type": "code",
   "execution_count": 16,
   "metadata": {
    "vscode": {
     "languageId": "r"
    }
   },
   "outputs": [
    {
     "data": {
      "text/html": [
       "<table>\n",
       "<thead><tr><th scope=col>country</th><th scope=col>year</th><th scope=col>Military.expenditure..current.USD.</th><th scope=col>adminregion</th><th scope=col>incomeLevel</th></tr></thead>\n",
       "<tbody>\n",
       "\t<tr><td>Afghanistan</td><td>1970       </td><td>2939586    </td><td>South Asia </td><td>Low income </td></tr>\n",
       "\t<tr><td>Afghanistan</td><td>1971       </td><td>     NA    </td><td>South Asia </td><td>Low income </td></tr>\n",
       "\t<tr><td>Afghanistan</td><td>1972       </td><td>     NA    </td><td>South Asia </td><td>Low income </td></tr>\n",
       "\t<tr><td>Afghanistan</td><td>1973       </td><td>3341272    </td><td>South Asia </td><td>Low income </td></tr>\n",
       "\t<tr><td>Afghanistan</td><td>1974       </td><td>3581366    </td><td>South Asia </td><td>Low income </td></tr>\n",
       "\t<tr><td>Afghanistan</td><td>1975       </td><td>4203665    </td><td>South Asia </td><td>Low income </td></tr>\n",
       "</tbody>\n",
       "</table>\n"
      ],
      "text/latex": [
       "\\begin{tabular}{r|lllll}\n",
       " country & year & Military.expenditure..current.USD. & adminregion & incomeLevel\\\\\n",
       "\\hline\n",
       "\t Afghanistan & 1970        & 2939586     & South Asia  & Low income \\\\\n",
       "\t Afghanistan & 1971        &      NA     & South Asia  & Low income \\\\\n",
       "\t Afghanistan & 1972        &      NA     & South Asia  & Low income \\\\\n",
       "\t Afghanistan & 1973        & 3341272     & South Asia  & Low income \\\\\n",
       "\t Afghanistan & 1974        & 3581366     & South Asia  & Low income \\\\\n",
       "\t Afghanistan & 1975        & 4203665     & South Asia  & Low income \\\\\n",
       "\\end{tabular}\n"
      ],
      "text/markdown": [
       "\n",
       "| country | year | Military.expenditure..current.USD. | adminregion | incomeLevel |\n",
       "|---|---|---|---|---|\n",
       "| Afghanistan | 1970        | 2939586     | South Asia  | Low income  |\n",
       "| Afghanistan | 1971        |      NA     | South Asia  | Low income  |\n",
       "| Afghanistan | 1972        |      NA     | South Asia  | Low income  |\n",
       "| Afghanistan | 1973        | 3341272     | South Asia  | Low income  |\n",
       "| Afghanistan | 1974        | 3581366     | South Asia  | Low income  |\n",
       "| Afghanistan | 1975        | 4203665     | South Asia  | Low income  |\n",
       "\n"
      ],
      "text/plain": [
       "  country     year Military.expenditure..current.USD. adminregion incomeLevel\n",
       "1 Afghanistan 1970 2939586                            South Asia  Low income \n",
       "2 Afghanistan 1971      NA                            South Asia  Low income \n",
       "3 Afghanistan 1972      NA                            South Asia  Low income \n",
       "4 Afghanistan 1973 3341272                            South Asia  Low income \n",
       "5 Afghanistan 1974 3581366                            South Asia  Low income \n",
       "6 Afghanistan 1975 4203665                            South Asia  Low income "
      ]
     },
     "metadata": {},
     "output_type": "display_data"
    }
   ],
   "source": [
    "d = select(d, -iso3c, -iso2c, -Military.expenditure....of.general.government.expenditure.,-Military.expenditure....of.GDP. )\n",
    "head(d)"
   ]
  },
  {
   "cell_type": "markdown",
   "metadata": {},
   "source": [
    "### Grouping Data Based on Country"
   ]
  },
  {
   "cell_type": "code",
   "execution_count": 17,
   "metadata": {
    "vscode": {
     "languageId": "r"
    }
   },
   "outputs": [
    {
     "data": {
      "text/html": [
       "<table>\n",
       "<thead><tr><th scope=col>country</th><th scope=col>Military.expenditure..current.USD.</th></tr></thead>\n",
       "<tbody>\n",
       "\t<tr><td>Afghanistan                </td><td>  3745003521               </td></tr>\n",
       "\t<tr><td>Africa Eastern and Southern</td><td>385573473388               </td></tr>\n",
       "\t<tr><td>Africa Western and Central </td><td>140254858738               </td></tr>\n",
       "\t<tr><td>Albania                    </td><td>  3469019068               </td></tr>\n",
       "\t<tr><td>Algeria                    </td><td>161646507209               </td></tr>\n",
       "\t<tr><td>Angola                     </td><td> 72581114339               </td></tr>\n",
       "</tbody>\n",
       "</table>\n"
      ],
      "text/latex": [
       "\\begin{tabular}{r|ll}\n",
       " country & Military.expenditure..current.USD.\\\\\n",
       "\\hline\n",
       "\t Afghanistan                 &   3745003521               \\\\\n",
       "\t Africa Eastern and Southern & 385573473388               \\\\\n",
       "\t Africa Western and Central  & 140254858738               \\\\\n",
       "\t Albania                     &   3469019068               \\\\\n",
       "\t Algeria                     & 161646507209               \\\\\n",
       "\t Angola                      &  72581114339               \\\\\n",
       "\\end{tabular}\n"
      ],
      "text/markdown": [
       "\n",
       "| country | Military.expenditure..current.USD. |\n",
       "|---|---|\n",
       "| Afghanistan                 |   3745003521                |\n",
       "| Africa Eastern and Southern | 385573473388                |\n",
       "| Africa Western and Central  | 140254858738                |\n",
       "| Albania                     |   3469019068                |\n",
       "| Algeria                     | 161646507209                |\n",
       "| Angola                      |  72581114339                |\n",
       "\n"
      ],
      "text/plain": [
       "  country                     Military.expenditure..current.USD.\n",
       "1 Afghanistan                   3745003521                      \n",
       "2 Africa Eastern and Southern 385573473388                      \n",
       "3 Africa Western and Central  140254858738                      \n",
       "4 Albania                       3469019068                      \n",
       "5 Algeria                     161646507209                      \n",
       "6 Angola                       72581114339                      "
      ]
     },
     "metadata": {},
     "output_type": "display_data"
    }
   ],
   "source": [
    "total_expenditure_of_each_country = aggregate(Military.expenditure..current.USD. ~ country, d, sum)\n",
    "head(total_expenditure_of_each_country)"
   ]
  },
  {
   "cell_type": "markdown",
   "metadata": {},
   "source": [
    "### Arranging data in ascending order"
   ]
  },
  {
   "cell_type": "code",
   "execution_count": 18,
   "metadata": {
    "vscode": {
     "languageId": "r"
    }
   },
   "outputs": [
    {
     "data": {
      "text/html": [
       "<table>\n",
       "<thead><tr><th scope=col>country</th><th scope=col>Military.expenditure..current.USD.</th></tr></thead>\n",
       "<tbody>\n",
       "\t<tr><td>Costa Rica   </td><td>        0    </td></tr>\n",
       "\t<tr><td>Iceland      </td><td>        0    </td></tr>\n",
       "\t<tr><td>Haiti        </td><td> 17802968    </td></tr>\n",
       "\t<tr><td>Gambia, The  </td><td>182344841    </td></tr>\n",
       "\t<tr><td>Cabo Verde   </td><td>232528838    </td></tr>\n",
       "\t<tr><td>Guinea-Bissau</td><td>339454606    </td></tr>\n",
       "</tbody>\n",
       "</table>\n"
      ],
      "text/latex": [
       "\\begin{tabular}{r|ll}\n",
       " country & Military.expenditure..current.USD.\\\\\n",
       "\\hline\n",
       "\t Costa Rica    &         0    \\\\\n",
       "\t Iceland       &         0    \\\\\n",
       "\t Haiti         &  17802968    \\\\\n",
       "\t Gambia, The   & 182344841    \\\\\n",
       "\t Cabo Verde    & 232528838    \\\\\n",
       "\t Guinea-Bissau & 339454606    \\\\\n",
       "\\end{tabular}\n"
      ],
      "text/markdown": [
       "\n",
       "| country | Military.expenditure..current.USD. |\n",
       "|---|---|\n",
       "| Costa Rica    |         0     |\n",
       "| Iceland       |         0     |\n",
       "| Haiti         |  17802968     |\n",
       "| Gambia, The   | 182344841     |\n",
       "| Cabo Verde    | 232528838     |\n",
       "| Guinea-Bissau | 339454606     |\n",
       "\n"
      ],
      "text/plain": [
       "  country       Military.expenditure..current.USD.\n",
       "1 Costa Rica            0                         \n",
       "2 Iceland               0                         \n",
       "3 Haiti          17802968                         \n",
       "4 Gambia, The   182344841                         \n",
       "5 Cabo Verde    232528838                         \n",
       "6 Guinea-Bissau 339454606                         "
      ]
     },
     "metadata": {},
     "output_type": "display_data"
    }
   ],
   "source": [
    "x =  arrange(total_expenditure_of_each_country, Military.expenditure..current.USD.)\n",
    "head(x)"
   ]
  },
  {
   "cell_type": "markdown",
   "metadata": {},
   "source": [
    "### Arranging data in descending order"
   ]
  },
  {
   "cell_type": "code",
   "execution_count": 19,
   "metadata": {
    "vscode": {
     "languageId": "r"
    }
   },
   "outputs": [
    {
     "data": {
      "text/html": [
       "<table>\n",
       "<thead><tr><th scope=col>country</th><th scope=col>Military.expenditure..current.USD.</th></tr></thead>\n",
       "<tbody>\n",
       "\t<tr><td>World                    </td><td>4.169373e+13             </td></tr>\n",
       "\t<tr><td>High income              </td><td>3.495713e+13             </td></tr>\n",
       "\t<tr><td>OECD members             </td><td>3.320718e+13             </td></tr>\n",
       "\t<tr><td>Post-demographic dividend</td><td>3.181072e+13             </td></tr>\n",
       "\t<tr><td>North America            </td><td>1.971774e+13             </td></tr>\n",
       "\t<tr><td>United States            </td><td>1.916477e+13             </td></tr>\n",
       "\t<tr><td><span style=white-space:pre-wrap>IDA &amp; IBRD total         </span></td><td>9.230720e+12                                                         </td></tr>\n",
       "\t<tr><td><span style=white-space:pre-wrap>Low &amp; middle income      </span></td><td>8.818343e+12                                                         </td></tr>\n",
       "\t<tr><td>Middle income            </td><td>8.644322e+12             </td></tr>\n",
       "\t<tr><td>IBRD only                </td><td>8.525905e+12             </td></tr>\n",
       "</tbody>\n",
       "</table>\n"
      ],
      "text/latex": [
       "\\begin{tabular}{r|ll}\n",
       " country & Military.expenditure..current.USD.\\\\\n",
       "\\hline\n",
       "\t World                     & 4.169373e+13             \\\\\n",
       "\t High income               & 3.495713e+13             \\\\\n",
       "\t OECD members              & 3.320718e+13             \\\\\n",
       "\t Post-demographic dividend & 3.181072e+13             \\\\\n",
       "\t North America             & 1.971774e+13             \\\\\n",
       "\t United States             & 1.916477e+13             \\\\\n",
       "\t IDA \\& IBRD total          & 9.230720e+12               \\\\\n",
       "\t Low \\& middle income       & 8.818343e+12               \\\\\n",
       "\t Middle income             & 8.644322e+12             \\\\\n",
       "\t IBRD only                 & 8.525905e+12             \\\\\n",
       "\\end{tabular}\n"
      ],
      "text/markdown": [
       "\n",
       "| country | Military.expenditure..current.USD. |\n",
       "|---|---|\n",
       "| World                     | 4.169373e+13              |\n",
       "| High income               | 3.495713e+13              |\n",
       "| OECD members              | 3.320718e+13              |\n",
       "| Post-demographic dividend | 3.181072e+13              |\n",
       "| North America             | 1.971774e+13              |\n",
       "| United States             | 1.916477e+13              |\n",
       "| IDA & IBRD total          | 9.230720e+12              |\n",
       "| Low & middle income       | 8.818343e+12              |\n",
       "| Middle income             | 8.644322e+12              |\n",
       "| IBRD only                 | 8.525905e+12              |\n",
       "\n"
      ],
      "text/plain": [
       "   country                   Military.expenditure..current.USD.\n",
       "1  World                     4.169373e+13                      \n",
       "2  High income               3.495713e+13                      \n",
       "3  OECD members              3.320718e+13                      \n",
       "4  Post-demographic dividend 3.181072e+13                      \n",
       "5  North America             1.971774e+13                      \n",
       "6  United States             1.916477e+13                      \n",
       "7  IDA & IBRD total          9.230720e+12                      \n",
       "8  Low & middle income       8.818343e+12                      \n",
       "9  Middle income             8.644322e+12                      \n",
       "10 IBRD only                 8.525905e+12                      "
      ]
     },
     "metadata": {},
     "output_type": "display_data"
    }
   ],
   "source": [
    "y =  arrange(total_expenditure_of_each_country, -Military.expenditure..current.USD.)\n",
    "head(y, 10)"
   ]
  },
  {
   "cell_type": "markdown",
   "metadata": {},
   "source": [
    "### Dropping all rows which are not country"
   ]
  },
  {
   "cell_type": "code",
   "execution_count": 20,
   "metadata": {
    "vscode": {
     "languageId": "r"
    }
   },
   "outputs": [
    {
     "data": {
      "text/html": [
       "<table>\n",
       "<thead><tr><th></th><th scope=col>country</th><th scope=col>Military.expenditure..current.USD.</th></tr></thead>\n",
       "<tbody>\n",
       "\t<tr><th scope=row>6</th><td>United States     </td><td>1.916477e+13      </td></tr>\n",
       "\t<tr><th scope=row>22</th><td>China             </td><td>2.680075e+12      </td></tr>\n",
       "\t<tr><th scope=row>24</th><td>United Kingdom    </td><td>2.066502e+12      </td></tr>\n",
       "\t<tr><th scope=row>27</th><td>France            </td><td>1.672982e+12      </td></tr>\n",
       "\t<tr><th scope=row>28</th><td>Japan             </td><td>1.599862e+12      </td></tr>\n",
       "\t<tr><th scope=row>29</th><td>Germany           </td><td>1.571645e+12      </td></tr>\n",
       "\t<tr><th scope=row>32</th><td>Saudi Arabia      </td><td>1.366144e+12      </td></tr>\n",
       "\t<tr><th scope=row>38</th><td>Russian Federation</td><td>1.142354e+12      </td></tr>\n",
       "\t<tr><th scope=row>39</th><td>India             </td><td>1.064878e+12      </td></tr>\n",
       "\t<tr><th scope=row>40</th><td>Italy             </td><td>9.435370e+11      </td></tr>\n",
       "</tbody>\n",
       "</table>\n"
      ],
      "text/latex": [
       "\\begin{tabular}{r|ll}\n",
       "  & country & Military.expenditure..current.USD.\\\\\n",
       "\\hline\n",
       "\t6 & United States      & 1.916477e+13      \\\\\n",
       "\t22 & China              & 2.680075e+12      \\\\\n",
       "\t24 & United Kingdom     & 2.066502e+12      \\\\\n",
       "\t27 & France             & 1.672982e+12      \\\\\n",
       "\t28 & Japan              & 1.599862e+12      \\\\\n",
       "\t29 & Germany            & 1.571645e+12      \\\\\n",
       "\t32 & Saudi Arabia       & 1.366144e+12      \\\\\n",
       "\t38 & Russian Federation & 1.142354e+12      \\\\\n",
       "\t39 & India              & 1.064878e+12      \\\\\n",
       "\t40 & Italy              & 9.435370e+11      \\\\\n",
       "\\end{tabular}\n"
      ],
      "text/markdown": [
       "\n",
       "| <!--/--> | country | Military.expenditure..current.USD. |\n",
       "|---|---|---|\n",
       "| 6 | United States      | 1.916477e+13       |\n",
       "| 22 | China              | 2.680075e+12       |\n",
       "| 24 | United Kingdom     | 2.066502e+12       |\n",
       "| 27 | France             | 1.672982e+12       |\n",
       "| 28 | Japan              | 1.599862e+12       |\n",
       "| 29 | Germany            | 1.571645e+12       |\n",
       "| 32 | Saudi Arabia       | 1.366144e+12       |\n",
       "| 38 | Russian Federation | 1.142354e+12       |\n",
       "| 39 | India              | 1.064878e+12       |\n",
       "| 40 | Italy              | 9.435370e+11       |\n",
       "\n"
      ],
      "text/plain": [
       "   country            Military.expenditure..current.USD.\n",
       "6  United States      1.916477e+13                      \n",
       "22 China              2.680075e+12                      \n",
       "24 United Kingdom     2.066502e+12                      \n",
       "27 France             1.672982e+12                      \n",
       "28 Japan              1.599862e+12                      \n",
       "29 Germany            1.571645e+12                      \n",
       "32 Saudi Arabia       1.366144e+12                      \n",
       "38 Russian Federation 1.142354e+12                      \n",
       "39 India              1.064878e+12                      \n",
       "40 Italy              9.435370e+11                      "
      ]
     },
     "metadata": {},
     "output_type": "display_data"
    }
   ],
   "source": [
    "y1 = y[!(y$country == 'World' | y$country == 'High income' | y$country == 'OECD members' | y$country == 'Post-demographic dividend' |\n",
    "y$country == 'North America' | y$country == 'IDA & IBRD total' | y$country == 'Low & middle income' | y$country == 'Middle income' | \n",
    "y$country == 'IBRD only' |  y$country == 'Europe & Central Asia' | y$country == 'European Union' | y$country == 'East Asia & Pacific' |\n",
    "y$country == 'Late-demographic dividend' | y$country == 'Upper middle income' | y$country == 'Euro area' | y$country == 'Early-demographic dividend' |\n",
    "y$country == 'Middle East & North Africa' | y$country == 'East Asia & Pacific (excluding high income)' | \n",
    "y$country == 'East Asia & Pacific (IDA & IBRD countries)' | y$country == 'Lower middle income' | \n",
    "y$country == 'Arab World' | y$country == 'Europe & Central Asia (IDA & IBRD countries)' | \n",
    "y$country =='Europe & Central Asia (excluding high income)' | y$country == 'Latin America & Caribbean' | \n",
    "y$country == 'Latin America & the Caribbean (IDA & IBRD countries)' | y$country == 'South Asia' |\n",
    "y$country == 'South Asia (IDA & IBRD)' | y$country == 'Latin America & Caribbean (excluding high income)' |\n",
    "y$country == 'Middle East & North Africa (excluding high income)' | y$country == 'Middle East & North Africa (IDA & IBRD countries)' |\n",
    "y$country == 'IDA total' | y$country == 'Fragile and conflict affected situations' | \n",
    "y$country == 'Sub-Saharan Africa' | y$country == 'Sub-Saharan Africa (IDA & IBRD countries)' |\n",
    "y$country == 'Sub-Saharan Africa (excluding high income)' | y$country == 'IDA only' | y$country == 'Pre-demographic dividend' |\n",
    " y$country == 'Africa Eastern and Southern' | y$country == 'Least developed countries: UN classification' |\n",
    "y$country == 'Central Europe and the Baltics' | y$country == 'IDA blend' | y$country == 'Low income' |\n",
    "y$country == 'Heavily indebted poor countries (HIPC)' | y$country == 'Africa Western and Central' |\n",
    "y$country == 'Small states' | y$country == 'Other small states') ,]\n",
    "\n",
    "head(y1, 10)    # dropping all rows which are not countries"
   ]
  },
  {
   "cell_type": "markdown",
   "metadata": {},
   "source": [
    "### Removing the index column"
   ]
  },
  {
   "cell_type": "code",
   "execution_count": 21,
   "metadata": {
    "vscode": {
     "languageId": "r"
    }
   },
   "outputs": [
    {
     "data": {
      "text/html": [
       "<table>\n",
       "<thead><tr><th scope=col>country</th><th scope=col>Military.expenditure..current.USD.</th></tr></thead>\n",
       "<tbody>\n",
       "\t<tr><td>United States </td><td>1.916477e+13  </td></tr>\n",
       "\t<tr><td>China         </td><td>2.680075e+12  </td></tr>\n",
       "\t<tr><td>United Kingdom</td><td>2.066502e+12  </td></tr>\n",
       "\t<tr><td>France        </td><td>1.672982e+12  </td></tr>\n",
       "\t<tr><td>Japan         </td><td>1.599862e+12  </td></tr>\n",
       "\t<tr><td>Germany       </td><td>1.571645e+12  </td></tr>\n",
       "</tbody>\n",
       "</table>\n"
      ],
      "text/latex": [
       "\\begin{tabular}{r|ll}\n",
       " country & Military.expenditure..current.USD.\\\\\n",
       "\\hline\n",
       "\t United States  & 1.916477e+13  \\\\\n",
       "\t China          & 2.680075e+12  \\\\\n",
       "\t United Kingdom & 2.066502e+12  \\\\\n",
       "\t France         & 1.672982e+12  \\\\\n",
       "\t Japan          & 1.599862e+12  \\\\\n",
       "\t Germany        & 1.571645e+12  \\\\\n",
       "\\end{tabular}\n"
      ],
      "text/markdown": [
       "\n",
       "| country | Military.expenditure..current.USD. |\n",
       "|---|---|\n",
       "| United States  | 1.916477e+13   |\n",
       "| China          | 2.680075e+12   |\n",
       "| United Kingdom | 2.066502e+12   |\n",
       "| France         | 1.672982e+12   |\n",
       "| Japan          | 1.599862e+12   |\n",
       "| Germany        | 1.571645e+12   |\n",
       "\n"
      ],
      "text/plain": [
       "  country        Military.expenditure..current.USD.\n",
       "1 United States  1.916477e+13                      \n",
       "2 China          2.680075e+12                      \n",
       "3 United Kingdom 2.066502e+12                      \n",
       "4 France         1.672982e+12                      \n",
       "5 Japan          1.599862e+12                      \n",
       "6 Germany        1.571645e+12                      "
      ]
     },
     "metadata": {},
     "output_type": "display_data"
    }
   ],
   "source": [
    "row.names(y1) = NULL  # for removing index\n",
    "head(y1)"
   ]
  },
  {
   "cell_type": "markdown",
   "metadata": {},
   "source": [
    "### Total military expenditure of the whole world"
   ]
  },
  {
   "cell_type": "code",
   "execution_count": 22,
   "metadata": {
    "vscode": {
     "languageId": "r"
    }
   },
   "outputs": [
    {
     "data": {
      "text/html": [
       "44372412122452.1"
      ],
      "text/latex": [
       "44372412122452.1"
      ],
      "text/markdown": [
       "44372412122452.1"
      ],
      "text/plain": [
       "[1] 4.437241e+13"
      ]
     },
     "metadata": {},
     "output_type": "display_data"
    }
   ],
   "source": [
    "sum(y1$Military.expenditure..current.USD.)  # total expenditure of whole world"
   ]
  },
  {
   "cell_type": "markdown",
   "metadata": {},
   "source": [
    "### Top 10 countries with highest military spending"
   ]
  },
  {
   "cell_type": "code",
   "execution_count": 23,
   "metadata": {
    "vscode": {
     "languageId": "r"
    }
   },
   "outputs": [
    {
     "data": {
      "text/html": [
       "<table>\n",
       "<thead><tr><th scope=col>country</th><th scope=col>Military.expenditure..current.USD.</th></tr></thead>\n",
       "<tbody>\n",
       "\t<tr><td>United States     </td><td>1.916477e+13      </td></tr>\n",
       "\t<tr><td>China             </td><td>2.680075e+12      </td></tr>\n",
       "\t<tr><td>United Kingdom    </td><td>2.066502e+12      </td></tr>\n",
       "\t<tr><td>France            </td><td>1.672982e+12      </td></tr>\n",
       "\t<tr><td>Japan             </td><td>1.599862e+12      </td></tr>\n",
       "\t<tr><td>Germany           </td><td>1.571645e+12      </td></tr>\n",
       "\t<tr><td>Saudi Arabia      </td><td>1.366144e+12      </td></tr>\n",
       "\t<tr><td>Russian Federation</td><td>1.142354e+12      </td></tr>\n",
       "\t<tr><td>India             </td><td>1.064878e+12      </td></tr>\n",
       "\t<tr><td>Italy             </td><td>9.435370e+11      </td></tr>\n",
       "</tbody>\n",
       "</table>\n"
      ],
      "text/latex": [
       "\\begin{tabular}{r|ll}\n",
       " country & Military.expenditure..current.USD.\\\\\n",
       "\\hline\n",
       "\t United States      & 1.916477e+13      \\\\\n",
       "\t China              & 2.680075e+12      \\\\\n",
       "\t United Kingdom     & 2.066502e+12      \\\\\n",
       "\t France             & 1.672982e+12      \\\\\n",
       "\t Japan              & 1.599862e+12      \\\\\n",
       "\t Germany            & 1.571645e+12      \\\\\n",
       "\t Saudi Arabia       & 1.366144e+12      \\\\\n",
       "\t Russian Federation & 1.142354e+12      \\\\\n",
       "\t India              & 1.064878e+12      \\\\\n",
       "\t Italy              & 9.435370e+11      \\\\\n",
       "\\end{tabular}\n"
      ],
      "text/markdown": [
       "\n",
       "| country | Military.expenditure..current.USD. |\n",
       "|---|---|\n",
       "| United States      | 1.916477e+13       |\n",
       "| China              | 2.680075e+12       |\n",
       "| United Kingdom     | 2.066502e+12       |\n",
       "| France             | 1.672982e+12       |\n",
       "| Japan              | 1.599862e+12       |\n",
       "| Germany            | 1.571645e+12       |\n",
       "| Saudi Arabia       | 1.366144e+12       |\n",
       "| Russian Federation | 1.142354e+12       |\n",
       "| India              | 1.064878e+12       |\n",
       "| Italy              | 9.435370e+11       |\n",
       "\n"
      ],
      "text/plain": [
       "   country            Military.expenditure..current.USD.\n",
       "1  United States      1.916477e+13                      \n",
       "2  China              2.680075e+12                      \n",
       "3  United Kingdom     2.066502e+12                      \n",
       "4  France             1.672982e+12                      \n",
       "5  Japan              1.599862e+12                      \n",
       "6  Germany            1.571645e+12                      \n",
       "7  Saudi Arabia       1.366144e+12                      \n",
       "8  Russian Federation 1.142354e+12                      \n",
       "9  India              1.064878e+12                      \n",
       "10 Italy              9.435370e+11                      "
      ]
     },
     "metadata": {},
     "output_type": "display_data"
    }
   ],
   "source": [
    "highest_military_spending = head(y1,10) # top 10 countries with highest military spending\n",
    "highest_military_spending"
   ]
  },
  {
   "cell_type": "markdown",
   "metadata": {},
   "source": [
    "### Top 10 countries with lowest military spending"
   ]
  },
  {
   "cell_type": "code",
   "execution_count": 24,
   "metadata": {
    "vscode": {
     "languageId": "r"
    }
   },
   "outputs": [
    {
     "data": {
      "text/html": [
       "<table>\n",
       "<thead><tr><th></th><th scope=col>country</th><th scope=col>Military.expenditure..current.USD.</th></tr></thead>\n",
       "<tbody>\n",
       "\t<tr><th scope=row>159</th><td>Seychelles   </td><td>507377670    </td></tr>\n",
       "\t<tr><th scope=row>160</th><td>Mauritius    </td><td>487969385    </td></tr>\n",
       "\t<tr><th scope=row>161</th><td>Timor-Leste  </td><td>432900000    </td></tr>\n",
       "\t<tr><th scope=row>162</th><td>Belize       </td><td>407204875    </td></tr>\n",
       "\t<tr><th scope=row>163</th><td>Guinea-Bissau</td><td>339454606    </td></tr>\n",
       "\t<tr><th scope=row>164</th><td>Cabo Verde   </td><td>232528838    </td></tr>\n",
       "\t<tr><th scope=row>165</th><td>Gambia, The  </td><td>182344841    </td></tr>\n",
       "\t<tr><th scope=row>166</th><td>Haiti        </td><td> 17802968    </td></tr>\n",
       "\t<tr><th scope=row>167</th><td>Costa Rica   </td><td>        0    </td></tr>\n",
       "\t<tr><th scope=row>168</th><td>Iceland      </td><td>        0    </td></tr>\n",
       "</tbody>\n",
       "</table>\n"
      ],
      "text/latex": [
       "\\begin{tabular}{r|ll}\n",
       "  & country & Military.expenditure..current.USD.\\\\\n",
       "\\hline\n",
       "\t159 & Seychelles    & 507377670    \\\\\n",
       "\t160 & Mauritius     & 487969385    \\\\\n",
       "\t161 & Timor-Leste   & 432900000    \\\\\n",
       "\t162 & Belize        & 407204875    \\\\\n",
       "\t163 & Guinea-Bissau & 339454606    \\\\\n",
       "\t164 & Cabo Verde    & 232528838    \\\\\n",
       "\t165 & Gambia, The   & 182344841    \\\\\n",
       "\t166 & Haiti         &  17802968    \\\\\n",
       "\t167 & Costa Rica    &         0    \\\\\n",
       "\t168 & Iceland       &         0    \\\\\n",
       "\\end{tabular}\n"
      ],
      "text/markdown": [
       "\n",
       "| <!--/--> | country | Military.expenditure..current.USD. |\n",
       "|---|---|---|\n",
       "| 159 | Seychelles    | 507377670     |\n",
       "| 160 | Mauritius     | 487969385     |\n",
       "| 161 | Timor-Leste   | 432900000     |\n",
       "| 162 | Belize        | 407204875     |\n",
       "| 163 | Guinea-Bissau | 339454606     |\n",
       "| 164 | Cabo Verde    | 232528838     |\n",
       "| 165 | Gambia, The   | 182344841     |\n",
       "| 166 | Haiti         |  17802968     |\n",
       "| 167 | Costa Rica    |         0     |\n",
       "| 168 | Iceland       |         0     |\n",
       "\n"
      ],
      "text/plain": [
       "    country       Military.expenditure..current.USD.\n",
       "159 Seychelles    507377670                         \n",
       "160 Mauritius     487969385                         \n",
       "161 Timor-Leste   432900000                         \n",
       "162 Belize        407204875                         \n",
       "163 Guinea-Bissau 339454606                         \n",
       "164 Cabo Verde    232528838                         \n",
       "165 Gambia, The   182344841                         \n",
       "166 Haiti          17802968                         \n",
       "167 Costa Rica            0                         \n",
       "168 Iceland               0                         "
      ]
     },
     "metadata": {},
     "output_type": "display_data"
    }
   ],
   "source": [
    "lowest_military_spending = tail(y1,10) # top 10 countries with lowest military spending\n",
    "lowest_military_spending"
   ]
  },
  {
   "cell_type": "markdown",
   "metadata": {},
   "source": [
    "### Plotting top 10 countries with highest military spending"
   ]
  },
  {
   "cell_type": "code",
   "execution_count": 25,
   "metadata": {
    "vscode": {
     "languageId": "r"
    }
   },
   "outputs": [
    {
     "data": {
      "image/png": "[encoded data removed]",
      "text/plain": [
       "plot without title"
      ]
     },
     "metadata": {},
     "output_type": "display_data"
    }
   ],
   "source": [
    "highest_expenditure_plot  = ggplot(highest_military_spending, \n",
    "aes(x= reorder(country, Military.expenditure..current.USD. ) , \n",
    "y=Military.expenditure..current.USD., fill = country)) +\n",
    "geom_col()+ ggtitle('Top 10 Countries with Highest Military Spending(1970-2020)') + coord_flip() + \n",
    "theme(legend.position = 'None', axis.text.y = element_text(size = 10))\n",
    "\n",
    "highest_expenditure_plot.labs = highest_expenditure_plot + labs(title = \"Top 10 Countries with Highest Military Spending(1970-2020)\",\n",
    " x = \"Country\", y = \"Military Expenditure in US Dollars\")\n",
    "\n",
    "highest_expenditure_plot.labs"
   ]
  },
  {
   "cell_type": "markdown",
   "metadata": {},
   "source": [
    "### Plotting top 10 countries with lowest military spending"
   ]
  },
  {
   "cell_type": "code",
   "execution_count": 26,
   "metadata": {
    "vscode": {
     "languageId": "r"
    }
   },
   "outputs": [
    {
     "data": {
      "image/png": "[encoded data removed]",
      "text/plain": [
       "plot without title"
      ]
     },
     "metadata": {},
     "output_type": "display_data"
    }
   ],
   "source": [
    "lowest_expenditure_plot  = ggplot(lowest_military_spending, aes(x= reorder(country, Military.expenditure..current.USD. ) , y=Military.expenditure..current.USD., fill = country)) +\n",
    "geom_col()+ ggtitle('Top 10 Countries with Lowest Military Spending(1970-2020)') + coord_flip() + \n",
    "theme(legend.position = 'None', axis.text.y = element_text(size = 10))\n",
    "\n",
    "\n",
    "lowest_expenditure_plot.labs = lowest_expenditure_plot + labs(title = \"Top 10 Countries with Lowest Military Spending(1970-2020)\", x = \"Country\", y = \"Military Expenditure in US Dollars\")\n",
    "lowest_expenditure_plot.labs"
   ]
  },
  {
   "cell_type": "markdown",
   "metadata": {},
   "source": [
    "### Plotting the same above charts in Pie Chart"
   ]
  },
  {
   "cell_type": "code",
   "execution_count": 27,
   "metadata": {
    "vscode": {
     "languageId": "r"
    }
   },
   "outputs": [
    {
     "data": {
      "image/png": "[encoded data removed]",
      "text/plain": [
       "plot without title"
      ]
     },
     "metadata": {},
     "output_type": "display_data"
    }
   ],
   "source": [
    "# Basic piechart\n",
    "H_Plot= ggplot(highest_military_spending, aes(x=\"\", y=Military.expenditure..current.USD., fill=country)) +\n",
    "  geom_bar(stat=\"identity\", width=1, color=\"white\") +\n",
    "  coord_polar(\"y\", start=0) +\n",
    "  theme_void() # remove background, grid, numeric labels\n",
    "  \n",
    "         \n",
    "H_Plot.labs = H_Plot + labs(title = \"Top 10 Countries with Highest Military Spending(1970-2020)\")\n",
    "H_Plot.labs"
   ]
  },
  {
   "cell_type": "code",
   "execution_count": 28,
   "metadata": {
    "vscode": {
     "languageId": "r"
    }
   },
   "outputs": [
    {
     "data": {
      "image/png": "[encoded data removed]",
      "text/plain": [
       "plot without title"
      ]
     },
     "metadata": {},
     "output_type": "display_data"
    }
   ],
   "source": [
    "# Basic piechart\n",
    "L_Plot= ggplot(lowest_military_spending, aes(x=\"\", y=Military.expenditure..current.USD., fill=country)) +\n",
    "  geom_bar(stat=\"identity\", width=1, color=\"white\") +\n",
    "  coord_polar(\"y\", start=0) +\n",
    "  theme_void() # remove background, grid, numeric labels\n",
    "  \n",
    "         \n",
    "L_Plot.labs = L_Plot + labs(title = \"Top 10 Countries with Lowest Military Spending(1970-2020)\")\n",
    "L_Plot.labs"
   ]
  },
  {
   "cell_type": "code",
   "execution_count": 28,
   "metadata": {
    "vscode": {
     "languageId": "r"
    }
   },
   "outputs": [
    {
     "data": {
      "text/html": [
       "<table>\n",
       "<thead><tr><th scope=col>country</th><th scope=col>year</th><th scope=col>Military.expenditure..current.USD.</th><th scope=col>adminregion</th><th scope=col>incomeLevel</th></tr></thead>\n",
       "<tbody>\n",
       "\t<tr><td>Afghanistan</td><td>1970       </td><td>2939586    </td><td>South Asia </td><td>Low income </td></tr>\n",
       "\t<tr><td>Afghanistan</td><td>1971       </td><td>     NA    </td><td>South Asia </td><td>Low income </td></tr>\n",
       "\t<tr><td>Afghanistan</td><td>1972       </td><td>     NA    </td><td>South Asia </td><td>Low income </td></tr>\n",
       "\t<tr><td>Afghanistan</td><td>1973       </td><td>3341272    </td><td>South Asia </td><td>Low income </td></tr>\n",
       "\t<tr><td>Afghanistan</td><td>1974       </td><td>3581366    </td><td>South Asia </td><td>Low income </td></tr>\n",
       "\t<tr><td>Afghanistan</td><td>1975       </td><td>4203665    </td><td>South Asia </td><td>Low income </td></tr>\n",
       "\t<tr><td>Afghanistan</td><td>1976       </td><td>5393251    </td><td>South Asia </td><td>Low income </td></tr>\n",
       "\t<tr><td>Afghanistan</td><td>1977       </td><td>6127288    </td><td>South Asia </td><td>Low income </td></tr>\n",
       "\t<tr><td>Afghanistan</td><td>1978       </td><td>     NA    </td><td>South Asia </td><td>Low income </td></tr>\n",
       "\t<tr><td>Afghanistan</td><td>1979       </td><td>     NA    </td><td>South Asia </td><td>Low income </td></tr>\n",
       "</tbody>\n",
       "</table>\n"
      ],
      "text/latex": [
       "\\begin{tabular}{r|lllll}\n",
       " country & year & Military.expenditure..current.USD. & adminregion & incomeLevel\\\\\n",
       "\\hline\n",
       "\t Afghanistan & 1970        & 2939586     & South Asia  & Low income \\\\\n",
       "\t Afghanistan & 1971        &      NA     & South Asia  & Low income \\\\\n",
       "\t Afghanistan & 1972        &      NA     & South Asia  & Low income \\\\\n",
       "\t Afghanistan & 1973        & 3341272     & South Asia  & Low income \\\\\n",
       "\t Afghanistan & 1974        & 3581366     & South Asia  & Low income \\\\\n",
       "\t Afghanistan & 1975        & 4203665     & South Asia  & Low income \\\\\n",
       "\t Afghanistan & 1976        & 5393251     & South Asia  & Low income \\\\\n",
       "\t Afghanistan & 1977        & 6127288     & South Asia  & Low income \\\\\n",
       "\t Afghanistan & 1978        &      NA     & South Asia  & Low income \\\\\n",
       "\t Afghanistan & 1979        &      NA     & South Asia  & Low income \\\\\n",
       "\\end{tabular}\n"
      ],
      "text/markdown": [
       "\n",
       "| country | year | Military.expenditure..current.USD. | adminregion | incomeLevel |\n",
       "|---|---|---|---|---|\n",
       "| Afghanistan | 1970        | 2939586     | South Asia  | Low income  |\n",
       "| Afghanistan | 1971        |      NA     | South Asia  | Low income  |\n",
       "| Afghanistan | 1972        |      NA     | South Asia  | Low income  |\n",
       "| Afghanistan | 1973        | 3341272     | South Asia  | Low income  |\n",
       "| Afghanistan | 1974        | 3581366     | South Asia  | Low income  |\n",
       "| Afghanistan | 1975        | 4203665     | South Asia  | Low income  |\n",
       "| Afghanistan | 1976        | 5393251     | South Asia  | Low income  |\n",
       "| Afghanistan | 1977        | 6127288     | South Asia  | Low income  |\n",
       "| Afghanistan | 1978        |      NA     | South Asia  | Low income  |\n",
       "| Afghanistan | 1979        |      NA     | South Asia  | Low income  |\n",
       "\n"
      ],
      "text/plain": [
       "   country     year Military.expenditure..current.USD. adminregion incomeLevel\n",
       "1  Afghanistan 1970 2939586                            South Asia  Low income \n",
       "2  Afghanistan 1971      NA                            South Asia  Low income \n",
       "3  Afghanistan 1972      NA                            South Asia  Low income \n",
       "4  Afghanistan 1973 3341272                            South Asia  Low income \n",
       "5  Afghanistan 1974 3581366                            South Asia  Low income \n",
       "6  Afghanistan 1975 4203665                            South Asia  Low income \n",
       "7  Afghanistan 1976 5393251                            South Asia  Low income \n",
       "8  Afghanistan 1977 6127288                            South Asia  Low income \n",
       "9  Afghanistan 1978      NA                            South Asia  Low income \n",
       "10 Afghanistan 1979      NA                            South Asia  Low income "
      ]
     },
     "metadata": {},
     "output_type": "display_data"
    }
   ],
   "source": [
    "d1 = d[!(d$country == 'World' | d$country == 'High income' | d$country == 'OECD members' | d$country == 'Post-demographic dividend' | d$country == 'North America' | d$country == 'IDA & IBRD total' | d$country == 'Low & middle income' | d$country == 'Middle income' | d$country == 'IBRD only' |  d$country == 'Europe & Central Asia' | d$country == 'European Union' | d$country == 'East Asia & Pacific' | d$country == 'Late-demographic dividend' | d$country == 'Upper middle income' | d$country == 'Euro area' | d$country == 'Early-demographic dividend' | d$country == 'Middle East & North Africa' | d$country == 'East Asia & Pacific (excluding high income)' | d$country == 'East Asia & Pacific (IDA & IBRD countries)' | d$country == 'Lower middle income' |  d$country == 'Arab World' | d$country == 'Europe & Central Asia (IDA & IBRD countries)' | d$country =='Europe & Central Asia (excluding high income)' | d$country == 'Latin America & Caribbean' | d$country == 'Latin America & the Caribbean (IDA & IBRD countries)' | d$country == 'South Asia' | d$country == 'South Asia (IDA & IBRD)' | d$country == 'Latin America & Caribbean (excluding high income)' | d$country == 'Middle East & North Africa (excluding high income)' | d$country == 'Middle East & North Africa (IDA & IBRD countries)' | d$country == 'IDA total' | d$country == 'Fragile and conflict affected situations' | d$country == 'Sub-Saharan Africa' | d$country == 'Sub-Saharan Africa (IDA & IBRD countries)' | d$country == 'Sub-Saharan Africa (excluding high income)' | d$country == 'IDA only' | d$country == 'Pre-demographic dividend' | d$country == 'Africa Eastern and Southern' | d$country == 'Least developed countries: UN classification' | d$country == 'Central Europe and the Baltics' | d$country == 'IDA blend' | d$country == 'Low income' | d$country == 'Heavily indebted poor countries (HIPC)' | d$country == 'Africa Western and Central' | d$country == 'Small states' | d$country == 'Other small states') ,]\n",
    "\n",
    "head(d1, 10)"
   ]
  },
  {
   "cell_type": "code",
   "execution_count": 29,
   "metadata": {
    "vscode": {
     "languageId": "r"
    }
   },
   "outputs": [
    {
     "data": {
      "text/html": [
       "<table>\n",
       "<thead><tr><th scope=col>country</th><th scope=col>year</th><th scope=col>Military.expenditure..current.USD.</th></tr></thead>\n",
       "<tbody>\n",
       "\t<tr><td>Afghanistan</td><td>1970       </td><td>2939586    </td></tr>\n",
       "\t<tr><td>Afghanistan</td><td>1971       </td><td>     NA    </td></tr>\n",
       "\t<tr><td>Afghanistan</td><td>1972       </td><td>     NA    </td></tr>\n",
       "\t<tr><td>Afghanistan</td><td>1973       </td><td>3341272    </td></tr>\n",
       "\t<tr><td>Afghanistan</td><td>1974       </td><td>3581366    </td></tr>\n",
       "\t<tr><td>Afghanistan</td><td>1975       </td><td>4203665    </td></tr>\n",
       "</tbody>\n",
       "</table>\n"
      ],
      "text/latex": [
       "\\begin{tabular}{r|lll}\n",
       " country & year & Military.expenditure..current.USD.\\\\\n",
       "\\hline\n",
       "\t Afghanistan & 1970        & 2939586    \\\\\n",
       "\t Afghanistan & 1971        &      NA    \\\\\n",
       "\t Afghanistan & 1972        &      NA    \\\\\n",
       "\t Afghanistan & 1973        & 3341272    \\\\\n",
       "\t Afghanistan & 1974        & 3581366    \\\\\n",
       "\t Afghanistan & 1975        & 4203665    \\\\\n",
       "\\end{tabular}\n"
      ],
      "text/markdown": [
       "\n",
       "| country | year | Military.expenditure..current.USD. |\n",
       "|---|---|---|\n",
       "| Afghanistan | 1970        | 2939586     |\n",
       "| Afghanistan | 1971        |      NA     |\n",
       "| Afghanistan | 1972        |      NA     |\n",
       "| Afghanistan | 1973        | 3341272     |\n",
       "| Afghanistan | 1974        | 3581366     |\n",
       "| Afghanistan | 1975        | 4203665     |\n",
       "\n"
      ],
      "text/plain": [
       "  country     year Military.expenditure..current.USD.\n",
       "1 Afghanistan 1970 2939586                           \n",
       "2 Afghanistan 1971      NA                           \n",
       "3 Afghanistan 1972      NA                           \n",
       "4 Afghanistan 1973 3341272                           \n",
       "5 Afghanistan 1974 3581366                           \n",
       "6 Afghanistan 1975 4203665                           "
      ]
     },
     "metadata": {},
     "output_type": "display_data"
    }
   ],
   "source": [
    "d2 = select(d1, -adminregion, -incomeLevel,)\n",
    "head(d2)"
   ]
  },
  {
   "cell_type": "code",
   "execution_count": 30,
   "metadata": {
    "vscode": {
     "languageId": "r"
    }
   },
   "outputs": [
    {
     "data": {
      "text/html": [
       "<table>\n",
       "<thead><tr><th scope=col>country</th><th scope=col>year</th><th scope=col>Military.expenditure..current.USD.</th></tr></thead>\n",
       "<tbody>\n",
       "\t<tr><td>Afghanistan   </td><td>1970          </td><td> 2939586      </td></tr>\n",
       "\t<tr><td>Albania       </td><td>1970          </td><td>      NA      </td></tr>\n",
       "\t<tr><td>Algeria       </td><td>1970          </td><td>98844251      </td></tr>\n",
       "\t<tr><td>American Samoa</td><td>1970          </td><td>      NA      </td></tr>\n",
       "\t<tr><td>Andorra       </td><td>1970          </td><td>      NA      </td></tr>\n",
       "\t<tr><td>Angola        </td><td>1970          </td><td>      NA      </td></tr>\n",
       "</tbody>\n",
       "</table>\n"
      ],
      "text/latex": [
       "\\begin{tabular}{r|lll}\n",
       " country & year & Military.expenditure..current.USD.\\\\\n",
       "\\hline\n",
       "\t Afghanistan    & 1970           &  2939586      \\\\\n",
       "\t Albania        & 1970           &       NA      \\\\\n",
       "\t Algeria        & 1970           & 98844251      \\\\\n",
       "\t American Samoa & 1970           &       NA      \\\\\n",
       "\t Andorra        & 1970           &       NA      \\\\\n",
       "\t Angola         & 1970           &       NA      \\\\\n",
       "\\end{tabular}\n"
      ],
      "text/markdown": [
       "\n",
       "| country | year | Military.expenditure..current.USD. |\n",
       "|---|---|---|\n",
       "| Afghanistan    | 1970           |  2939586       |\n",
       "| Albania        | 1970           |       NA       |\n",
       "| Algeria        | 1970           | 98844251       |\n",
       "| American Samoa | 1970           |       NA       |\n",
       "| Andorra        | 1970           |       NA       |\n",
       "| Angola         | 1970           |       NA       |\n",
       "\n"
      ],
      "text/plain": [
       "  country        year Military.expenditure..current.USD.\n",
       "1 Afghanistan    1970  2939586                          \n",
       "2 Albania        1970       NA                          \n",
       "3 Algeria        1970 98844251                          \n",
       "4 American Samoa 1970       NA                          \n",
       "5 Andorra        1970       NA                          \n",
       "6 Angola         1970       NA                          "
      ]
     },
     "metadata": {},
     "output_type": "display_data"
    }
   ],
   "source": [
    "year_1970 = d2 %>% filter(year == 1970)  # for single subset\n",
    "head(year_1970)"
   ]
  },
  {
   "cell_type": "code",
   "execution_count": 31,
   "metadata": {
    "vscode": {
     "languageId": "r"
    }
   },
   "outputs": [],
   "source": [
    "year_wise = split(d2, d2$year)   # for multiple subsets\n",
    "new_names = c('1970','1971','1972','1973','1974','1975','1976','1977','1978','1979','1980','1981','1982','1983','1984','1985','1986','1987','1988','1989','1990','1991','1992','1993','1994','1995','1996','1997','1998','1999','2000','2001','2002','2003','2004','2005','2006','2007','2008','2009','2010','2011','2012','2013','2014','2015','2016','2017','2018','2019','2020')\n",
    "for (i in 1:length(year_wise)) {\n",
    "  assign(new_names[i], year_wise[[i]])\n",
    "}"
   ]
  },
  {
   "cell_type": "code",
   "execution_count": 32,
   "metadata": {
    "vscode": {
     "languageId": "r"
    }
   },
   "outputs": [
    {
     "data": {
      "text/html": [
       "<table>\n",
       "<thead><tr><th></th><th scope=col>country</th><th scope=col>year</th><th scope=col>Military.expenditure..current.USD.</th></tr></thead>\n",
       "<tbody>\n",
       "\t<tr><th scope=row>1</th><td>Afghanistan        </td><td>1970               </td><td>  2939586          </td></tr>\n",
       "\t<tr><th scope=row>154</th><td>Albania            </td><td>1970               </td><td>       NA          </td></tr>\n",
       "\t<tr><th scope=row>205</th><td>Algeria            </td><td>1970               </td><td> 98844251          </td></tr>\n",
       "\t<tr><th scope=row>256</th><td>American Samoa     </td><td>1970               </td><td>       NA          </td></tr>\n",
       "\t<tr><th scope=row>307</th><td>Andorra            </td><td>1970               </td><td>       NA          </td></tr>\n",
       "\t<tr><th scope=row>358</th><td>Angola             </td><td>1970               </td><td>       NA          </td></tr>\n",
       "\t<tr><th scope=row>409</th><td>Antigua and Barbuda</td><td>1970               </td><td>       NA          </td></tr>\n",
       "\t<tr><th scope=row>511</th><td>Argentina          </td><td>1970               </td><td>445713894          </td></tr>\n",
       "\t<tr><th scope=row>562</th><td>Armenia            </td><td>1970               </td><td>       NA          </td></tr>\n",
       "\t<tr><th scope=row>613</th><td>Aruba              </td><td>1970               </td><td>       NA          </td></tr>\n",
       "</tbody>\n",
       "</table>\n"
      ],
      "text/latex": [
       "\\begin{tabular}{r|lll}\n",
       "  & country & year & Military.expenditure..current.USD.\\\\\n",
       "\\hline\n",
       "\t1 & Afghanistan         & 1970                &   2939586          \\\\\n",
       "\t154 & Albania             & 1970                &        NA          \\\\\n",
       "\t205 & Algeria             & 1970                &  98844251          \\\\\n",
       "\t256 & American Samoa      & 1970                &        NA          \\\\\n",
       "\t307 & Andorra             & 1970                &        NA          \\\\\n",
       "\t358 & Angola              & 1970                &        NA          \\\\\n",
       "\t409 & Antigua and Barbuda & 1970                &        NA          \\\\\n",
       "\t511 & Argentina           & 1970                & 445713894          \\\\\n",
       "\t562 & Armenia             & 1970                &        NA          \\\\\n",
       "\t613 & Aruba               & 1970                &        NA          \\\\\n",
       "\\end{tabular}\n"
      ],
      "text/markdown": [
       "\n",
       "| <!--/--> | country | year | Military.expenditure..current.USD. |\n",
       "|---|---|---|---|\n",
       "| 1 | Afghanistan         | 1970                |   2939586           |\n",
       "| 154 | Albania             | 1970                |        NA           |\n",
       "| 205 | Algeria             | 1970                |  98844251           |\n",
       "| 256 | American Samoa      | 1970                |        NA           |\n",
       "| 307 | Andorra             | 1970                |        NA           |\n",
       "| 358 | Angola              | 1970                |        NA           |\n",
       "| 409 | Antigua and Barbuda | 1970                |        NA           |\n",
       "| 511 | Argentina           | 1970                | 445713894           |\n",
       "| 562 | Armenia             | 1970                |        NA           |\n",
       "| 613 | Aruba               | 1970                |        NA           |\n",
       "\n"
      ],
      "text/plain": [
       "    country             year Military.expenditure..current.USD.\n",
       "1   Afghanistan         1970   2939586                         \n",
       "154 Albania             1970        NA                         \n",
       "205 Algeria             1970  98844251                         \n",
       "256 American Samoa      1970        NA                         \n",
       "307 Andorra             1970        NA                         \n",
       "358 Angola              1970        NA                         \n",
       "409 Antigua and Barbuda 1970        NA                         \n",
       "511 Argentina           1970 445713894                         \n",
       "562 Armenia             1970        NA                         \n",
       "613 Aruba               1970        NA                         "
      ]
     },
     "metadata": {},
     "output_type": "display_data"
    }
   ],
   "source": [
    "head(`1970`, 10)"
   ]
  },
  {
   "cell_type": "code",
   "execution_count": 33,
   "metadata": {
    "vscode": {
     "languageId": "r"
    }
   },
   "outputs": [
    {
     "data": {
      "text/html": [
       "<table>\n",
       "<thead><tr><th></th><th scope=col>country</th><th scope=col>year</th><th scope=col>Military.expenditure..current.USD.</th></tr></thead>\n",
       "<tbody>\n",
       "\t<tr><th scope=row>31</th><td>Afghanistan        </td><td>2000               </td><td>        NA         </td></tr>\n",
       "\t<tr><th scope=row>184</th><td>Albania            </td><td>2000               </td><td>  45362503         </td></tr>\n",
       "\t<tr><th scope=row>235</th><td>Algeria            </td><td>2000               </td><td>1881163649         </td></tr>\n",
       "\t<tr><th scope=row>286</th><td>American Samoa     </td><td>2000               </td><td>        NA         </td></tr>\n",
       "\t<tr><th scope=row>337</th><td>Andorra            </td><td>2000               </td><td>        NA         </td></tr>\n",
       "\t<tr><th scope=row>388</th><td>Angola             </td><td>2000               </td><td> 583621334         </td></tr>\n",
       "\t<tr><th scope=row>439</th><td>Antigua and Barbuda</td><td>2000               </td><td>        NA         </td></tr>\n",
       "\t<tr><th scope=row>541</th><td>Argentina          </td><td>2000               </td><td>3266633317         </td></tr>\n",
       "\t<tr><th scope=row>592</th><td>Armenia            </td><td>2000               </td><td>  68052142         </td></tr>\n",
       "\t<tr><th scope=row>643</th><td>Aruba              </td><td>2000               </td><td>        NA         </td></tr>\n",
       "</tbody>\n",
       "</table>\n"
      ],
      "text/latex": [
       "\\begin{tabular}{r|lll}\n",
       "  & country & year & Military.expenditure..current.USD.\\\\\n",
       "\\hline\n",
       "\t31 & Afghanistan         & 2000                &         NA         \\\\\n",
       "\t184 & Albania             & 2000                &   45362503         \\\\\n",
       "\t235 & Algeria             & 2000                & 1881163649         \\\\\n",
       "\t286 & American Samoa      & 2000                &         NA         \\\\\n",
       "\t337 & Andorra             & 2000                &         NA         \\\\\n",
       "\t388 & Angola              & 2000                &  583621334         \\\\\n",
       "\t439 & Antigua and Barbuda & 2000                &         NA         \\\\\n",
       "\t541 & Argentina           & 2000                & 3266633317         \\\\\n",
       "\t592 & Armenia             & 2000                &   68052142         \\\\\n",
       "\t643 & Aruba               & 2000                &         NA         \\\\\n",
       "\\end{tabular}\n"
      ],
      "text/markdown": [
       "\n",
       "| <!--/--> | country | year | Military.expenditure..current.USD. |\n",
       "|---|---|---|---|\n",
       "| 31 | Afghanistan         | 2000                |         NA          |\n",
       "| 184 | Albania             | 2000                |   45362503          |\n",
       "| 235 | Algeria             | 2000                | 1881163649          |\n",
       "| 286 | American Samoa      | 2000                |         NA          |\n",
       "| 337 | Andorra             | 2000                |         NA          |\n",
       "| 388 | Angola              | 2000                |  583621334          |\n",
       "| 439 | Antigua and Barbuda | 2000                |         NA          |\n",
       "| 541 | Argentina           | 2000                | 3266633317          |\n",
       "| 592 | Armenia             | 2000                |   68052142          |\n",
       "| 643 | Aruba               | 2000                |         NA          |\n",
       "\n"
      ],
      "text/plain": [
       "    country             year Military.expenditure..current.USD.\n",
       "31  Afghanistan         2000         NA                        \n",
       "184 Albania             2000   45362503                        \n",
       "235 Algeria             2000 1881163649                        \n",
       "286 American Samoa      2000         NA                        \n",
       "337 Andorra             2000         NA                        \n",
       "388 Angola              2000  583621334                        \n",
       "439 Antigua and Barbuda 2000         NA                        \n",
       "541 Argentina           2000 3266633317                        \n",
       "592 Armenia             2000   68052142                        \n",
       "643 Aruba               2000         NA                        "
      ]
     },
     "metadata": {},
     "output_type": "display_data"
    }
   ],
   "source": [
    "head(`2000`, 10)"
   ]
  },
  {
   "cell_type": "markdown",
   "metadata": {},
   "source": [
    "Now we can find the military expenditure in each decade ie (1970-1979, 1980-1989, 1990-1999, 2000-2009, 2010-2019)"
   ]
  },
  {
   "cell_type": "code",
   "execution_count": 34,
   "metadata": {
    "vscode": {
     "languageId": "r"
    }
   },
   "outputs": [
    {
     "data": {
      "text/html": [
       "<table>\n",
       "<thead><tr><th></th><th scope=col>country</th><th scope=col>year</th><th scope=col>Military.expenditure..current.USD.</th></tr></thead>\n",
       "<tbody>\n",
       "\t<tr><th scope=row>1</th><td>Afghanistan   </td><td>1970          </td><td> 2939586      </td></tr>\n",
       "\t<tr><th scope=row>154</th><td>Albania       </td><td>1970          </td><td>      NA      </td></tr>\n",
       "\t<tr><th scope=row>205</th><td>Algeria       </td><td>1970          </td><td>98844251      </td></tr>\n",
       "\t<tr><th scope=row>256</th><td>American Samoa</td><td>1970          </td><td>      NA      </td></tr>\n",
       "\t<tr><th scope=row>307</th><td>Andorra       </td><td>1970          </td><td>      NA      </td></tr>\n",
       "\t<tr><th scope=row>358</th><td>Angola        </td><td>1970          </td><td>      NA      </td></tr>\n",
       "</tbody>\n",
       "</table>\n"
      ],
      "text/latex": [
       "\\begin{tabular}{r|lll}\n",
       "  & country & year & Military.expenditure..current.USD.\\\\\n",
       "\\hline\n",
       "\t1 & Afghanistan    & 1970           &  2939586      \\\\\n",
       "\t154 & Albania        & 1970           &       NA      \\\\\n",
       "\t205 & Algeria        & 1970           & 98844251      \\\\\n",
       "\t256 & American Samoa & 1970           &       NA      \\\\\n",
       "\t307 & Andorra        & 1970           &       NA      \\\\\n",
       "\t358 & Angola         & 1970           &       NA      \\\\\n",
       "\\end{tabular}\n"
      ],
      "text/markdown": [
       "\n",
       "| <!--/--> | country | year | Military.expenditure..current.USD. |\n",
       "|---|---|---|---|\n",
       "| 1 | Afghanistan    | 1970           |  2939586       |\n",
       "| 154 | Albania        | 1970           |       NA       |\n",
       "| 205 | Algeria        | 1970           | 98844251       |\n",
       "| 256 | American Samoa | 1970           |       NA       |\n",
       "| 307 | Andorra        | 1970           |       NA       |\n",
       "| 358 | Angola         | 1970           |       NA       |\n",
       "\n"
      ],
      "text/plain": [
       "    country        year Military.expenditure..current.USD.\n",
       "1   Afghanistan    1970  2939586                          \n",
       "154 Albania        1970       NA                          \n",
       "205 Algeria        1970 98844251                          \n",
       "256 American Samoa 1970       NA                          \n",
       "307 Andorra        1970       NA                          \n",
       "358 Angola         1970       NA                          "
      ]
     },
     "metadata": {},
     "output_type": "display_data"
    }
   ],
   "source": [
    "decade_1970_1979 = rbind(`1970`,`1971`,`1972`,`1973`,`1974`,`1975`,`1976`,`1977`,`1978`,`1979`)\n",
    "head(decade_1970_1979)"
   ]
  },
  {
   "cell_type": "code",
   "execution_count": 35,
   "metadata": {
    "vscode": {
     "languageId": "r"
    }
   },
   "outputs": [
    {
     "data": {
      "text/html": [
       "<table>\n",
       "<thead><tr><th scope=col>country</th><th scope=col>Military.expenditure..current.USD.</th></tr></thead>\n",
       "<tbody>\n",
       "\t<tr><td>Afghanistan</td><td>   25586427</td></tr>\n",
       "\t<tr><td>Algeria    </td><td> 3329754752</td></tr>\n",
       "\t<tr><td>Angola     </td><td>  847984491</td></tr>\n",
       "\t<tr><td>Argentina  </td><td>17719318564</td></tr>\n",
       "\t<tr><td>Australia  </td><td>21203840920</td></tr>\n",
       "\t<tr><td>Austria    </td><td> 5152119757</td></tr>\n",
       "</tbody>\n",
       "</table>\n"
      ],
      "text/latex": [
       "\\begin{tabular}{r|ll}\n",
       " country & Military.expenditure..current.USD.\\\\\n",
       "\\hline\n",
       "\t Afghanistan &    25586427\\\\\n",
       "\t Algeria     &  3329754752\\\\\n",
       "\t Angola      &   847984491\\\\\n",
       "\t Argentina   & 17719318564\\\\\n",
       "\t Australia   & 21203840920\\\\\n",
       "\t Austria     &  5152119757\\\\\n",
       "\\end{tabular}\n"
      ],
      "text/markdown": [
       "\n",
       "| country | Military.expenditure..current.USD. |\n",
       "|---|---|\n",
       "| Afghanistan |    25586427 |\n",
       "| Algeria     |  3329754752 |\n",
       "| Angola      |   847984491 |\n",
       "| Argentina   | 17719318564 |\n",
       "| Australia   | 21203840920 |\n",
       "| Austria     |  5152119757 |\n",
       "\n"
      ],
      "text/plain": [
       "  country     Military.expenditure..current.USD.\n",
       "1 Afghanistan    25586427                       \n",
       "2 Algeria      3329754752                       \n",
       "3 Angola        847984491                       \n",
       "4 Argentina   17719318564                       \n",
       "5 Australia   21203840920                       \n",
       "6 Austria      5152119757                       "
      ]
     },
     "metadata": {},
     "output_type": "display_data"
    }
   ],
   "source": [
    "decade_1970_1979_2 = aggregate(Military.expenditure..current.USD. ~ country, decade_1970_1979, sum)\n",
    "head(decade_1970_1979_2)"
   ]
  },
  {
   "cell_type": "code",
   "execution_count": 36,
   "metadata": {
    "vscode": {
     "languageId": "r"
    }
   },
   "outputs": [
    {
     "data": {
      "text/html": [
       "<table>\n",
       "<thead><tr><th scope=col>country</th><th scope=col>Military.expenditure..current.USD.</th></tr></thead>\n",
       "<tbody>\n",
       "\t<tr><td>United States </td><td>944826148283  </td></tr>\n",
       "\t<tr><td>Germany       </td><td>134019470697  </td></tr>\n",
       "\t<tr><td>United Kingdom</td><td>117337903455  </td></tr>\n",
       "\t<tr><td>Poland        </td><td>112772265390  </td></tr>\n",
       "\t<tr><td>France        </td><td>102545761002  </td></tr>\n",
       "\t<tr><td>Japan         </td><td> 46907460863  </td></tr>\n",
       "</tbody>\n",
       "</table>\n"
      ],
      "text/latex": [
       "\\begin{tabular}{r|ll}\n",
       " country & Military.expenditure..current.USD.\\\\\n",
       "\\hline\n",
       "\t United States  & 944826148283  \\\\\n",
       "\t Germany        & 134019470697  \\\\\n",
       "\t United Kingdom & 117337903455  \\\\\n",
       "\t Poland         & 112772265390  \\\\\n",
       "\t France         & 102545761002  \\\\\n",
       "\t Japan          &  46907460863  \\\\\n",
       "\\end{tabular}\n"
      ],
      "text/markdown": [
       "\n",
       "| country | Military.expenditure..current.USD. |\n",
       "|---|---|\n",
       "| United States  | 944826148283   |\n",
       "| Germany        | 134019470697   |\n",
       "| United Kingdom | 117337903455   |\n",
       "| Poland         | 112772265390   |\n",
       "| France         | 102545761002   |\n",
       "| Japan          |  46907460863   |\n",
       "\n"
      ],
      "text/plain": [
       "  country        Military.expenditure..current.USD.\n",
       "1 United States  944826148283                      \n",
       "2 Germany        134019470697                      \n",
       "3 United Kingdom 117337903455                      \n",
       "4 Poland         112772265390                      \n",
       "5 France         102545761002                      \n",
       "6 Japan           46907460863                      "
      ]
     },
     "metadata": {},
     "output_type": "display_data"
    }
   ],
   "source": [
    "decade_1970_1979_3 =  arrange(decade_1970_1979_2, -Military.expenditure..current.USD.)\n",
    "head(decade_1970_1979_3)"
   ]
  },
  {
   "cell_type": "code",
   "execution_count": 37,
   "metadata": {
    "vscode": {
     "languageId": "r"
    }
   },
   "outputs": [
    {
     "data": {
      "text/html": [
       "<table>\n",
       "<thead><tr><th scope=col>country</th><th scope=col>Military.expenditure..current.USD.</th></tr></thead>\n",
       "<tbody>\n",
       "\t<tr><td>United States </td><td>944826148283  </td></tr>\n",
       "\t<tr><td>Germany       </td><td>134019470697  </td></tr>\n",
       "\t<tr><td>United Kingdom</td><td>117337903455  </td></tr>\n",
       "\t<tr><td>Poland        </td><td>112772265390  </td></tr>\n",
       "\t<tr><td>France        </td><td>102545761002  </td></tr>\n",
       "\t<tr><td>Japan         </td><td> 46907460863  </td></tr>\n",
       "</tbody>\n",
       "</table>\n"
      ],
      "text/latex": [
       "\\begin{tabular}{r|ll}\n",
       " country & Military.expenditure..current.USD.\\\\\n",
       "\\hline\n",
       "\t United States  & 944826148283  \\\\\n",
       "\t Germany        & 134019470697  \\\\\n",
       "\t United Kingdom & 117337903455  \\\\\n",
       "\t Poland         & 112772265390  \\\\\n",
       "\t France         & 102545761002  \\\\\n",
       "\t Japan          &  46907460863  \\\\\n",
       "\\end{tabular}\n"
      ],
      "text/markdown": [
       "\n",
       "| country | Military.expenditure..current.USD. |\n",
       "|---|---|\n",
       "| United States  | 944826148283   |\n",
       "| Germany        | 134019470697   |\n",
       "| United Kingdom | 117337903455   |\n",
       "| Poland         | 112772265390   |\n",
       "| France         | 102545761002   |\n",
       "| Japan          |  46907460863   |\n",
       "\n"
      ],
      "text/plain": [
       "  country        Military.expenditure..current.USD.\n",
       "1 United States  944826148283                      \n",
       "2 Germany        134019470697                      \n",
       "3 United Kingdom 117337903455                      \n",
       "4 Poland         112772265390                      \n",
       "5 France         102545761002                      \n",
       "6 Japan           46907460863                      "
      ]
     },
     "metadata": {},
     "output_type": "display_data"
    }
   ],
   "source": [
    "decade_1970_1979_4 = head(decade_1970_1979_3, 10)\n",
    "head(decade_1970_1979_4)"
   ]
  },
  {
   "cell_type": "markdown",
   "metadata": {},
   "source": [
    "### Plotting top 10 countries with highest military spending in each decade"
   ]
  },
  {
   "cell_type": "code",
   "execution_count": 38,
   "metadata": {
    "vscode": {
     "languageId": "r"
    }
   },
   "outputs": [
    {
     "data": {
      "image/png": "[encoded data removed]",
      "text/plain": [
       "plot without title"
      ]
     },
     "metadata": {},
     "output_type": "display_data"
    }
   ],
   "source": [
    "decade_1970_1979_plot  = ggplot(decade_1970_1979_4, aes(x= reorder(country, Military.expenditure..current.USD. ) , y=Military.expenditure..current.USD., fill = country)) +\n",
    "geom_col()+ ggtitle('Highest 10 Countries Military Spending in the Decade 1970 - 1979') + coord_flip() + \n",
    "theme(legend.position = 'None', axis.text.y = element_text(size = 10))\n",
    "\n",
    "\n",
    "decade_1970_1979_plot.labs = decade_1970_1979_plot + labs(title = \"Highest 10 Countries Military Spending in the Decade 1970 - 1979\", x = \"Country\", y = \"Military Expenditure in US Dollars\")\n",
    "decade_1970_1979_plot.labs"
   ]
  },
  {
   "cell_type": "code",
   "execution_count": 39,
   "metadata": {
    "vscode": {
     "languageId": "r"
    }
   },
   "outputs": [
    {
     "data": {
      "image/png": "[encoded data removed]",
      "text/plain": [
       "plot without title"
      ]
     },
     "metadata": {},
     "output_type": "display_data"
    }
   ],
   "source": [
    "decade_1980_1989 = rbind(`1980`,`1981`,`1982`,`1983`,`1984`,`1985`,`1986`,`1987`,`1988`,`1989`)\n",
    "decade_1980_1989_2 = aggregate(Military.expenditure..current.USD. ~ country, decade_1980_1989, sum)\n",
    "decade_1980_1989_3 =  arrange(decade_1980_1989_2, -Military.expenditure..current.USD.)\n",
    "decade_1980_1989_4 = head(decade_1980_1989_3, 10)\n",
    "\n",
    "\n",
    "# Bar Plot\n",
    "decade_1980_1989_plot  = ggplot(decade_1980_1989_4, aes(x= reorder(country, Military.expenditure..current.USD. ) , y=Military.expenditure..current.USD., fill = country)) +\n",
    "geom_col()+ ggtitle('Highest 10 Countries Military Spending in the Decade 1980 - 1989') + coord_flip() + \n",
    "theme(legend.position = 'None', axis.text.y = element_text(size = 10))\n",
    "\n",
    "\n",
    "decade_1980_1989_plot.labs = decade_1980_1989_plot + labs(title = \"Highest 10 Countries Military Spending in the Decade 1980 - 1989\", x = \"Country\", y = \"Military Expenditure in US Dollars\")\n",
    "decade_1980_1989_plot.labs"
   ]
  },
  {
   "cell_type": "code",
   "execution_count": 40,
   "metadata": {
    "vscode": {
     "languageId": "r"
    }
   },
   "outputs": [
    {
     "data": {
      "image/png": "[encoded data removed]",
      "text/plain": [
       "plot without title"
      ]
     },
     "metadata": {},
     "output_type": "display_data"
    }
   ],
   "source": [
    "decade_1990_1999 = rbind(`1990`,`1991`,`1992`,`1993`,`1994`,`1995`,`1996`,`1997`,`1998`,`1999`)\n",
    "decade_1990_1999_2 = aggregate(Military.expenditure..current.USD. ~ country, decade_1990_1999, sum)\n",
    "decade_1990_1999_3 =  arrange(decade_1990_1999_2, -Military.expenditure..current.USD.)\n",
    "decade_1990_1999_4 = head(decade_1990_1999_3, 10)\n",
    "\n",
    "\n",
    "# Bar Plot\n",
    "decade_1990_1999_plot  = ggplot(decade_1990_1999_4, aes(x= reorder(country, Military.expenditure..current.USD. ) , y=Military.expenditure..current.USD., fill = country)) +\n",
    "geom_col()+ ggtitle('Highest 10 Countries Military Spending in the Decade 1990 - 1999') + coord_flip() + \n",
    "theme(legend.position = 'None', axis.text.y = element_text(size = 10))\n",
    "\n",
    "\n",
    "decade_1990_1999_plot.labs = decade_1990_1999_plot + labs(title = \"Highest 10 Countries Military Spending in the Decade 1990 - 1999\", x = \"Country\", y = \"Military Expenditure in US Dollars\")\n",
    "decade_1990_1999_plot.labs"
   ]
  },
  {
   "cell_type": "code",
   "execution_count": 41,
   "metadata": {
    "vscode": {
     "languageId": "r"
    }
   },
   "outputs": [
    {
     "data": {
      "image/png": "[encoded data removed]",
      "text/plain": [
       "plot without title"
      ]
     },
     "metadata": {},
     "output_type": "display_data"
    }
   ],
   "source": [
    "decade_2000_2009 = rbind(`2000`,`2001`,`2002`,`2003`,`2004`,`2005`,`2006`,`2007`,`2008`,`2009`)\n",
    "decade_2000_2009_2 = aggregate(Military.expenditure..current.USD. ~ country, decade_2000_2009, sum)\n",
    "decade_2000_2009_3 =  arrange(decade_2000_2009_2, -Military.expenditure..current.USD.)\n",
    "decade_2000_2009_4 = head(decade_2000_2009_3, 10)\n",
    "\n",
    "\n",
    "# Bar Plot\n",
    "decade_2000_2009_plot  = ggplot(decade_2000_2009_4, aes(x= reorder(country, Military.expenditure..current.USD. ) , y=Military.expenditure..current.USD., fill = country)) +\n",
    "geom_col()+ ggtitle('Highest 10 Countries Military Spending in the Decade 2000 - 2009') + coord_flip() + \n",
    "theme(legend.position = 'None', axis.text.y = element_text(size = 10))\n",
    "\n",
    "\n",
    "decade_2000_2009_plot.labs = decade_2000_2009_plot + labs(title = \"Highest 10 Countries Military Spending in the Decade 2000 - 2009\", x = \"Country\", y = \"Military Expenditure in US Dollars\")\n",
    "decade_2000_2009_plot.labs"
   ]
  },
  {
   "cell_type": "code",
   "execution_count": 42,
   "metadata": {
    "vscode": {
     "languageId": "r"
    }
   },
   "outputs": [
    {
     "data": {
      "image/png": "[encoded data removed]",
      "text/plain": [
       "plot without title"
      ]
     },
     "metadata": {},
     "output_type": "display_data"
    }
   ],
   "source": [
    "decade_2010_2019 = rbind(`2010`,`2011`,`2012`,`2013`,`2014`,`2015`,`2016`,`2017`,`2018`,`2019`)\n",
    "decade_2010_2019_2 = aggregate(Military.expenditure..current.USD. ~ country, decade_2010_2019, sum)\n",
    "decade_2010_2019_3 =  arrange(decade_2010_2019_2, -Military.expenditure..current.USD.)\n",
    "decade_2010_2019_4 = head(decade_2010_2019_3, 10)\n",
    "\n",
    "\n",
    "# Bar Plot\n",
    "decade_2010_2019_plot  = ggplot(decade_2010_2019_4, aes(x= reorder(country, Military.expenditure..current.USD. ) , y=Military.expenditure..current.USD., fill = country)) +\n",
    "geom_col()+ ggtitle('Highest 10 Countries Military Spending in the Decade 2010 - 2019') + coord_flip() + \n",
    "theme(legend.position = 'None', axis.text.y = element_text(size = 10))\n",
    "\n",
    "\n",
    "decade_2010_2019_plot.labs = decade_2010_2019_plot + labs(title = \"Highest 10 Countries Military Spending in the Decade 2010 - 2019\", x = \"Country\", y = \"Military Expenditure in US Dollars\")\n",
    "decade_2010_2019_plot.labs"
   ]
  },
  {
   "cell_type": "markdown",
   "metadata": {},
   "source": [
    "## Conclution\n",
    "\n",
    " - United States has always the highest military spending with a very high margin.\n",
    " - China has recently increased its military expenditure and hold second highest military spending position in today.\n",
    " - Iceland and Costa Rica are the two countries with zero military spending.\n",
    " - India is currently in top 10 position as of today.\n",
    " - Germany, UK, Russia, Japan, France, Saudi Arabia all have high military spending."
   ]
  }
 ],
 "metadata": {
  "interpreter": {
   "hash": "9014d89471c99453fc2484bef244eb6924395260957a050d035238d1ee92ac19"
  },
  "kernelspec": {
   "display_name": "R",
   "language": "R",
   "name": "ir"
  },
  "language_info": {
   "codemirror_mode": "r",
   "file_extension": ".r",
   "mimetype": "text/x-r-source",
   "name": "R",
   "pygments_lexer": "r",
   "version": "3.6.1"
  },
  "orig_nbformat": 4
 },
 "nbformat": 4,
 "nbformat_minor": 2
}
