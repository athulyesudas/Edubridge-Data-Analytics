{
 "cells": [
  {
   "cell_type": "markdown",
   "id": "2ba43cbd",
   "metadata": {},
   "source": [
    "# Life expectancy prediction from WHO data"
   ]
  },
  {
   "cell_type": "markdown",
   "id": "080b75cf",
   "metadata": {},
   "source": [
    "### Importing Libraries"
   ]
  },
  {
   "cell_type": "code",
   "execution_count": 1,
   "id": "right-billy",
   "metadata": {
    "_execution_state": "idle",
    "_uuid": "051d70d956493feee0c6d64651c6a088724dca2a",
    "execution": {
     "iopub.execute_input": "2021-04-20T19:07:54.941035Z",
     "iopub.status.busy": "2021-04-20T19:07:54.938526Z",
     "iopub.status.idle": "2021-04-20T19:07:56.382533Z",
     "shell.execute_reply": "2021-04-20T19:07:56.381052Z"
    },
    "papermill": {
     "duration": 1.477223,
     "end_time": "2021-04-20T19:07:56.382716",
     "exception": false,
     "start_time": "2021-04-20T19:07:54.905493",
     "status": "completed"
    },
    "tags": [],
    "vscode": {
     "languageId": "r"
    }
   },
   "outputs": [
    {
     "name": "stderr",
     "output_type": "stream",
     "text": [
      "Registered S3 methods overwritten by 'ggplot2':\n",
      "  method         from \n",
      "  [.quosures     rlang\n",
      "  c.quosures     rlang\n",
      "  print.quosures rlang\n",
      "Registered S3 method overwritten by 'rvest':\n",
      "  method            from\n",
      "  read_xml.response xml2\n",
      "-- Attaching packages --------------------------------------- tidyverse 1.2.1 --\n",
      "v ggplot2 3.1.1     v purrr   0.3.2\n",
      "v tibble  3.1.1     v dplyr   1.0.6\n",
      "v tidyr   0.8.3     v stringr 1.4.0\n",
      "v readr   1.3.1     v forcats 0.4.0\n",
      "Warning message:\n",
      "\"package 'tibble' was built under R version 3.6.3\"Warning message:\n",
      "\"package 'dplyr' was built under R version 3.6.3\"-- Conflicts ------------------------------------------ tidyverse_conflicts() --\n",
      "x dplyr::filter() masks stats::filter()\n",
      "x dplyr::lag()    masks stats::lag()\n",
      "Warning message:\n",
      "\"package 'janitor' was built under R version 3.6.3\"\n",
      "Attaching package: 'janitor'\n",
      "\n",
      "The following objects are masked from 'package:stats':\n",
      "\n",
      "    chisq.test, fisher.test\n",
      "\n",
      "Loading required package: carData\n",
      "\n",
      "Attaching package: 'car'\n",
      "\n",
      "The following object is masked from 'package:dplyr':\n",
      "\n",
      "    recode\n",
      "\n",
      "The following object is masked from 'package:purrr':\n",
      "\n",
      "    some\n",
      "\n",
      "Warning message:\n",
      "\"package 'lmtest' was built under R version 3.6.3\"Loading required package: zoo\n",
      "\n",
      "Attaching package: 'zoo'\n",
      "\n",
      "The following objects are masked from 'package:base':\n",
      "\n",
      "    as.Date, as.Date.numeric\n",
      "\n"
     ]
    }
   ],
   "source": [
    "library(tidyverse)\n",
    "library(janitor)\n",
    "library(car)\n",
    "library(lmtest)"
   ]
  },
  {
   "cell_type": "markdown",
   "id": "tested-vacuum",
   "metadata": {
    "papermill": {
     "duration": 0.029205,
     "end_time": "2021-04-20T19:07:56.442640",
     "exception": false,
     "start_time": "2021-04-20T19:07:56.413435",
     "status": "completed"
    },
    "tags": []
   },
   "source": [
    "# Multiple linear regression \n",
    "It explains the relationship between multiple explanatory variables (X variables) and one dependent variable (Y). The dependent variable is modelled as a function of several independent variables with corresponding coefficients and constant terms. The regression model requires at least two or more predictor variables and other CLRM assumptions satisfied for it to be called multiple regression. Thus, the study undertaken performs a multiple linear regression analysis on the dataset, ‘WHO Statistics on Life Expectancy’ and further runs a regression diagnostic to check for issues like multicollinearity, heteroscedasticity, and autocorrelation. "
   ]
  },
  {
   "cell_type": "code",
   "execution_count": 2,
   "id": "robust-excerpt",
   "metadata": {
    "execution": {
     "iopub.execute_input": "2021-04-20T19:07:56.544264Z",
     "iopub.status.busy": "2021-04-20T19:07:56.506573Z",
     "iopub.status.idle": "2021-04-20T19:07:56.751346Z",
     "shell.execute_reply": "2021-04-20T19:07:56.749269Z"
    },
    "papermill": {
     "duration": 0.277981,
     "end_time": "2021-04-20T19:07:56.751502",
     "exception": false,
     "start_time": "2021-04-20T19:07:56.473521",
     "status": "completed"
    },
    "tags": [],
    "vscode": {
     "languageId": "r"
    }
   },
   "outputs": [
    {
     "name": "stderr",
     "output_type": "stream",
     "text": [
      "Parsed with column specification:\n",
      "cols(\n",
      "  .default = col_double(),\n",
      "  Country = col_character(),\n",
      "  Status = col_character()\n",
      ")\n",
      "See spec(...) for full column specifications.\n"
     ]
    }
   ],
   "source": [
    "df <- read_csv(\"life_expectancy_data_from_who.csv\")"
   ]
  },
  {
   "cell_type": "markdown",
   "id": "buried-wilson",
   "metadata": {
    "papermill": {
     "duration": 0.02976,
     "end_time": "2021-04-20T19:07:56.811567",
     "exception": false,
     "start_time": "2021-04-20T19:07:56.781807",
     "status": "completed"
    },
    "tags": []
   },
   "source": [
    "According to the dataset, **‘WHO Statistics on Life Expectancy’**, the life expectancy of a person living in a particular country will be dependent on various factors like adult mortality rates, infant deaths, alcohol consumption per capita, country’s expenditure on health, immunization coverage, BMI, deaths under 5-years-old, deaths due to HIV/AIDS, GDP, population, body condition, income information, and education. \n",
    "Thus, the dependent variable (Y) here is assumed to be life expectancy which depends on 18 explanatory/independent variables (Xi) as follows:\n"
   ]
  },
  {
   "cell_type": "code",
   "execution_count": 3,
   "id": "a539f706",
   "metadata": {
    "vscode": {
     "languageId": "r"
    }
   },
   "outputs": [
    {
     "data": {
      "text/html": [
       "<table>\n",
       "<thead><tr><th scope=col>Country</th><th scope=col>Year</th><th scope=col>Status</th><th scope=col>Life expectancy</th><th scope=col>Adult Mortality</th><th scope=col>infant deaths</th><th scope=col>Alcohol</th><th scope=col>percentage expenditure</th><th scope=col>Hepatitis B</th><th scope=col>Measles</th><th scope=col>...</th><th scope=col>Polio</th><th scope=col>Total expenditure</th><th scope=col>Diphtheria</th><th scope=col>HIV/AIDS</th><th scope=col>GDP</th><th scope=col>Population</th><th scope=col>thinness  1-19 years</th><th scope=col>thinness 5-9 years</th><th scope=col>Income composition of resources</th><th scope=col>Schooling</th></tr></thead>\n",
       "<tbody>\n",
       "\t<tr><td>Afghanistan</td><td>2015       </td><td>Developing </td><td>65.0       </td><td>263        </td><td>62         </td><td>0.01       </td><td>71.279624  </td><td>65         </td><td>1154       </td><td>...        </td><td> 6         </td><td>8.16       </td><td>65         </td><td>0.1        </td><td>584.25921  </td><td>33736494   </td><td>17.2       </td><td>17.3       </td><td>0.479      </td><td>10.1       </td></tr>\n",
       "\t<tr><td>Afghanistan</td><td>2014       </td><td>Developing </td><td>59.9       </td><td>271        </td><td>64         </td><td>0.01       </td><td>73.523582  </td><td>62         </td><td> 492       </td><td>...        </td><td>58         </td><td>8.18       </td><td>62         </td><td>0.1        </td><td>612.69651  </td><td>  327582   </td><td>17.5       </td><td>17.5       </td><td>0.476      </td><td>10.0       </td></tr>\n",
       "\t<tr><td>Afghanistan</td><td>2013       </td><td>Developing </td><td>59.9       </td><td>268        </td><td>66         </td><td>0.01       </td><td>73.219243  </td><td>64         </td><td> 430       </td><td>...        </td><td>62         </td><td>8.13       </td><td>64         </td><td>0.1        </td><td>631.74498  </td><td>31731688   </td><td>17.7       </td><td>17.7       </td><td>0.470      </td><td> 9.9       </td></tr>\n",
       "\t<tr><td>Afghanistan</td><td>2012       </td><td>Developing </td><td>59.5       </td><td>272        </td><td>69         </td><td>0.01       </td><td>78.184215  </td><td>67         </td><td>2787       </td><td>...        </td><td>67         </td><td>8.52       </td><td>67         </td><td>0.1        </td><td>669.95900  </td><td> 3696958   </td><td>17.9       </td><td>18.0       </td><td>0.463      </td><td> 9.8       </td></tr>\n",
       "\t<tr><td>Afghanistan</td><td>2011       </td><td>Developing </td><td>59.2       </td><td>275        </td><td>71         </td><td>0.01       </td><td> 7.097109  </td><td>68         </td><td>3013       </td><td>...        </td><td>68         </td><td>7.87       </td><td>68         </td><td>0.1        </td><td> 63.53723  </td><td> 2978599   </td><td>18.2       </td><td>18.2       </td><td>0.454      </td><td> 9.5       </td></tr>\n",
       "\t<tr><td>Afghanistan</td><td>2010       </td><td>Developing </td><td>58.8       </td><td>279        </td><td>74         </td><td>0.01       </td><td>79.679367  </td><td>66         </td><td>1989       </td><td>...        </td><td>66         </td><td>9.20       </td><td>66         </td><td>0.1        </td><td>553.32894  </td><td> 2883167   </td><td>18.4       </td><td>18.4       </td><td>0.448      </td><td> 9.2       </td></tr>\n",
       "</tbody>\n",
       "</table>\n"
      ],
      "text/latex": [
       "\\begin{tabular}{r|llllllllllllllllllllll}\n",
       " Country & Year & Status & Life expectancy & Adult Mortality & infant deaths & Alcohol & percentage expenditure & Hepatitis B & Measles & ... & Polio & Total expenditure & Diphtheria & HIV/AIDS & GDP & Population & thinness  1-19 years & thinness 5-9 years & Income composition of resources & Schooling\\\\\n",
       "\\hline\n",
       "\t Afghanistan & 2015        & Developing  & 65.0        & 263         & 62          & 0.01        & 71.279624   & 65          & 1154        & ...         &  6          & 8.16        & 65          & 0.1         & 584.25921   & 33736494    & 17.2        & 17.3        & 0.479       & 10.1       \\\\\n",
       "\t Afghanistan & 2014        & Developing  & 59.9        & 271         & 64          & 0.01        & 73.523582   & 62          &  492        & ...         & 58          & 8.18        & 62          & 0.1         & 612.69651   &   327582    & 17.5        & 17.5        & 0.476       & 10.0       \\\\\n",
       "\t Afghanistan & 2013        & Developing  & 59.9        & 268         & 66          & 0.01        & 73.219243   & 64          &  430        & ...         & 62          & 8.13        & 64          & 0.1         & 631.74498   & 31731688    & 17.7        & 17.7        & 0.470       &  9.9       \\\\\n",
       "\t Afghanistan & 2012        & Developing  & 59.5        & 272         & 69          & 0.01        & 78.184215   & 67          & 2787        & ...         & 67          & 8.52        & 67          & 0.1         & 669.95900   &  3696958    & 17.9        & 18.0        & 0.463       &  9.8       \\\\\n",
       "\t Afghanistan & 2011        & Developing  & 59.2        & 275         & 71          & 0.01        &  7.097109   & 68          & 3013        & ...         & 68          & 7.87        & 68          & 0.1         &  63.53723   &  2978599    & 18.2        & 18.2        & 0.454       &  9.5       \\\\\n",
       "\t Afghanistan & 2010        & Developing  & 58.8        & 279         & 74          & 0.01        & 79.679367   & 66          & 1989        & ...         & 66          & 9.20        & 66          & 0.1         & 553.32894   &  2883167    & 18.4        & 18.4        & 0.448       &  9.2       \\\\\n",
       "\\end{tabular}\n"
      ],
      "text/markdown": [
       "\n",
       "| Country | Year | Status | Life expectancy | Adult Mortality | infant deaths | Alcohol | percentage expenditure | Hepatitis B | Measles | ... | Polio | Total expenditure | Diphtheria | HIV/AIDS | GDP | Population | thinness  1-19 years | thinness 5-9 years | Income composition of resources | Schooling |\n",
       "|---|---|---|---|---|---|---|---|---|---|---|---|---|---|---|---|---|---|---|---|---|\n",
       "| Afghanistan | 2015        | Developing  | 65.0        | 263         | 62          | 0.01        | 71.279624   | 65          | 1154        | ...         |  6          | 8.16        | 65          | 0.1         | 584.25921   | 33736494    | 17.2        | 17.3        | 0.479       | 10.1        |\n",
       "| Afghanistan | 2014        | Developing  | 59.9        | 271         | 64          | 0.01        | 73.523582   | 62          |  492        | ...         | 58          | 8.18        | 62          | 0.1         | 612.69651   |   327582    | 17.5        | 17.5        | 0.476       | 10.0        |\n",
       "| Afghanistan | 2013        | Developing  | 59.9        | 268         | 66          | 0.01        | 73.219243   | 64          |  430        | ...         | 62          | 8.13        | 64          | 0.1         | 631.74498   | 31731688    | 17.7        | 17.7        | 0.470       |  9.9        |\n",
       "| Afghanistan | 2012        | Developing  | 59.5        | 272         | 69          | 0.01        | 78.184215   | 67          | 2787        | ...         | 67          | 8.52        | 67          | 0.1         | 669.95900   |  3696958    | 17.9        | 18.0        | 0.463       |  9.8        |\n",
       "| Afghanistan | 2011        | Developing  | 59.2        | 275         | 71          | 0.01        |  7.097109   | 68          | 3013        | ...         | 68          | 7.87        | 68          | 0.1         |  63.53723   |  2978599    | 18.2        | 18.2        | 0.454       |  9.5        |\n",
       "| Afghanistan | 2010        | Developing  | 58.8        | 279         | 74          | 0.01        | 79.679367   | 66          | 1989        | ...         | 66          | 9.20        | 66          | 0.1         | 553.32894   |  2883167    | 18.4        | 18.4        | 0.448       |  9.2        |\n",
       "\n"
      ],
      "text/plain": [
       "  Country     Year Status     Life expectancy Adult Mortality infant deaths\n",
       "1 Afghanistan 2015 Developing 65.0            263             62           \n",
       "2 Afghanistan 2014 Developing 59.9            271             64           \n",
       "3 Afghanistan 2013 Developing 59.9            268             66           \n",
       "4 Afghanistan 2012 Developing 59.5            272             69           \n",
       "5 Afghanistan 2011 Developing 59.2            275             71           \n",
       "6 Afghanistan 2010 Developing 58.8            279             74           \n",
       "  Alcohol percentage expenditure Hepatitis B Measles ... Polio\n",
       "1 0.01    71.279624              65          1154    ...  6   \n",
       "2 0.01    73.523582              62           492    ... 58   \n",
       "3 0.01    73.219243              64           430    ... 62   \n",
       "4 0.01    78.184215              67          2787    ... 67   \n",
       "5 0.01     7.097109              68          3013    ... 68   \n",
       "6 0.01    79.679367              66          1989    ... 66   \n",
       "  Total expenditure Diphtheria HIV/AIDS GDP       Population\n",
       "1 8.16              65         0.1      584.25921 33736494  \n",
       "2 8.18              62         0.1      612.69651   327582  \n",
       "3 8.13              64         0.1      631.74498 31731688  \n",
       "4 8.52              67         0.1      669.95900  3696958  \n",
       "5 7.87              68         0.1       63.53723  2978599  \n",
       "6 9.20              66         0.1      553.32894  2883167  \n",
       "  thinness  1-19 years thinness 5-9 years Income composition of resources\n",
       "1 17.2                 17.3               0.479                          \n",
       "2 17.5                 17.5               0.476                          \n",
       "3 17.7                 17.7               0.470                          \n",
       "4 17.9                 18.0               0.463                          \n",
       "5 18.2                 18.2               0.454                          \n",
       "6 18.4                 18.4               0.448                          \n",
       "  Schooling\n",
       "1 10.1     \n",
       "2 10.0     \n",
       "3  9.9     \n",
       "4  9.8     \n",
       "5  9.5     \n",
       "6  9.2     "
      ]
     },
     "metadata": {},
     "output_type": "display_data"
    }
   ],
   "source": [
    "head(df)"
   ]
  },
  {
   "cell_type": "code",
   "execution_count": 4,
   "id": "stuffed-seller",
   "metadata": {
    "execution": {
     "iopub.execute_input": "2021-04-20T19:07:56.876541Z",
     "iopub.status.busy": "2021-04-20T19:07:56.874878Z",
     "iopub.status.idle": "2021-04-20T19:07:56.892522Z",
     "shell.execute_reply": "2021-04-20T19:07:56.891050Z"
    },
    "papermill": {
     "duration": 0.051502,
     "end_time": "2021-04-20T19:07:56.892648",
     "exception": false,
     "start_time": "2021-04-20T19:07:56.841146",
     "status": "completed"
    },
    "tags": [],
    "vscode": {
     "languageId": "r"
    }
   },
   "outputs": [
    {
     "data": {
      "text/html": [
       "<ol class=list-inline>\n",
       "\t<li>'Country'</li>\n",
       "\t<li>'Year'</li>\n",
       "\t<li>'Status'</li>\n",
       "\t<li>'Life expectancy'</li>\n",
       "\t<li>'Adult Mortality'</li>\n",
       "\t<li>'infant deaths'</li>\n",
       "\t<li>'Alcohol'</li>\n",
       "\t<li>'percentage expenditure'</li>\n",
       "\t<li>'Hepatitis B'</li>\n",
       "\t<li>'Measles'</li>\n",
       "\t<li>'BMI'</li>\n",
       "\t<li>'under-five deaths'</li>\n",
       "\t<li>'Polio'</li>\n",
       "\t<li>'Total expenditure'</li>\n",
       "\t<li>'Diphtheria'</li>\n",
       "\t<li>'HIV/AIDS'</li>\n",
       "\t<li>'GDP'</li>\n",
       "\t<li>'Population'</li>\n",
       "\t<li><span style=white-space:pre-wrap>'thinness  1-19 years'</span></li>\n",
       "\t<li>'thinness 5-9 years'</li>\n",
       "\t<li>'Income composition of resources'</li>\n",
       "\t<li>'Schooling'</li>\n",
       "</ol>\n"
      ],
      "text/latex": [
       "\\begin{enumerate*}\n",
       "\\item 'Country'\n",
       "\\item 'Year'\n",
       "\\item 'Status'\n",
       "\\item 'Life expectancy'\n",
       "\\item 'Adult Mortality'\n",
       "\\item 'infant deaths'\n",
       "\\item 'Alcohol'\n",
       "\\item 'percentage expenditure'\n",
       "\\item 'Hepatitis B'\n",
       "\\item 'Measles'\n",
       "\\item 'BMI'\n",
       "\\item 'under-five deaths'\n",
       "\\item 'Polio'\n",
       "\\item 'Total expenditure'\n",
       "\\item 'Diphtheria'\n",
       "\\item 'HIV/AIDS'\n",
       "\\item 'GDP'\n",
       "\\item 'Population'\n",
       "\\item 'thinness  1-19 years'\n",
       "\\item 'thinness 5-9 years'\n",
       "\\item 'Income composition of resources'\n",
       "\\item 'Schooling'\n",
       "\\end{enumerate*}\n"
      ],
      "text/markdown": [
       "1. 'Country'\n",
       "2. 'Year'\n",
       "3. 'Status'\n",
       "4. 'Life expectancy'\n",
       "5. 'Adult Mortality'\n",
       "6. 'infant deaths'\n",
       "7. 'Alcohol'\n",
       "8. 'percentage expenditure'\n",
       "9. 'Hepatitis B'\n",
       "10. 'Measles'\n",
       "11. 'BMI'\n",
       "12. 'under-five deaths'\n",
       "13. 'Polio'\n",
       "14. 'Total expenditure'\n",
       "15. 'Diphtheria'\n",
       "16. 'HIV/AIDS'\n",
       "17. 'GDP'\n",
       "18. 'Population'\n",
       "19. <span style=white-space:pre-wrap>'thinness  1-19 years'</span>\n",
       "20. 'thinness 5-9 years'\n",
       "21. 'Income composition of resources'\n",
       "22. 'Schooling'\n",
       "\n",
       "\n"
      ],
      "text/plain": [
       " [1] \"Country\"                         \"Year\"                           \n",
       " [3] \"Status\"                          \"Life expectancy\"                \n",
       " [5] \"Adult Mortality\"                 \"infant deaths\"                  \n",
       " [7] \"Alcohol\"                         \"percentage expenditure\"         \n",
       " [9] \"Hepatitis B\"                     \"Measles\"                        \n",
       "[11] \"BMI\"                             \"under-five deaths\"              \n",
       "[13] \"Polio\"                           \"Total expenditure\"              \n",
       "[15] \"Diphtheria\"                      \"HIV/AIDS\"                       \n",
       "[17] \"GDP\"                             \"Population\"                     \n",
       "[19] \"thinness  1-19 years\"            \"thinness 5-9 years\"             \n",
       "[21] \"Income composition of resources\" \"Schooling\"                      "
      ]
     },
     "metadata": {},
     "output_type": "display_data"
    }
   ],
   "source": [
    "names(df)"
   ]
  },
  {
   "cell_type": "code",
   "execution_count": 5,
   "id": "seven-heavy",
   "metadata": {
    "execution": {
     "iopub.execute_input": "2021-04-20T19:07:56.960903Z",
     "iopub.status.busy": "2021-04-20T19:07:56.959093Z",
     "iopub.status.idle": "2021-04-20T19:07:57.002819Z",
     "shell.execute_reply": "2021-04-20T19:07:57.001041Z"
    },
    "papermill": {
     "duration": 0.079475,
     "end_time": "2021-04-20T19:07:57.002958",
     "exception": false,
     "start_time": "2021-04-20T19:07:56.923483",
     "status": "completed"
    },
    "tags": [],
    "vscode": {
     "languageId": "r"
    }
   },
   "outputs": [
    {
     "name": "stdout",
     "output_type": "stream",
     "text": [
      "Rows: 2,938\n",
      "Columns: 22\n",
      "$ Country                           <chr> \"Afghanistan\", \"Afghanistan\", \"Afgha~\n",
      "$ Year                              <dbl> 2015, 2014, 2013, 2012, 2011, 2010, ~\n",
      "$ Status                            <chr> \"Developing\", \"Developing\", \"Develop~\n",
      "$ `Life expectancy`                 <dbl> 65.0, 59.9, 59.9, 59.5, 59.2, 58.8, ~\n",
      "$ `Adult Mortality`                 <dbl> 263, 271, 268, 272, 275, 279, 281, 2~\n",
      "$ `infant deaths`                   <dbl> 62, 64, 66, 69, 71, 74, 77, 80, 82, ~\n",
      "$ Alcohol                           <dbl> 0.01, 0.01, 0.01, 0.01, 0.01, 0.01, ~\n",
      "$ `percentage expenditure`          <dbl> 71.279624, 73.523582, 73.219243, 78.~\n",
      "$ `Hepatitis B`                     <dbl> 65, 62, 64, 67, 68, 66, 63, 64, 63, ~\n",
      "$ Measles                           <dbl> 1154, 492, 430, 2787, 3013, 1989, 28~\n",
      "$ BMI                               <dbl> 19.1, 18.6, 18.1, 17.6, 17.2, 16.7, ~\n",
      "$ `under-five deaths`               <dbl> 83, 86, 89, 93, 97, 102, 106, 110, 1~\n",
      "$ Polio                             <dbl> 6, 58, 62, 67, 68, 66, 63, 64, 63, 5~\n",
      "$ `Total expenditure`               <dbl> 8.16, 8.18, 8.13, 8.52, 7.87, 9.20, ~\n",
      "$ Diphtheria                        <dbl> 65, 62, 64, 67, 68, 66, 63, 64, 63, ~\n",
      "$ `HIV/AIDS`                        <dbl> 0.1, 0.1, 0.1, 0.1, 0.1, 0.1, 0.1, 0~\n",
      "$ GDP                               <dbl> 584.25921, 612.69651, 631.74498, 669~\n",
      "$ Population                        <dbl> 33736494, 327582, 31731688, 3696958,~\n",
      "$ `thinness  1-19 years`            <dbl> 17.2, 17.5, 17.7, 17.9, 18.2, 18.4, ~\n",
      "$ `thinness 5-9 years`              <dbl> 17.3, 17.5, 17.7, 18.0, 18.2, 18.4, ~\n",
      "$ `Income composition of resources` <dbl> 0.479, 0.476, 0.470, 0.463, 0.454, 0~\n",
      "$ Schooling                         <dbl> 10.1, 10.0, 9.9, 9.8, 9.5, 9.2, 8.9,~\n"
     ]
    }
   ],
   "source": [
    "glimpse(df)"
   ]
  },
  {
   "cell_type": "code",
   "execution_count": 6,
   "id": "annoying-jungle",
   "metadata": {
    "execution": {
     "iopub.execute_input": "2021-04-20T19:07:57.444655Z",
     "iopub.status.busy": "2021-04-20T19:07:57.443266Z",
     "iopub.status.idle": "2021-04-20T19:07:57.715943Z",
     "shell.execute_reply": "2021-04-20T19:07:57.714179Z"
    },
    "papermill": {
     "duration": 0.311811,
     "end_time": "2021-04-20T19:07:57.716089",
     "exception": false,
     "start_time": "2021-04-20T19:07:57.404278",
     "status": "completed"
    },
    "tags": [],
    "vscode": {
     "languageId": "r"
    }
   },
   "outputs": [
    {
     "data": {
      "text/html": [
       "<table>\n",
       "<thead><tr><th scope=col>country</th><th scope=col>year</th><th scope=col>status</th><th scope=col>life_expectancy</th><th scope=col>adult_mortality</th><th scope=col>infant_deaths</th><th scope=col>alcohol</th><th scope=col>percentage_expenditure</th><th scope=col>hepatitis_b</th><th scope=col>measles</th><th scope=col>...</th><th scope=col>polio</th><th scope=col>total_expenditure</th><th scope=col>diphtheria</th><th scope=col>hiv_aids</th><th scope=col>gdp</th><th scope=col>population</th><th scope=col>thinness_1_19_years</th><th scope=col>thinness_5_9_years</th><th scope=col>income_composition_of_resources</th><th scope=col>schooling</th></tr></thead>\n",
       "<tbody>\n",
       "\t<tr><td>Afghanistan</td><td>2015       </td><td>Developing </td><td>65.0       </td><td>263        </td><td>62         </td><td>0.01       </td><td> 71.279624 </td><td>65         </td><td>1154       </td><td>...        </td><td> 6         </td><td>8.16       </td><td>65         </td><td>0.1        </td><td> 584.25921 </td><td>33736494   </td><td>17.2       </td><td>17.3       </td><td>0.479      </td><td>10.1       </td></tr>\n",
       "\t<tr><td>Afghanistan</td><td>2014       </td><td>Developing </td><td>59.9       </td><td>271        </td><td>64         </td><td>0.01       </td><td> 73.523582 </td><td>62         </td><td> 492       </td><td>...        </td><td>58         </td><td>8.18       </td><td>62         </td><td>0.1        </td><td> 612.69651 </td><td>  327582   </td><td>17.5       </td><td>17.5       </td><td>0.476      </td><td>10.0       </td></tr>\n",
       "\t<tr><td>Afghanistan</td><td>2013       </td><td>Developing </td><td>59.9       </td><td>268        </td><td>66         </td><td>0.01       </td><td> 73.219243 </td><td>64         </td><td> 430       </td><td>...        </td><td>62         </td><td>8.13       </td><td>64         </td><td>0.1        </td><td> 631.74498 </td><td>31731688   </td><td>17.7       </td><td>17.7       </td><td>0.470      </td><td> 9.9       </td></tr>\n",
       "\t<tr><td>Afghanistan</td><td>2012       </td><td>Developing </td><td>59.5       </td><td>272        </td><td>69         </td><td>0.01       </td><td> 78.184215 </td><td>67         </td><td>2787       </td><td>...        </td><td>67         </td><td>8.52       </td><td>67         </td><td>0.1        </td><td> 669.95900 </td><td> 3696958   </td><td>17.9       </td><td>18.0       </td><td>0.463      </td><td> 9.8       </td></tr>\n",
       "\t<tr><td>Afghanistan</td><td>2011       </td><td>Developing </td><td>59.2       </td><td>275        </td><td>71         </td><td>0.01       </td><td>  7.097109 </td><td>68         </td><td>3013       </td><td>...        </td><td>68         </td><td>7.87       </td><td>68         </td><td>0.1        </td><td>  63.53723 </td><td> 2978599   </td><td>18.2       </td><td>18.2       </td><td>0.454      </td><td> 9.5       </td></tr>\n",
       "\t<tr><td>Afghanistan</td><td>2010       </td><td>Developing </td><td>58.8       </td><td>279        </td><td>74         </td><td>0.01       </td><td> 79.679367 </td><td>66         </td><td>1989       </td><td>...        </td><td>66         </td><td>9.20       </td><td>66         </td><td>0.1        </td><td> 553.32894 </td><td> 2883167   </td><td>18.4       </td><td>18.4       </td><td>0.448      </td><td> 9.2       </td></tr>\n",
       "\t<tr><td>Afghanistan</td><td>2009       </td><td>Developing </td><td>58.6       </td><td>281        </td><td>77         </td><td>0.01       </td><td> 56.762217 </td><td>63         </td><td>2861       </td><td>...        </td><td>63         </td><td>9.42       </td><td>63         </td><td>0.1        </td><td> 445.89330 </td><td>  284331   </td><td>18.6       </td><td>18.7       </td><td>0.434      </td><td> 8.9       </td></tr>\n",
       "\t<tr><td>Afghanistan</td><td>2008       </td><td>Developing </td><td>58.1       </td><td>287        </td><td>80         </td><td>0.03       </td><td> 25.873925 </td><td>64         </td><td>1599       </td><td>...        </td><td>64         </td><td>8.33       </td><td>64         </td><td>0.1        </td><td> 373.36112 </td><td> 2729431   </td><td>18.8       </td><td>18.9       </td><td>0.433      </td><td> 8.7       </td></tr>\n",
       "\t<tr><td>Afghanistan</td><td>2007       </td><td>Developing </td><td>57.5       </td><td>295        </td><td>82         </td><td>0.02       </td><td> 10.910156 </td><td>63         </td><td>1141       </td><td>...        </td><td>63         </td><td>6.73       </td><td>63         </td><td>0.1        </td><td> 369.83580 </td><td>26616792   </td><td>19.0       </td><td>19.1       </td><td>0.415      </td><td> 8.4       </td></tr>\n",
       "\t<tr><td>Afghanistan</td><td>2006       </td><td>Developing </td><td>57.3       </td><td>295        </td><td>84         </td><td>0.03       </td><td> 17.171518 </td><td>64         </td><td>1990       </td><td>...        </td><td>58         </td><td>7.43       </td><td>58         </td><td>0.1        </td><td> 272.56377 </td><td> 2589345   </td><td>19.2       </td><td>19.3       </td><td>0.405      </td><td> 8.1       </td></tr>\n",
       "\t<tr><td>Afghanistan</td><td>2005       </td><td>Developing </td><td>57.3       </td><td>291        </td><td>85         </td><td>0.02       </td><td>  1.388648 </td><td>66         </td><td>1296       </td><td>...        </td><td>58         </td><td>8.70       </td><td>58         </td><td>0.1        </td><td>  25.29413 </td><td>  257798   </td><td>19.3       </td><td>19.5       </td><td>0.396      </td><td> 7.9       </td></tr>\n",
       "\t<tr><td>Afghanistan</td><td>2004       </td><td>Developing </td><td>57.0       </td><td>293        </td><td>87         </td><td>0.02       </td><td> 15.296066 </td><td>67         </td><td> 466       </td><td>...        </td><td> 5         </td><td>8.79       </td><td> 5         </td><td>0.1        </td><td> 219.14135 </td><td>24118979   </td><td>19.5       </td><td>19.7       </td><td>0.381      </td><td> 6.8       </td></tr>\n",
       "\t<tr><td>Afghanistan</td><td>2003       </td><td>Developing </td><td>56.7       </td><td>295        </td><td>87         </td><td>0.01       </td><td> 11.089053 </td><td>65         </td><td> 798       </td><td>...        </td><td>41         </td><td>8.82       </td><td>41         </td><td>0.1        </td><td> 198.72854 </td><td> 2364851   </td><td>19.7       </td><td>19.9       </td><td>0.373      </td><td> 6.5       </td></tr>\n",
       "\t<tr><td>Afghanistan</td><td>2002       </td><td>Developing </td><td>56.2       </td><td>  3        </td><td>88         </td><td>0.01       </td><td> 16.887351 </td><td>64         </td><td>2486       </td><td>...        </td><td>36         </td><td>7.76       </td><td>36         </td><td>0.1        </td><td> 187.84595 </td><td>21979923   </td><td>19.9       </td><td> 2.2       </td><td>0.341      </td><td> 6.2       </td></tr>\n",
       "\t<tr><td>Afghanistan</td><td>2001       </td><td>Developing </td><td>55.3       </td><td>316        </td><td>88         </td><td>0.01       </td><td> 10.574728 </td><td>63         </td><td>8762       </td><td>...        </td><td>35         </td><td>7.80       </td><td>33         </td><td>0.1        </td><td> 117.49698 </td><td> 2966463   </td><td> 2.1       </td><td> 2.4       </td><td>0.340      </td><td> 5.9       </td></tr>\n",
       "\t<tr><td>Afghanistan</td><td>2000       </td><td>Developing </td><td>54.8       </td><td>321        </td><td>88         </td><td>0.01       </td><td> 10.424960 </td><td>62         </td><td>6532       </td><td>...        </td><td>24         </td><td>8.20       </td><td>24         </td><td>0.1        </td><td> 114.56000 </td><td>  293756   </td><td> 2.3       </td><td> 2.5       </td><td>0.338      </td><td> 5.5       </td></tr>\n",
       "\t<tr><td>Albania    </td><td>2015       </td><td>Developing </td><td>77.8       </td><td> 74        </td><td> 0         </td><td>4.60       </td><td>364.975229 </td><td>99         </td><td>   0       </td><td>...        </td><td>99         </td><td>6.00       </td><td>99         </td><td>0.1        </td><td>3954.22783 </td><td>   28873   </td><td> 1.2       </td><td> 1.3       </td><td>0.762      </td><td>14.2       </td></tr>\n",
       "\t<tr><td>Albania    </td><td>2014       </td><td>Developing </td><td>77.5       </td><td>  8        </td><td> 0         </td><td>4.51       </td><td>428.749067 </td><td>98         </td><td>   0       </td><td>...        </td><td>98         </td><td>5.88       </td><td>98         </td><td>0.1        </td><td>4575.76379 </td><td>  288914   </td><td> 1.2       </td><td> 1.3       </td><td>0.761      </td><td>14.2       </td></tr>\n",
       "\t<tr><td>Albania    </td><td>2013       </td><td>Developing </td><td>77.2       </td><td> 84        </td><td> 0         </td><td>4.76       </td><td>430.876979 </td><td>99         </td><td>   0       </td><td>...        </td><td>99         </td><td>5.66       </td><td>99         </td><td>0.1        </td><td>4414.72314 </td><td>  289592   </td><td> 1.3       </td><td> 1.4       </td><td>0.759      </td><td>14.2       </td></tr>\n",
       "\t<tr><td>Albania    </td><td>2012       </td><td>Developing </td><td>76.9       </td><td> 86        </td><td> 0         </td><td>5.14       </td><td>412.443356 </td><td>99         </td><td>   9       </td><td>...        </td><td>99         </td><td>5.59       </td><td>99         </td><td>0.1        </td><td>4247.61438 </td><td>    2941   </td><td> 1.3       </td><td> 1.4       </td><td>0.752      </td><td>14.2       </td></tr>\n",
       "\t<tr><td>Albania    </td><td>2011       </td><td>Developing </td><td>76.6       </td><td> 88        </td><td> 0         </td><td>5.37       </td><td>437.062100 </td><td>99         </td><td>  28       </td><td>...        </td><td>99         </td><td>5.71       </td><td>99         </td><td>0.1        </td><td>4437.17868 </td><td>  295195   </td><td> 1.4       </td><td> 1.5       </td><td>0.738      </td><td>13.3       </td></tr>\n",
       "\t<tr><td>Albania    </td><td>2010       </td><td>Developing </td><td>76.2       </td><td> 91        </td><td> 1         </td><td>5.28       </td><td> 41.822757 </td><td>99         </td><td>  10       </td><td>...        </td><td>99         </td><td>5.34       </td><td>99         </td><td>0.1        </td><td> 494.35883 </td><td>  291321   </td><td> 1.4       </td><td> 1.5       </td><td>0.725      </td><td>12.5       </td></tr>\n",
       "\t<tr><td>Albania    </td><td>2009       </td><td>Developing </td><td>76.1       </td><td> 91        </td><td> 1         </td><td>5.79       </td><td>348.055952 </td><td>98         </td><td>   0       </td><td>...        </td><td>98         </td><td>5.79       </td><td>98         </td><td>0.1        </td><td>4114.13655 </td><td> 2927519   </td><td> 1.5       </td><td> 1.6       </td><td>0.721      </td><td>12.2       </td></tr>\n",
       "\t<tr><td>Albania    </td><td>2008       </td><td>Developing </td><td>75.3       </td><td>  1        </td><td> 1         </td><td>5.61       </td><td> 36.622068 </td><td>99         </td><td>   0       </td><td>...        </td><td>99         </td><td>5.87       </td><td>99         </td><td>0.1        </td><td> 437.53965 </td><td> 2947314   </td><td> 1.6       </td><td> 1.6       </td><td>0.713      </td><td>12.0       </td></tr>\n",
       "\t<tr><td>Albania    </td><td>2007       </td><td>Developing </td><td>75.9       </td><td>  9        </td><td> 1         </td><td>5.58       </td><td> 32.246552 </td><td>98         </td><td>  22       </td><td>...        </td><td>99         </td><td>6.10       </td><td>98         </td><td>0.1        </td><td> 363.13685 </td><td>   29717   </td><td> 1.6       </td><td> 1.7       </td><td>0.703      </td><td>11.6       </td></tr>\n",
       "\t<tr><td>Albania    </td><td>2006       </td><td>Developing </td><td>74.2       </td><td> 99        </td><td> 1         </td><td>5.31       </td><td>  3.302154 </td><td>98         </td><td>  68       </td><td>...        </td><td>97         </td><td>5.86       </td><td>97         </td><td>0.1        </td><td>  35.12930 </td><td> 2992547   </td><td> 1.7       </td><td> 1.8       </td><td>0.696      </td><td>11.4       </td></tr>\n",
       "\t<tr><td>Albania    </td><td>2005       </td><td>Developing </td><td>73.5       </td><td> 15        </td><td> 1         </td><td>5.16       </td><td> 26.993121 </td><td>98         </td><td>   6       </td><td>...        </td><td>97         </td><td>6.12       </td><td>98         </td><td>0.1        </td><td> 279.14293 </td><td>  311487   </td><td> 1.8       </td><td> 1.8       </td><td>0.685      </td><td>10.8       </td></tr>\n",
       "\t<tr><td>Albania    </td><td>2004       </td><td>Developing </td><td>73.0       </td><td> 17        </td><td> 1         </td><td>4.54       </td><td>221.842800 </td><td>99         </td><td>   7       </td><td>...        </td><td>98         </td><td>6.38       </td><td>97         </td><td>0.1        </td><td>2416.58824 </td><td>  326939   </td><td> 1.8       </td><td> 1.9       </td><td>0.681      </td><td>10.9       </td></tr>\n",
       "\t<tr><td>Albania    </td><td>2003       </td><td>Developing </td><td>72.8       </td><td> 18        </td><td> 1         </td><td>4.29       </td><td> 14.719289 </td><td>97         </td><td>   8       </td><td>...        </td><td>97         </td><td>6.27       </td><td>97         </td><td>0.1        </td><td> 189.68156 </td><td>  339616   </td><td> 1.9       </td><td> 2.0       </td><td>0.674      </td><td>10.7       </td></tr>\n",
       "\t<tr><td>Albania    </td><td>2002       </td><td>Developing </td><td>73.3       </td><td> 15        </td><td> 1         </td><td>3.73       </td><td>104.516916 </td><td>96         </td><td>  16       </td><td>...        </td><td>98         </td><td>6.30       </td><td>98         </td><td>0.1        </td><td>1453.64278 </td><td>    3511   </td><td> 2.0       </td><td> 2.1       </td><td>0.670      </td><td>10.7       </td></tr>\n",
       "\t<tr><td>...</td><td>...</td><td>...</td><td>...</td><td>...</td><td>...</td><td>...</td><td>...</td><td>...</td><td>...</td><td>   </td><td>...</td><td>...</td><td>...</td><td>...</td><td>...</td><td>...</td><td>...</td><td>...</td><td>...</td><td>...</td></tr>\n",
       "\t<tr><td>Zambia    </td><td>2013      </td><td>Developing</td><td>63.0      </td><td>328       </td><td>29        </td><td>2.41      </td><td> 20.623063</td><td>79        </td><td>   35     </td><td>...       </td><td>74        </td><td>4.99      </td><td>79        </td><td> 4.8      </td><td> 185.79336</td><td> 1515321  </td><td> 6.4      </td><td> 6.2      </td><td>0.565     </td><td>12.5      </td></tr>\n",
       "\t<tr><td>Zambia    </td><td>2012      </td><td>Developing</td><td>59.2      </td><td>349       </td><td>29        </td><td>2.59      </td><td>196.915250</td><td>78        </td><td>  896     </td><td>...       </td><td> 7        </td><td>4.91      </td><td>78        </td><td> 5.6      </td><td>1734.93612</td><td>14699937  </td><td> 6.5      </td><td> 6.3      </td><td>0.554     </td><td>12.3      </td></tr>\n",
       "\t<tr><td>Zambia    </td><td>2011      </td><td>Developing</td><td>58.2      </td><td>366       </td><td>29        </td><td>2.57      </td><td>183.046169</td><td>81        </td><td>13234     </td><td>...       </td><td>83        </td><td>4.26      </td><td>81        </td><td> 6.3      </td><td>1644.61967</td><td>14264756  </td><td> 6.6      </td><td> 6.4      </td><td>0.543     </td><td>12.0      </td></tr>\n",
       "\t<tr><td>Zambia    </td><td>2010      </td><td>Developing</td><td>58.0      </td><td>363       </td><td>30        </td><td>2.47      </td><td>184.364910</td><td>83        </td><td>15754     </td><td>...       </td><td> 8        </td><td>4.41      </td><td>83        </td><td> 6.8      </td><td>1463.21357</td><td>  138533  </td><td> 6.7      </td><td> 6.5      </td><td>0.533     </td><td>11.8      </td></tr>\n",
       "\t<tr><td>Zambia    </td><td>2009      </td><td>Developing</td><td>57.4      </td><td>368       </td><td>30        </td><td>2.30      </td><td>143.869887</td><td>94        </td><td>   26     </td><td>...       </td><td>93        </td><td>4.73      </td><td>94        </td><td> 9.1      </td><td>1139.11233</td><td>13456417  </td><td> 6.7      </td><td> 6.6      </td><td>0.518     </td><td>11.6      </td></tr>\n",
       "\t<tr><td>Zambia    </td><td>2008      </td><td>Developing</td><td>55.7      </td><td> 45       </td><td>31        </td><td>2.12      </td><td>153.678375</td><td>87        </td><td>  140     </td><td>...       </td><td> 9        </td><td>4.87      </td><td>87        </td><td>11.9      </td><td>1369.68249</td><td> 1382517  </td><td> 6.8      </td><td> 6.7      </td><td>0.504     </td><td>11.4      </td></tr>\n",
       "\t<tr><td>Zambia    </td><td>2007      </td><td>Developing</td><td>52.6      </td><td>487       </td><td>32        </td><td>2.08      </td><td> 10.851482</td><td> 8        </td><td>  535     </td><td>...       </td><td>77        </td><td>4.37      </td><td> 8        </td><td>13.6      </td><td> 114.58799</td><td>12725974  </td><td> 6.9      </td><td> 6.8      </td><td>0.492     </td><td>11.1      </td></tr>\n",
       "\t<tr><td>Zambia    </td><td>2006      </td><td>Developing</td><td>58.0      </td><td>526       </td><td>33        </td><td>2.25      </td><td>  1.860004</td><td>81        </td><td>  459     </td><td>...       </td><td>83        </td><td>6.11      </td><td>81        </td><td>15.9      </td><td>  13.15420</td><td>12383446  </td><td> 7.0      </td><td> 6.9      </td><td>0.479     </td><td>10.9      </td></tr>\n",
       "\t<tr><td>Zambia    </td><td>2005      </td><td>Developing</td><td>49.3      </td><td>554       </td><td>34        </td><td>2.33      </td><td>121.879331</td><td>82        </td><td>   45     </td><td>...       </td><td>84        </td><td>7.56      </td><td>82        </td><td>17.0      </td><td> 691.31782</td><td> 1252156  </td><td> 7.1      </td><td> 7.0      </td><td>0.467     </td><td>10.7      </td></tr>\n",
       "\t<tr><td>Zambia    </td><td>2004      </td><td>Developing</td><td>47.9      </td><td>578       </td><td>36        </td><td>2.46      </td><td>  8.369852</td><td>NA        </td><td>   35     </td><td>...       </td><td>84        </td><td>7.33      </td><td>83        </td><td>17.6      </td><td>  53.27722</td><td>11731746  </td><td> 7.2      </td><td> 7.1      </td><td>0.456     </td><td>10.5      </td></tr>\n",
       "\t<tr><td>Zambia    </td><td>2003      </td><td>Developing</td><td>46.4      </td><td> 64       </td><td>39        </td><td>2.33      </td><td> 65.789974</td><td>NA        </td><td>  881     </td><td>...       </td><td>85        </td><td>8.18      </td><td>83        </td><td>18.2      </td><td> 429.15834</td><td>11421984  </td><td> 7.3      </td><td> 7.2      </td><td>0.443     </td><td>10.2      </td></tr>\n",
       "\t<tr><td>Zambia    </td><td>2002      </td><td>Developing</td><td>45.5      </td><td> 69       </td><td>41        </td><td>2.44      </td><td> 54.043480</td><td>NA        </td><td>25036     </td><td>...       </td><td>85        </td><td>6.93      </td><td>84        </td><td>18.4      </td><td> 377.13524</td><td>  111249  </td><td> 7.4      </td><td> 7.3      </td><td>0.433     </td><td>10.0      </td></tr>\n",
       "\t<tr><td>Zambia    </td><td>2001      </td><td>Developing</td><td>44.6      </td><td>611       </td><td>43        </td><td>2.61      </td><td> 46.830275</td><td>NA        </td><td>16997     </td><td>...       </td><td>86        </td><td>6.56      </td><td>85        </td><td>18.6      </td><td> 378.27362</td><td> 1824125  </td><td> 7.4      </td><td> 7.4      </td><td>0.424     </td><td> 9.8      </td></tr>\n",
       "\t<tr><td>Zambia    </td><td>2000      </td><td>Developing</td><td>43.8      </td><td>614       </td><td>44        </td><td>2.62      </td><td> 45.616880</td><td>NA        </td><td>30930     </td><td>...       </td><td>85        </td><td>7.16      </td><td>85        </td><td>18.7      </td><td> 341.95562</td><td> 1531221  </td><td> 7.5      </td><td> 7.5      </td><td>0.418     </td><td> 9.6      </td></tr>\n",
       "\t<tr><td>Zimbabwe  </td><td>2015      </td><td>Developing</td><td>67.0      </td><td>336       </td><td>22        </td><td>  NA      </td><td>  0.000000</td><td>87        </td><td>    0     </td><td>...       </td><td>88        </td><td>  NA      </td><td>87        </td><td> 6.2      </td><td> 118.69383</td><td>15777451  </td><td> 5.6      </td><td> 5.5      </td><td>0.507     </td><td>10.3      </td></tr>\n",
       "\t<tr><td>Zimbabwe  </td><td>2014      </td><td>Developing</td><td>59.2      </td><td>371       </td><td>23        </td><td>6.50      </td><td> 10.822595</td><td>91        </td><td>    0     </td><td>...       </td><td>92        </td><td>6.44      </td><td>91        </td><td> 6.3      </td><td> 127.47462</td><td>15411675  </td><td> 5.9      </td><td> 5.7      </td><td>0.498     </td><td>10.3      </td></tr>\n",
       "\t<tr><td>Zimbabwe  </td><td>2013      </td><td>Developing</td><td>58.0      </td><td>399       </td><td>25        </td><td>6.39      </td><td> 10.666707</td><td>95        </td><td>    0     </td><td>...       </td><td>95        </td><td>6.88      </td><td>95        </td><td> 6.8      </td><td> 111.22740</td><td>  155456  </td><td> 6.2      </td><td> 6.0      </td><td>0.488     </td><td>10.4      </td></tr>\n",
       "\t<tr><td>Zimbabwe  </td><td>2012      </td><td>Developing</td><td>56.6      </td><td>429       </td><td>26        </td><td>6.09      </td><td> 92.602336</td><td>97        </td><td>    0     </td><td>...       </td><td>95        </td><td>6.69      </td><td>95        </td><td> 8.8      </td><td> 955.64847</td><td> 1471826  </td><td> 6.5      </td><td> 6.4      </td><td>0.464     </td><td> 9.8      </td></tr>\n",
       "\t<tr><td>Zimbabwe  </td><td>2011      </td><td>Developing</td><td>54.9      </td><td>464       </td><td>28        </td><td>6.00      </td><td> 63.750530</td><td>94        </td><td>    0     </td><td>...       </td><td>93        </td><td>6.31      </td><td>93        </td><td>13.3      </td><td> 839.92794</td><td>14386649  </td><td> 6.8      </td><td> 6.7      </td><td>0.452     </td><td>10.1      </td></tr>\n",
       "\t<tr><td>Zimbabwe  </td><td>2010      </td><td>Developing</td><td>52.4      </td><td>527       </td><td>29        </td><td>5.21      </td><td> 53.308581</td><td> 9        </td><td> 9696     </td><td>...       </td><td>89        </td><td>5.37      </td><td>89        </td><td>15.7      </td><td> 713.63562</td><td> 1486317  </td><td> 7.1      </td><td> 7.0      </td><td>0.436     </td><td>10.0      </td></tr>\n",
       "\t<tr><td>Zimbabwe  </td><td>2009      </td><td>Developing</td><td>50.0      </td><td>587       </td><td>30        </td><td>4.64      </td><td>  1.040021</td><td>73        </td><td>  853     </td><td>...       </td><td>69        </td><td>6.26      </td><td>73        </td><td>18.1      </td><td>  65.82412</td><td> 1381599  </td><td> 7.5      </td><td> 7.4      </td><td>0.419     </td><td> 9.9      </td></tr>\n",
       "\t<tr><td>Zimbabwe  </td><td>2008      </td><td>Developing</td><td>48.2      </td><td>632       </td><td>30        </td><td>3.56      </td><td> 20.843429</td><td>75        </td><td>    0     </td><td>...       </td><td>75        </td><td>4.96      </td><td>75        </td><td>20.5      </td><td> 325.67857</td><td>13558469  </td><td> 7.8      </td><td> 7.8      </td><td>0.421     </td><td> 9.7      </td></tr>\n",
       "\t<tr><td>Zimbabwe  </td><td>2007      </td><td>Developing</td><td>46.6      </td><td> 67       </td><td>29        </td><td>3.88      </td><td> 29.814566</td><td>72        </td><td>  242     </td><td>...       </td><td>73        </td><td>4.47      </td><td>73        </td><td>23.7      </td><td> 396.99822</td><td> 1332999  </td><td> 8.2      </td><td> 8.2      </td><td>0.414     </td><td> 9.6      </td></tr>\n",
       "\t<tr><td>Zimbabwe  </td><td>2006      </td><td>Developing</td><td>45.4      </td><td>  7       </td><td>28        </td><td>4.57      </td><td> 34.262169</td><td>68        </td><td>  212     </td><td>...       </td><td>71        </td><td>5.12      </td><td> 7        </td><td>26.8      </td><td> 414.79623</td><td>13124267  </td><td> 8.6      </td><td> 8.6      </td><td>0.408     </td><td> 9.5      </td></tr>\n",
       "\t<tr><td>Zimbabwe  </td><td>2005      </td><td>Developing</td><td>44.6      </td><td>717       </td><td>28        </td><td>4.14      </td><td>  8.717409</td><td>65        </td><td>  420     </td><td>...       </td><td>69        </td><td>6.44      </td><td>68        </td><td>30.3      </td><td> 444.76575</td><td>  129432  </td><td> 9.0      </td><td> 9.0      </td><td>0.406     </td><td> 9.3      </td></tr>\n",
       "\t<tr><td>Zimbabwe  </td><td>2004      </td><td>Developing</td><td>44.3      </td><td>723       </td><td>27        </td><td>4.36      </td><td>  0.000000</td><td>68        </td><td>   31     </td><td>...       </td><td>67        </td><td>7.13      </td><td>65        </td><td>33.6      </td><td> 454.36665</td><td>12777511  </td><td> 9.4      </td><td> 9.4      </td><td>0.407     </td><td> 9.2      </td></tr>\n",
       "\t<tr><td>Zimbabwe  </td><td>2003      </td><td>Developing</td><td>44.5      </td><td>715       </td><td>26        </td><td>4.06      </td><td>  0.000000</td><td> 7        </td><td>  998     </td><td>...       </td><td> 7        </td><td>6.52      </td><td>68        </td><td>36.7      </td><td> 453.35116</td><td>12633897  </td><td> 9.8      </td><td> 9.9      </td><td>0.418     </td><td> 9.5      </td></tr>\n",
       "\t<tr><td>Zimbabwe  </td><td>2002      </td><td>Developing</td><td>44.8      </td><td> 73       </td><td>25        </td><td>4.43      </td><td>  0.000000</td><td>73        </td><td>  304     </td><td>...       </td><td>73        </td><td>6.53      </td><td>71        </td><td>39.8      </td><td>  57.34834</td><td>  125525  </td><td> 1.2      </td><td> 1.3      </td><td>0.427     </td><td>10.0      </td></tr>\n",
       "\t<tr><td>Zimbabwe  </td><td>2001      </td><td>Developing</td><td>45.3      </td><td>686       </td><td>25        </td><td>1.72      </td><td>  0.000000</td><td>76        </td><td>  529     </td><td>...       </td><td>76        </td><td>6.16      </td><td>75        </td><td>42.1      </td><td> 548.58731</td><td>12366165  </td><td> 1.6      </td><td> 1.7      </td><td>0.427     </td><td> 9.8      </td></tr>\n",
       "\t<tr><td>Zimbabwe  </td><td>2000      </td><td>Developing</td><td>46.0      </td><td>665       </td><td>24        </td><td>1.68      </td><td>  0.000000</td><td>79        </td><td> 1483     </td><td>...       </td><td>78        </td><td>7.10      </td><td>78        </td><td>43.5      </td><td> 547.35888</td><td>12222251  </td><td>11.0      </td><td>11.2      </td><td>0.434     </td><td> 9.8      </td></tr>\n",
       "</tbody>\n",
       "</table>\n"
      ],
      "text/latex": [
       "\\begin{tabular}{r|llllllllllllllllllllll}\n",
       " country & year & status & life\\_expectancy & adult\\_mortality & infant\\_deaths & alcohol & percentage\\_expenditure & hepatitis\\_b & measles & ... & polio & total\\_expenditure & diphtheria & hiv\\_aids & gdp & population & thinness\\_1\\_19\\_years & thinness\\_5\\_9\\_years & income\\_composition\\_of\\_resources & schooling\\\\\n",
       "\\hline\n",
       "\t Afghanistan & 2015        & Developing  & 65.0        & 263         & 62          & 0.01        &  71.279624  & 65          & 1154        & ...         &  6          & 8.16        & 65          & 0.1         &  584.25921  & 33736494    & 17.2        & 17.3        & 0.479       & 10.1       \\\\\n",
       "\t Afghanistan & 2014        & Developing  & 59.9        & 271         & 64          & 0.01        &  73.523582  & 62          &  492        & ...         & 58          & 8.18        & 62          & 0.1         &  612.69651  &   327582    & 17.5        & 17.5        & 0.476       & 10.0       \\\\\n",
       "\t Afghanistan & 2013        & Developing  & 59.9        & 268         & 66          & 0.01        &  73.219243  & 64          &  430        & ...         & 62          & 8.13        & 64          & 0.1         &  631.74498  & 31731688    & 17.7        & 17.7        & 0.470       &  9.9       \\\\\n",
       "\t Afghanistan & 2012        & Developing  & 59.5        & 272         & 69          & 0.01        &  78.184215  & 67          & 2787        & ...         & 67          & 8.52        & 67          & 0.1         &  669.95900  &  3696958    & 17.9        & 18.0        & 0.463       &  9.8       \\\\\n",
       "\t Afghanistan & 2011        & Developing  & 59.2        & 275         & 71          & 0.01        &   7.097109  & 68          & 3013        & ...         & 68          & 7.87        & 68          & 0.1         &   63.53723  &  2978599    & 18.2        & 18.2        & 0.454       &  9.5       \\\\\n",
       "\t Afghanistan & 2010        & Developing  & 58.8        & 279         & 74          & 0.01        &  79.679367  & 66          & 1989        & ...         & 66          & 9.20        & 66          & 0.1         &  553.32894  &  2883167    & 18.4        & 18.4        & 0.448       &  9.2       \\\\\n",
       "\t Afghanistan & 2009        & Developing  & 58.6        & 281         & 77          & 0.01        &  56.762217  & 63          & 2861        & ...         & 63          & 9.42        & 63          & 0.1         &  445.89330  &   284331    & 18.6        & 18.7        & 0.434       &  8.9       \\\\\n",
       "\t Afghanistan & 2008        & Developing  & 58.1        & 287         & 80          & 0.03        &  25.873925  & 64          & 1599        & ...         & 64          & 8.33        & 64          & 0.1         &  373.36112  &  2729431    & 18.8        & 18.9        & 0.433       &  8.7       \\\\\n",
       "\t Afghanistan & 2007        & Developing  & 57.5        & 295         & 82          & 0.02        &  10.910156  & 63          & 1141        & ...         & 63          & 6.73        & 63          & 0.1         &  369.83580  & 26616792    & 19.0        & 19.1        & 0.415       &  8.4       \\\\\n",
       "\t Afghanistan & 2006        & Developing  & 57.3        & 295         & 84          & 0.03        &  17.171518  & 64          & 1990        & ...         & 58          & 7.43        & 58          & 0.1         &  272.56377  &  2589345    & 19.2        & 19.3        & 0.405       &  8.1       \\\\\n",
       "\t Afghanistan & 2005        & Developing  & 57.3        & 291         & 85          & 0.02        &   1.388648  & 66          & 1296        & ...         & 58          & 8.70        & 58          & 0.1         &   25.29413  &   257798    & 19.3        & 19.5        & 0.396       &  7.9       \\\\\n",
       "\t Afghanistan & 2004        & Developing  & 57.0        & 293         & 87          & 0.02        &  15.296066  & 67          &  466        & ...         &  5          & 8.79        &  5          & 0.1         &  219.14135  & 24118979    & 19.5        & 19.7        & 0.381       &  6.8       \\\\\n",
       "\t Afghanistan & 2003        & Developing  & 56.7        & 295         & 87          & 0.01        &  11.089053  & 65          &  798        & ...         & 41          & 8.82        & 41          & 0.1         &  198.72854  &  2364851    & 19.7        & 19.9        & 0.373       &  6.5       \\\\\n",
       "\t Afghanistan & 2002        & Developing  & 56.2        &   3         & 88          & 0.01        &  16.887351  & 64          & 2486        & ...         & 36          & 7.76        & 36          & 0.1         &  187.84595  & 21979923    & 19.9        &  2.2        & 0.341       &  6.2       \\\\\n",
       "\t Afghanistan & 2001        & Developing  & 55.3        & 316         & 88          & 0.01        &  10.574728  & 63          & 8762        & ...         & 35          & 7.80        & 33          & 0.1         &  117.49698  &  2966463    &  2.1        &  2.4        & 0.340       &  5.9       \\\\\n",
       "\t Afghanistan & 2000        & Developing  & 54.8        & 321         & 88          & 0.01        &  10.424960  & 62          & 6532        & ...         & 24          & 8.20        & 24          & 0.1         &  114.56000  &   293756    &  2.3        &  2.5        & 0.338       &  5.5       \\\\\n",
       "\t Albania     & 2015        & Developing  & 77.8        &  74         &  0          & 4.60        & 364.975229  & 99          &    0        & ...         & 99          & 6.00        & 99          & 0.1         & 3954.22783  &    28873    &  1.2        &  1.3        & 0.762       & 14.2       \\\\\n",
       "\t Albania     & 2014        & Developing  & 77.5        &   8         &  0          & 4.51        & 428.749067  & 98          &    0        & ...         & 98          & 5.88        & 98          & 0.1         & 4575.76379  &   288914    &  1.2        &  1.3        & 0.761       & 14.2       \\\\\n",
       "\t Albania     & 2013        & Developing  & 77.2        &  84         &  0          & 4.76        & 430.876979  & 99          &    0        & ...         & 99          & 5.66        & 99          & 0.1         & 4414.72314  &   289592    &  1.3        &  1.4        & 0.759       & 14.2       \\\\\n",
       "\t Albania     & 2012        & Developing  & 76.9        &  86         &  0          & 5.14        & 412.443356  & 99          &    9        & ...         & 99          & 5.59        & 99          & 0.1         & 4247.61438  &     2941    &  1.3        &  1.4        & 0.752       & 14.2       \\\\\n",
       "\t Albania     & 2011        & Developing  & 76.6        &  88         &  0          & 5.37        & 437.062100  & 99          &   28        & ...         & 99          & 5.71        & 99          & 0.1         & 4437.17868  &   295195    &  1.4        &  1.5        & 0.738       & 13.3       \\\\\n",
       "\t Albania     & 2010        & Developing  & 76.2        &  91         &  1          & 5.28        &  41.822757  & 99          &   10        & ...         & 99          & 5.34        & 99          & 0.1         &  494.35883  &   291321    &  1.4        &  1.5        & 0.725       & 12.5       \\\\\n",
       "\t Albania     & 2009        & Developing  & 76.1        &  91         &  1          & 5.79        & 348.055952  & 98          &    0        & ...         & 98          & 5.79        & 98          & 0.1         & 4114.13655  &  2927519    &  1.5        &  1.6        & 0.721       & 12.2       \\\\\n",
       "\t Albania     & 2008        & Developing  & 75.3        &   1         &  1          & 5.61        &  36.622068  & 99          &    0        & ...         & 99          & 5.87        & 99          & 0.1         &  437.53965  &  2947314    &  1.6        &  1.6        & 0.713       & 12.0       \\\\\n",
       "\t Albania     & 2007        & Developing  & 75.9        &   9         &  1          & 5.58        &  32.246552  & 98          &   22        & ...         & 99          & 6.10        & 98          & 0.1         &  363.13685  &    29717    &  1.6        &  1.7        & 0.703       & 11.6       \\\\\n",
       "\t Albania     & 2006        & Developing  & 74.2        &  99         &  1          & 5.31        &   3.302154  & 98          &   68        & ...         & 97          & 5.86        & 97          & 0.1         &   35.12930  &  2992547    &  1.7        &  1.8        & 0.696       & 11.4       \\\\\n",
       "\t Albania     & 2005        & Developing  & 73.5        &  15         &  1          & 5.16        &  26.993121  & 98          &    6        & ...         & 97          & 6.12        & 98          & 0.1         &  279.14293  &   311487    &  1.8        &  1.8        & 0.685       & 10.8       \\\\\n",
       "\t Albania     & 2004        & Developing  & 73.0        &  17         &  1          & 4.54        & 221.842800  & 99          &    7        & ...         & 98          & 6.38        & 97          & 0.1         & 2416.58824  &   326939    &  1.8        &  1.9        & 0.681       & 10.9       \\\\\n",
       "\t Albania     & 2003        & Developing  & 72.8        &  18         &  1          & 4.29        &  14.719289  & 97          &    8        & ...         & 97          & 6.27        & 97          & 0.1         &  189.68156  &   339616    &  1.9        &  2.0        & 0.674       & 10.7       \\\\\n",
       "\t Albania     & 2002        & Developing  & 73.3        &  15         &  1          & 3.73        & 104.516916  & 96          &   16        & ...         & 98          & 6.30        & 98          & 0.1         & 1453.64278  &     3511    &  2.0        &  2.1        & 0.670       & 10.7       \\\\\n",
       "\t ... & ... & ... & ... & ... & ... & ... & ... & ... & ... &     & ... & ... & ... & ... & ... & ... & ... & ... & ... & ...\\\\\n",
       "\t Zambia     & 2013       & Developing & 63.0       & 328        & 29         & 2.41       &  20.623063 & 79         &    35      & ...        & 74         & 4.99       & 79         &  4.8       &  185.79336 &  1515321   &  6.4       &  6.2       & 0.565      & 12.5      \\\\\n",
       "\t Zambia     & 2012       & Developing & 59.2       & 349        & 29         & 2.59       & 196.915250 & 78         &   896      & ...        &  7         & 4.91       & 78         &  5.6       & 1734.93612 & 14699937   &  6.5       &  6.3       & 0.554      & 12.3      \\\\\n",
       "\t Zambia     & 2011       & Developing & 58.2       & 366        & 29         & 2.57       & 183.046169 & 81         & 13234      & ...        & 83         & 4.26       & 81         &  6.3       & 1644.61967 & 14264756   &  6.6       &  6.4       & 0.543      & 12.0      \\\\\n",
       "\t Zambia     & 2010       & Developing & 58.0       & 363        & 30         & 2.47       & 184.364910 & 83         & 15754      & ...        &  8         & 4.41       & 83         &  6.8       & 1463.21357 &   138533   &  6.7       &  6.5       & 0.533      & 11.8      \\\\\n",
       "\t Zambia     & 2009       & Developing & 57.4       & 368        & 30         & 2.30       & 143.869887 & 94         &    26      & ...        & 93         & 4.73       & 94         &  9.1       & 1139.11233 & 13456417   &  6.7       &  6.6       & 0.518      & 11.6      \\\\\n",
       "\t Zambia     & 2008       & Developing & 55.7       &  45        & 31         & 2.12       & 153.678375 & 87         &   140      & ...        &  9         & 4.87       & 87         & 11.9       & 1369.68249 &  1382517   &  6.8       &  6.7       & 0.504      & 11.4      \\\\\n",
       "\t Zambia     & 2007       & Developing & 52.6       & 487        & 32         & 2.08       &  10.851482 &  8         &   535      & ...        & 77         & 4.37       &  8         & 13.6       &  114.58799 & 12725974   &  6.9       &  6.8       & 0.492      & 11.1      \\\\\n",
       "\t Zambia     & 2006       & Developing & 58.0       & 526        & 33         & 2.25       &   1.860004 & 81         &   459      & ...        & 83         & 6.11       & 81         & 15.9       &   13.15420 & 12383446   &  7.0       &  6.9       & 0.479      & 10.9      \\\\\n",
       "\t Zambia     & 2005       & Developing & 49.3       & 554        & 34         & 2.33       & 121.879331 & 82         &    45      & ...        & 84         & 7.56       & 82         & 17.0       &  691.31782 &  1252156   &  7.1       &  7.0       & 0.467      & 10.7      \\\\\n",
       "\t Zambia     & 2004       & Developing & 47.9       & 578        & 36         & 2.46       &   8.369852 & NA         &    35      & ...        & 84         & 7.33       & 83         & 17.6       &   53.27722 & 11731746   &  7.2       &  7.1       & 0.456      & 10.5      \\\\\n",
       "\t Zambia     & 2003       & Developing & 46.4       &  64        & 39         & 2.33       &  65.789974 & NA         &   881      & ...        & 85         & 8.18       & 83         & 18.2       &  429.15834 & 11421984   &  7.3       &  7.2       & 0.443      & 10.2      \\\\\n",
       "\t Zambia     & 2002       & Developing & 45.5       &  69        & 41         & 2.44       &  54.043480 & NA         & 25036      & ...        & 85         & 6.93       & 84         & 18.4       &  377.13524 &   111249   &  7.4       &  7.3       & 0.433      & 10.0      \\\\\n",
       "\t Zambia     & 2001       & Developing & 44.6       & 611        & 43         & 2.61       &  46.830275 & NA         & 16997      & ...        & 86         & 6.56       & 85         & 18.6       &  378.27362 &  1824125   &  7.4       &  7.4       & 0.424      &  9.8      \\\\\n",
       "\t Zambia     & 2000       & Developing & 43.8       & 614        & 44         & 2.62       &  45.616880 & NA         & 30930      & ...        & 85         & 7.16       & 85         & 18.7       &  341.95562 &  1531221   &  7.5       &  7.5       & 0.418      &  9.6      \\\\\n",
       "\t Zimbabwe   & 2015       & Developing & 67.0       & 336        & 22         &   NA       &   0.000000 & 87         &     0      & ...        & 88         &   NA       & 87         &  6.2       &  118.69383 & 15777451   &  5.6       &  5.5       & 0.507      & 10.3      \\\\\n",
       "\t Zimbabwe   & 2014       & Developing & 59.2       & 371        & 23         & 6.50       &  10.822595 & 91         &     0      & ...        & 92         & 6.44       & 91         &  6.3       &  127.47462 & 15411675   &  5.9       &  5.7       & 0.498      & 10.3      \\\\\n",
       "\t Zimbabwe   & 2013       & Developing & 58.0       & 399        & 25         & 6.39       &  10.666707 & 95         &     0      & ...        & 95         & 6.88       & 95         &  6.8       &  111.22740 &   155456   &  6.2       &  6.0       & 0.488      & 10.4      \\\\\n",
       "\t Zimbabwe   & 2012       & Developing & 56.6       & 429        & 26         & 6.09       &  92.602336 & 97         &     0      & ...        & 95         & 6.69       & 95         &  8.8       &  955.64847 &  1471826   &  6.5       &  6.4       & 0.464      &  9.8      \\\\\n",
       "\t Zimbabwe   & 2011       & Developing & 54.9       & 464        & 28         & 6.00       &  63.750530 & 94         &     0      & ...        & 93         & 6.31       & 93         & 13.3       &  839.92794 & 14386649   &  6.8       &  6.7       & 0.452      & 10.1      \\\\\n",
       "\t Zimbabwe   & 2010       & Developing & 52.4       & 527        & 29         & 5.21       &  53.308581 &  9         &  9696      & ...        & 89         & 5.37       & 89         & 15.7       &  713.63562 &  1486317   &  7.1       &  7.0       & 0.436      & 10.0      \\\\\n",
       "\t Zimbabwe   & 2009       & Developing & 50.0       & 587        & 30         & 4.64       &   1.040021 & 73         &   853      & ...        & 69         & 6.26       & 73         & 18.1       &   65.82412 &  1381599   &  7.5       &  7.4       & 0.419      &  9.9      \\\\\n",
       "\t Zimbabwe   & 2008       & Developing & 48.2       & 632        & 30         & 3.56       &  20.843429 & 75         &     0      & ...        & 75         & 4.96       & 75         & 20.5       &  325.67857 & 13558469   &  7.8       &  7.8       & 0.421      &  9.7      \\\\\n",
       "\t Zimbabwe   & 2007       & Developing & 46.6       &  67        & 29         & 3.88       &  29.814566 & 72         &   242      & ...        & 73         & 4.47       & 73         & 23.7       &  396.99822 &  1332999   &  8.2       &  8.2       & 0.414      &  9.6      \\\\\n",
       "\t Zimbabwe   & 2006       & Developing & 45.4       &   7        & 28         & 4.57       &  34.262169 & 68         &   212      & ...        & 71         & 5.12       &  7         & 26.8       &  414.79623 & 13124267   &  8.6       &  8.6       & 0.408      &  9.5      \\\\\n",
       "\t Zimbabwe   & 2005       & Developing & 44.6       & 717        & 28         & 4.14       &   8.717409 & 65         &   420      & ...        & 69         & 6.44       & 68         & 30.3       &  444.76575 &   129432   &  9.0       &  9.0       & 0.406      &  9.3      \\\\\n",
       "\t Zimbabwe   & 2004       & Developing & 44.3       & 723        & 27         & 4.36       &   0.000000 & 68         &    31      & ...        & 67         & 7.13       & 65         & 33.6       &  454.36665 & 12777511   &  9.4       &  9.4       & 0.407      &  9.2      \\\\\n",
       "\t Zimbabwe   & 2003       & Developing & 44.5       & 715        & 26         & 4.06       &   0.000000 &  7         &   998      & ...        &  7         & 6.52       & 68         & 36.7       &  453.35116 & 12633897   &  9.8       &  9.9       & 0.418      &  9.5      \\\\\n",
       "\t Zimbabwe   & 2002       & Developing & 44.8       &  73        & 25         & 4.43       &   0.000000 & 73         &   304      & ...        & 73         & 6.53       & 71         & 39.8       &   57.34834 &   125525   &  1.2       &  1.3       & 0.427      & 10.0      \\\\\n",
       "\t Zimbabwe   & 2001       & Developing & 45.3       & 686        & 25         & 1.72       &   0.000000 & 76         &   529      & ...        & 76         & 6.16       & 75         & 42.1       &  548.58731 & 12366165   &  1.6       &  1.7       & 0.427      &  9.8      \\\\\n",
       "\t Zimbabwe   & 2000       & Developing & 46.0       & 665        & 24         & 1.68       &   0.000000 & 79         &  1483      & ...        & 78         & 7.10       & 78         & 43.5       &  547.35888 & 12222251   & 11.0       & 11.2       & 0.434      &  9.8      \\\\\n",
       "\\end{tabular}\n"
      ],
      "text/markdown": [
       "\n",
       "| country | year | status | life_expectancy | adult_mortality | infant_deaths | alcohol | percentage_expenditure | hepatitis_b | measles | ... | polio | total_expenditure | diphtheria | hiv_aids | gdp | population | thinness_1_19_years | thinness_5_9_years | income_composition_of_resources | schooling |\n",
       "|---|---|---|---|---|---|---|---|---|---|---|---|---|---|---|---|---|---|---|---|---|\n",
       "| Afghanistan | 2015        | Developing  | 65.0        | 263         | 62          | 0.01        |  71.279624  | 65          | 1154        | ...         |  6          | 8.16        | 65          | 0.1         |  584.25921  | 33736494    | 17.2        | 17.3        | 0.479       | 10.1        |\n",
       "| Afghanistan | 2014        | Developing  | 59.9        | 271         | 64          | 0.01        |  73.523582  | 62          |  492        | ...         | 58          | 8.18        | 62          | 0.1         |  612.69651  |   327582    | 17.5        | 17.5        | 0.476       | 10.0        |\n",
       "| Afghanistan | 2013        | Developing  | 59.9        | 268         | 66          | 0.01        |  73.219243  | 64          |  430        | ...         | 62          | 8.13        | 64          | 0.1         |  631.74498  | 31731688    | 17.7        | 17.7        | 0.470       |  9.9        |\n",
       "| Afghanistan | 2012        | Developing  | 59.5        | 272         | 69          | 0.01        |  78.184215  | 67          | 2787        | ...         | 67          | 8.52        | 67          | 0.1         |  669.95900  |  3696958    | 17.9        | 18.0        | 0.463       |  9.8        |\n",
       "| Afghanistan | 2011        | Developing  | 59.2        | 275         | 71          | 0.01        |   7.097109  | 68          | 3013        | ...         | 68          | 7.87        | 68          | 0.1         |   63.53723  |  2978599    | 18.2        | 18.2        | 0.454       |  9.5        |\n",
       "| Afghanistan | 2010        | Developing  | 58.8        | 279         | 74          | 0.01        |  79.679367  | 66          | 1989        | ...         | 66          | 9.20        | 66          | 0.1         |  553.32894  |  2883167    | 18.4        | 18.4        | 0.448       |  9.2        |\n",
       "| Afghanistan | 2009        | Developing  | 58.6        | 281         | 77          | 0.01        |  56.762217  | 63          | 2861        | ...         | 63          | 9.42        | 63          | 0.1         |  445.89330  |   284331    | 18.6        | 18.7        | 0.434       |  8.9        |\n",
       "| Afghanistan | 2008        | Developing  | 58.1        | 287         | 80          | 0.03        |  25.873925  | 64          | 1599        | ...         | 64          | 8.33        | 64          | 0.1         |  373.36112  |  2729431    | 18.8        | 18.9        | 0.433       |  8.7        |\n",
       "| Afghanistan | 2007        | Developing  | 57.5        | 295         | 82          | 0.02        |  10.910156  | 63          | 1141        | ...         | 63          | 6.73        | 63          | 0.1         |  369.83580  | 26616792    | 19.0        | 19.1        | 0.415       |  8.4        |\n",
       "| Afghanistan | 2006        | Developing  | 57.3        | 295         | 84          | 0.03        |  17.171518  | 64          | 1990        | ...         | 58          | 7.43        | 58          | 0.1         |  272.56377  |  2589345    | 19.2        | 19.3        | 0.405       |  8.1        |\n",
       "| Afghanistan | 2005        | Developing  | 57.3        | 291         | 85          | 0.02        |   1.388648  | 66          | 1296        | ...         | 58          | 8.70        | 58          | 0.1         |   25.29413  |   257798    | 19.3        | 19.5        | 0.396       |  7.9        |\n",
       "| Afghanistan | 2004        | Developing  | 57.0        | 293         | 87          | 0.02        |  15.296066  | 67          |  466        | ...         |  5          | 8.79        |  5          | 0.1         |  219.14135  | 24118979    | 19.5        | 19.7        | 0.381       |  6.8        |\n",
       "| Afghanistan | 2003        | Developing  | 56.7        | 295         | 87          | 0.01        |  11.089053  | 65          |  798        | ...         | 41          | 8.82        | 41          | 0.1         |  198.72854  |  2364851    | 19.7        | 19.9        | 0.373       |  6.5        |\n",
       "| Afghanistan | 2002        | Developing  | 56.2        |   3         | 88          | 0.01        |  16.887351  | 64          | 2486        | ...         | 36          | 7.76        | 36          | 0.1         |  187.84595  | 21979923    | 19.9        |  2.2        | 0.341       |  6.2        |\n",
       "| Afghanistan | 2001        | Developing  | 55.3        | 316         | 88          | 0.01        |  10.574728  | 63          | 8762        | ...         | 35          | 7.80        | 33          | 0.1         |  117.49698  |  2966463    |  2.1        |  2.4        | 0.340       |  5.9        |\n",
       "| Afghanistan | 2000        | Developing  | 54.8        | 321         | 88          | 0.01        |  10.424960  | 62          | 6532        | ...         | 24          | 8.20        | 24          | 0.1         |  114.56000  |   293756    |  2.3        |  2.5        | 0.338       |  5.5        |\n",
       "| Albania     | 2015        | Developing  | 77.8        |  74         |  0          | 4.60        | 364.975229  | 99          |    0        | ...         | 99          | 6.00        | 99          | 0.1         | 3954.22783  |    28873    |  1.2        |  1.3        | 0.762       | 14.2        |\n",
       "| Albania     | 2014        | Developing  | 77.5        |   8         |  0          | 4.51        | 428.749067  | 98          |    0        | ...         | 98          | 5.88        | 98          | 0.1         | 4575.76379  |   288914    |  1.2        |  1.3        | 0.761       | 14.2        |\n",
       "| Albania     | 2013        | Developing  | 77.2        |  84         |  0          | 4.76        | 430.876979  | 99          |    0        | ...         | 99          | 5.66        | 99          | 0.1         | 4414.72314  |   289592    |  1.3        |  1.4        | 0.759       | 14.2        |\n",
       "| Albania     | 2012        | Developing  | 76.9        |  86         |  0          | 5.14        | 412.443356  | 99          |    9        | ...         | 99          | 5.59        | 99          | 0.1         | 4247.61438  |     2941    |  1.3        |  1.4        | 0.752       | 14.2        |\n",
       "| Albania     | 2011        | Developing  | 76.6        |  88         |  0          | 5.37        | 437.062100  | 99          |   28        | ...         | 99          | 5.71        | 99          | 0.1         | 4437.17868  |   295195    |  1.4        |  1.5        | 0.738       | 13.3        |\n",
       "| Albania     | 2010        | Developing  | 76.2        |  91         |  1          | 5.28        |  41.822757  | 99          |   10        | ...         | 99          | 5.34        | 99          | 0.1         |  494.35883  |   291321    |  1.4        |  1.5        | 0.725       | 12.5        |\n",
       "| Albania     | 2009        | Developing  | 76.1        |  91         |  1          | 5.79        | 348.055952  | 98          |    0        | ...         | 98          | 5.79        | 98          | 0.1         | 4114.13655  |  2927519    |  1.5        |  1.6        | 0.721       | 12.2        |\n",
       "| Albania     | 2008        | Developing  | 75.3        |   1         |  1          | 5.61        |  36.622068  | 99          |    0        | ...         | 99          | 5.87        | 99          | 0.1         |  437.53965  |  2947314    |  1.6        |  1.6        | 0.713       | 12.0        |\n",
       "| Albania     | 2007        | Developing  | 75.9        |   9         |  1          | 5.58        |  32.246552  | 98          |   22        | ...         | 99          | 6.10        | 98          | 0.1         |  363.13685  |    29717    |  1.6        |  1.7        | 0.703       | 11.6        |\n",
       "| Albania     | 2006        | Developing  | 74.2        |  99         |  1          | 5.31        |   3.302154  | 98          |   68        | ...         | 97          | 5.86        | 97          | 0.1         |   35.12930  |  2992547    |  1.7        |  1.8        | 0.696       | 11.4        |\n",
       "| Albania     | 2005        | Developing  | 73.5        |  15         |  1          | 5.16        |  26.993121  | 98          |    6        | ...         | 97          | 6.12        | 98          | 0.1         |  279.14293  |   311487    |  1.8        |  1.8        | 0.685       | 10.8        |\n",
       "| Albania     | 2004        | Developing  | 73.0        |  17         |  1          | 4.54        | 221.842800  | 99          |    7        | ...         | 98          | 6.38        | 97          | 0.1         | 2416.58824  |   326939    |  1.8        |  1.9        | 0.681       | 10.9        |\n",
       "| Albania     | 2003        | Developing  | 72.8        |  18         |  1          | 4.29        |  14.719289  | 97          |    8        | ...         | 97          | 6.27        | 97          | 0.1         |  189.68156  |   339616    |  1.9        |  2.0        | 0.674       | 10.7        |\n",
       "| Albania     | 2002        | Developing  | 73.3        |  15         |  1          | 3.73        | 104.516916  | 96          |   16        | ...         | 98          | 6.30        | 98          | 0.1         | 1453.64278  |     3511    |  2.0        |  2.1        | 0.670       | 10.7        |\n",
       "| ... | ... | ... | ... | ... | ... | ... | ... | ... | ... |     | ... | ... | ... | ... | ... | ... | ... | ... | ... | ... |\n",
       "| Zambia     | 2013       | Developing | 63.0       | 328        | 29         | 2.41       |  20.623063 | 79         |    35      | ...        | 74         | 4.99       | 79         |  4.8       |  185.79336 |  1515321   |  6.4       |  6.2       | 0.565      | 12.5       |\n",
       "| Zambia     | 2012       | Developing | 59.2       | 349        | 29         | 2.59       | 196.915250 | 78         |   896      | ...        |  7         | 4.91       | 78         |  5.6       | 1734.93612 | 14699937   |  6.5       |  6.3       | 0.554      | 12.3       |\n",
       "| Zambia     | 2011       | Developing | 58.2       | 366        | 29         | 2.57       | 183.046169 | 81         | 13234      | ...        | 83         | 4.26       | 81         |  6.3       | 1644.61967 | 14264756   |  6.6       |  6.4       | 0.543      | 12.0       |\n",
       "| Zambia     | 2010       | Developing | 58.0       | 363        | 30         | 2.47       | 184.364910 | 83         | 15754      | ...        |  8         | 4.41       | 83         |  6.8       | 1463.21357 |   138533   |  6.7       |  6.5       | 0.533      | 11.8       |\n",
       "| Zambia     | 2009       | Developing | 57.4       | 368        | 30         | 2.30       | 143.869887 | 94         |    26      | ...        | 93         | 4.73       | 94         |  9.1       | 1139.11233 | 13456417   |  6.7       |  6.6       | 0.518      | 11.6       |\n",
       "| Zambia     | 2008       | Developing | 55.7       |  45        | 31         | 2.12       | 153.678375 | 87         |   140      | ...        |  9         | 4.87       | 87         | 11.9       | 1369.68249 |  1382517   |  6.8       |  6.7       | 0.504      | 11.4       |\n",
       "| Zambia     | 2007       | Developing | 52.6       | 487        | 32         | 2.08       |  10.851482 |  8         |   535      | ...        | 77         | 4.37       |  8         | 13.6       |  114.58799 | 12725974   |  6.9       |  6.8       | 0.492      | 11.1       |\n",
       "| Zambia     | 2006       | Developing | 58.0       | 526        | 33         | 2.25       |   1.860004 | 81         |   459      | ...        | 83         | 6.11       | 81         | 15.9       |   13.15420 | 12383446   |  7.0       |  6.9       | 0.479      | 10.9       |\n",
       "| Zambia     | 2005       | Developing | 49.3       | 554        | 34         | 2.33       | 121.879331 | 82         |    45      | ...        | 84         | 7.56       | 82         | 17.0       |  691.31782 |  1252156   |  7.1       |  7.0       | 0.467      | 10.7       |\n",
       "| Zambia     | 2004       | Developing | 47.9       | 578        | 36         | 2.46       |   8.369852 | NA         |    35      | ...        | 84         | 7.33       | 83         | 17.6       |   53.27722 | 11731746   |  7.2       |  7.1       | 0.456      | 10.5       |\n",
       "| Zambia     | 2003       | Developing | 46.4       |  64        | 39         | 2.33       |  65.789974 | NA         |   881      | ...        | 85         | 8.18       | 83         | 18.2       |  429.15834 | 11421984   |  7.3       |  7.2       | 0.443      | 10.2       |\n",
       "| Zambia     | 2002       | Developing | 45.5       |  69        | 41         | 2.44       |  54.043480 | NA         | 25036      | ...        | 85         | 6.93       | 84         | 18.4       |  377.13524 |   111249   |  7.4       |  7.3       | 0.433      | 10.0       |\n",
       "| Zambia     | 2001       | Developing | 44.6       | 611        | 43         | 2.61       |  46.830275 | NA         | 16997      | ...        | 86         | 6.56       | 85         | 18.6       |  378.27362 |  1824125   |  7.4       |  7.4       | 0.424      |  9.8       |\n",
       "| Zambia     | 2000       | Developing | 43.8       | 614        | 44         | 2.62       |  45.616880 | NA         | 30930      | ...        | 85         | 7.16       | 85         | 18.7       |  341.95562 |  1531221   |  7.5       |  7.5       | 0.418      |  9.6       |\n",
       "| Zimbabwe   | 2015       | Developing | 67.0       | 336        | 22         |   NA       |   0.000000 | 87         |     0      | ...        | 88         |   NA       | 87         |  6.2       |  118.69383 | 15777451   |  5.6       |  5.5       | 0.507      | 10.3       |\n",
       "| Zimbabwe   | 2014       | Developing | 59.2       | 371        | 23         | 6.50       |  10.822595 | 91         |     0      | ...        | 92         | 6.44       | 91         |  6.3       |  127.47462 | 15411675   |  5.9       |  5.7       | 0.498      | 10.3       |\n",
       "| Zimbabwe   | 2013       | Developing | 58.0       | 399        | 25         | 6.39       |  10.666707 | 95         |     0      | ...        | 95         | 6.88       | 95         |  6.8       |  111.22740 |   155456   |  6.2       |  6.0       | 0.488      | 10.4       |\n",
       "| Zimbabwe   | 2012       | Developing | 56.6       | 429        | 26         | 6.09       |  92.602336 | 97         |     0      | ...        | 95         | 6.69       | 95         |  8.8       |  955.64847 |  1471826   |  6.5       |  6.4       | 0.464      |  9.8       |\n",
       "| Zimbabwe   | 2011       | Developing | 54.9       | 464        | 28         | 6.00       |  63.750530 | 94         |     0      | ...        | 93         | 6.31       | 93         | 13.3       |  839.92794 | 14386649   |  6.8       |  6.7       | 0.452      | 10.1       |\n",
       "| Zimbabwe   | 2010       | Developing | 52.4       | 527        | 29         | 5.21       |  53.308581 |  9         |  9696      | ...        | 89         | 5.37       | 89         | 15.7       |  713.63562 |  1486317   |  7.1       |  7.0       | 0.436      | 10.0       |\n",
       "| Zimbabwe   | 2009       | Developing | 50.0       | 587        | 30         | 4.64       |   1.040021 | 73         |   853      | ...        | 69         | 6.26       | 73         | 18.1       |   65.82412 |  1381599   |  7.5       |  7.4       | 0.419      |  9.9       |\n",
       "| Zimbabwe   | 2008       | Developing | 48.2       | 632        | 30         | 3.56       |  20.843429 | 75         |     0      | ...        | 75         | 4.96       | 75         | 20.5       |  325.67857 | 13558469   |  7.8       |  7.8       | 0.421      |  9.7       |\n",
       "| Zimbabwe   | 2007       | Developing | 46.6       |  67        | 29         | 3.88       |  29.814566 | 72         |   242      | ...        | 73         | 4.47       | 73         | 23.7       |  396.99822 |  1332999   |  8.2       |  8.2       | 0.414      |  9.6       |\n",
       "| Zimbabwe   | 2006       | Developing | 45.4       |   7        | 28         | 4.57       |  34.262169 | 68         |   212      | ...        | 71         | 5.12       |  7         | 26.8       |  414.79623 | 13124267   |  8.6       |  8.6       | 0.408      |  9.5       |\n",
       "| Zimbabwe   | 2005       | Developing | 44.6       | 717        | 28         | 4.14       |   8.717409 | 65         |   420      | ...        | 69         | 6.44       | 68         | 30.3       |  444.76575 |   129432   |  9.0       |  9.0       | 0.406      |  9.3       |\n",
       "| Zimbabwe   | 2004       | Developing | 44.3       | 723        | 27         | 4.36       |   0.000000 | 68         |    31      | ...        | 67         | 7.13       | 65         | 33.6       |  454.36665 | 12777511   |  9.4       |  9.4       | 0.407      |  9.2       |\n",
       "| Zimbabwe   | 2003       | Developing | 44.5       | 715        | 26         | 4.06       |   0.000000 |  7         |   998      | ...        |  7         | 6.52       | 68         | 36.7       |  453.35116 | 12633897   |  9.8       |  9.9       | 0.418      |  9.5       |\n",
       "| Zimbabwe   | 2002       | Developing | 44.8       |  73        | 25         | 4.43       |   0.000000 | 73         |   304      | ...        | 73         | 6.53       | 71         | 39.8       |   57.34834 |   125525   |  1.2       |  1.3       | 0.427      | 10.0       |\n",
       "| Zimbabwe   | 2001       | Developing | 45.3       | 686        | 25         | 1.72       |   0.000000 | 76         |   529      | ...        | 76         | 6.16       | 75         | 42.1       |  548.58731 | 12366165   |  1.6       |  1.7       | 0.427      |  9.8       |\n",
       "| Zimbabwe   | 2000       | Developing | 46.0       | 665        | 24         | 1.68       |   0.000000 | 79         |  1483      | ...        | 78         | 7.10       | 78         | 43.5       |  547.35888 | 12222251   | 11.0       | 11.2       | 0.434      |  9.8       |\n",
       "\n"
      ],
      "text/plain": [
       "     country     year status     life_expectancy adult_mortality infant_deaths\n",
       "1    Afghanistan 2015 Developing 65.0            263             62           \n",
       "2    Afghanistan 2014 Developing 59.9            271             64           \n",
       "3    Afghanistan 2013 Developing 59.9            268             66           \n",
       "4    Afghanistan 2012 Developing 59.5            272             69           \n",
       "5    Afghanistan 2011 Developing 59.2            275             71           \n",
       "6    Afghanistan 2010 Developing 58.8            279             74           \n",
       "7    Afghanistan 2009 Developing 58.6            281             77           \n",
       "8    Afghanistan 2008 Developing 58.1            287             80           \n",
       "9    Afghanistan 2007 Developing 57.5            295             82           \n",
       "10   Afghanistan 2006 Developing 57.3            295             84           \n",
       "11   Afghanistan 2005 Developing 57.3            291             85           \n",
       "12   Afghanistan 2004 Developing 57.0            293             87           \n",
       "13   Afghanistan 2003 Developing 56.7            295             87           \n",
       "14   Afghanistan 2002 Developing 56.2              3             88           \n",
       "15   Afghanistan 2001 Developing 55.3            316             88           \n",
       "16   Afghanistan 2000 Developing 54.8            321             88           \n",
       "17   Albania     2015 Developing 77.8             74              0           \n",
       "18   Albania     2014 Developing 77.5              8              0           \n",
       "19   Albania     2013 Developing 77.2             84              0           \n",
       "20   Albania     2012 Developing 76.9             86              0           \n",
       "21   Albania     2011 Developing 76.6             88              0           \n",
       "22   Albania     2010 Developing 76.2             91              1           \n",
       "23   Albania     2009 Developing 76.1             91              1           \n",
       "24   Albania     2008 Developing 75.3              1              1           \n",
       "25   Albania     2007 Developing 75.9              9              1           \n",
       "26   Albania     2006 Developing 74.2             99              1           \n",
       "27   Albania     2005 Developing 73.5             15              1           \n",
       "28   Albania     2004 Developing 73.0             17              1           \n",
       "29   Albania     2003 Developing 72.8             18              1           \n",
       "30   Albania     2002 Developing 73.3             15              1           \n",
       "...  ...         ...  ...        ...             ...             ...          \n",
       "2909 Zambia      2013 Developing 63.0            328             29           \n",
       "2910 Zambia      2012 Developing 59.2            349             29           \n",
       "2911 Zambia      2011 Developing 58.2            366             29           \n",
       "2912 Zambia      2010 Developing 58.0            363             30           \n",
       "2913 Zambia      2009 Developing 57.4            368             30           \n",
       "2914 Zambia      2008 Developing 55.7             45             31           \n",
       "2915 Zambia      2007 Developing 52.6            487             32           \n",
       "2916 Zambia      2006 Developing 58.0            526             33           \n",
       "2917 Zambia      2005 Developing 49.3            554             34           \n",
       "2918 Zambia      2004 Developing 47.9            578             36           \n",
       "2919 Zambia      2003 Developing 46.4             64             39           \n",
       "2920 Zambia      2002 Developing 45.5             69             41           \n",
       "2921 Zambia      2001 Developing 44.6            611             43           \n",
       "2922 Zambia      2000 Developing 43.8            614             44           \n",
       "2923 Zimbabwe    2015 Developing 67.0            336             22           \n",
       "2924 Zimbabwe    2014 Developing 59.2            371             23           \n",
       "2925 Zimbabwe    2013 Developing 58.0            399             25           \n",
       "2926 Zimbabwe    2012 Developing 56.6            429             26           \n",
       "2927 Zimbabwe    2011 Developing 54.9            464             28           \n",
       "2928 Zimbabwe    2010 Developing 52.4            527             29           \n",
       "2929 Zimbabwe    2009 Developing 50.0            587             30           \n",
       "2930 Zimbabwe    2008 Developing 48.2            632             30           \n",
       "2931 Zimbabwe    2007 Developing 46.6             67             29           \n",
       "2932 Zimbabwe    2006 Developing 45.4              7             28           \n",
       "2933 Zimbabwe    2005 Developing 44.6            717             28           \n",
       "2934 Zimbabwe    2004 Developing 44.3            723             27           \n",
       "2935 Zimbabwe    2003 Developing 44.5            715             26           \n",
       "2936 Zimbabwe    2002 Developing 44.8             73             25           \n",
       "2937 Zimbabwe    2001 Developing 45.3            686             25           \n",
       "2938 Zimbabwe    2000 Developing 46.0            665             24           \n",
       "     alcohol percentage_expenditure hepatitis_b measles ... polio\n",
       "1    0.01     71.279624             65          1154    ...  6   \n",
       "2    0.01     73.523582             62           492    ... 58   \n",
       "3    0.01     73.219243             64           430    ... 62   \n",
       "4    0.01     78.184215             67          2787    ... 67   \n",
       "5    0.01      7.097109             68          3013    ... 68   \n",
       "6    0.01     79.679367             66          1989    ... 66   \n",
       "7    0.01     56.762217             63          2861    ... 63   \n",
       "8    0.03     25.873925             64          1599    ... 64   \n",
       "9    0.02     10.910156             63          1141    ... 63   \n",
       "10   0.03     17.171518             64          1990    ... 58   \n",
       "11   0.02      1.388648             66          1296    ... 58   \n",
       "12   0.02     15.296066             67           466    ...  5   \n",
       "13   0.01     11.089053             65           798    ... 41   \n",
       "14   0.01     16.887351             64          2486    ... 36   \n",
       "15   0.01     10.574728             63          8762    ... 35   \n",
       "16   0.01     10.424960             62          6532    ... 24   \n",
       "17   4.60    364.975229             99             0    ... 99   \n",
       "18   4.51    428.749067             98             0    ... 98   \n",
       "19   4.76    430.876979             99             0    ... 99   \n",
       "20   5.14    412.443356             99             9    ... 99   \n",
       "21   5.37    437.062100             99            28    ... 99   \n",
       "22   5.28     41.822757             99            10    ... 99   \n",
       "23   5.79    348.055952             98             0    ... 98   \n",
       "24   5.61     36.622068             99             0    ... 99   \n",
       "25   5.58     32.246552             98            22    ... 99   \n",
       "26   5.31      3.302154             98            68    ... 97   \n",
       "27   5.16     26.993121             98             6    ... 97   \n",
       "28   4.54    221.842800             99             7    ... 98   \n",
       "29   4.29     14.719289             97             8    ... 97   \n",
       "30   3.73    104.516916             96            16    ... 98   \n",
       "...  ...     ...                    ...         ...         ...  \n",
       "2909 2.41     20.623063             79             35   ... 74   \n",
       "2910 2.59    196.915250             78            896   ...  7   \n",
       "2911 2.57    183.046169             81          13234   ... 83   \n",
       "2912 2.47    184.364910             83          15754   ...  8   \n",
       "2913 2.30    143.869887             94             26   ... 93   \n",
       "2914 2.12    153.678375             87            140   ...  9   \n",
       "2915 2.08     10.851482              8            535   ... 77   \n",
       "2916 2.25      1.860004             81            459   ... 83   \n",
       "2917 2.33    121.879331             82             45   ... 84   \n",
       "2918 2.46      8.369852             NA             35   ... 84   \n",
       "2919 2.33     65.789974             NA            881   ... 85   \n",
       "2920 2.44     54.043480             NA          25036   ... 85   \n",
       "2921 2.61     46.830275             NA          16997   ... 86   \n",
       "2922 2.62     45.616880             NA          30930   ... 85   \n",
       "2923   NA      0.000000             87              0   ... 88   \n",
       "2924 6.50     10.822595             91              0   ... 92   \n",
       "2925 6.39     10.666707             95              0   ... 95   \n",
       "2926 6.09     92.602336             97              0   ... 95   \n",
       "2927 6.00     63.750530             94              0   ... 93   \n",
       "2928 5.21     53.308581              9           9696   ... 89   \n",
       "2929 4.64      1.040021             73            853   ... 69   \n",
       "2930 3.56     20.843429             75              0   ... 75   \n",
       "2931 3.88     29.814566             72            242   ... 73   \n",
       "2932 4.57     34.262169             68            212   ... 71   \n",
       "2933 4.14      8.717409             65            420   ... 69   \n",
       "2934 4.36      0.000000             68             31   ... 67   \n",
       "2935 4.06      0.000000              7            998   ...  7   \n",
       "2936 4.43      0.000000             73            304   ... 73   \n",
       "2937 1.72      0.000000             76            529   ... 76   \n",
       "2938 1.68      0.000000             79           1483   ... 78   \n",
       "     total_expenditure diphtheria hiv_aids gdp        population\n",
       "1    8.16              65         0.1       584.25921 33736494  \n",
       "2    8.18              62         0.1       612.69651   327582  \n",
       "3    8.13              64         0.1       631.74498 31731688  \n",
       "4    8.52              67         0.1       669.95900  3696958  \n",
       "5    7.87              68         0.1        63.53723  2978599  \n",
       "6    9.20              66         0.1       553.32894  2883167  \n",
       "7    9.42              63         0.1       445.89330   284331  \n",
       "8    8.33              64         0.1       373.36112  2729431  \n",
       "9    6.73              63         0.1       369.83580 26616792  \n",
       "10   7.43              58         0.1       272.56377  2589345  \n",
       "11   8.70              58         0.1        25.29413   257798  \n",
       "12   8.79               5         0.1       219.14135 24118979  \n",
       "13   8.82              41         0.1       198.72854  2364851  \n",
       "14   7.76              36         0.1       187.84595 21979923  \n",
       "15   7.80              33         0.1       117.49698  2966463  \n",
       "16   8.20              24         0.1       114.56000   293756  \n",
       "17   6.00              99         0.1      3954.22783    28873  \n",
       "18   5.88              98         0.1      4575.76379   288914  \n",
       "19   5.66              99         0.1      4414.72314   289592  \n",
       "20   5.59              99         0.1      4247.61438     2941  \n",
       "21   5.71              99         0.1      4437.17868   295195  \n",
       "22   5.34              99         0.1       494.35883   291321  \n",
       "23   5.79              98         0.1      4114.13655  2927519  \n",
       "24   5.87              99         0.1       437.53965  2947314  \n",
       "25   6.10              98         0.1       363.13685    29717  \n",
       "26   5.86              97         0.1        35.12930  2992547  \n",
       "27   6.12              98         0.1       279.14293   311487  \n",
       "28   6.38              97         0.1      2416.58824   326939  \n",
       "29   6.27              97         0.1       189.68156   339616  \n",
       "30   6.30              98         0.1      1453.64278     3511  \n",
       "...  ...               ...        ...      ...        ...       \n",
       "2909 4.99              79          4.8      185.79336  1515321  \n",
       "2910 4.91              78          5.6     1734.93612 14699937  \n",
       "2911 4.26              81          6.3     1644.61967 14264756  \n",
       "2912 4.41              83          6.8     1463.21357   138533  \n",
       "2913 4.73              94          9.1     1139.11233 13456417  \n",
       "2914 4.87              87         11.9     1369.68249  1382517  \n",
       "2915 4.37               8         13.6      114.58799 12725974  \n",
       "2916 6.11              81         15.9       13.15420 12383446  \n",
       "2917 7.56              82         17.0      691.31782  1252156  \n",
       "2918 7.33              83         17.6       53.27722 11731746  \n",
       "2919 8.18              83         18.2      429.15834 11421984  \n",
       "2920 6.93              84         18.4      377.13524   111249  \n",
       "2921 6.56              85         18.6      378.27362  1824125  \n",
       "2922 7.16              85         18.7      341.95562  1531221  \n",
       "2923   NA              87          6.2      118.69383 15777451  \n",
       "2924 6.44              91          6.3      127.47462 15411675  \n",
       "2925 6.88              95          6.8      111.22740   155456  \n",
       "2926 6.69              95          8.8      955.64847  1471826  \n",
       "2927 6.31              93         13.3      839.92794 14386649  \n",
       "2928 5.37              89         15.7      713.63562  1486317  \n",
       "2929 6.26              73         18.1       65.82412  1381599  \n",
       "2930 4.96              75         20.5      325.67857 13558469  \n",
       "2931 4.47              73         23.7      396.99822  1332999  \n",
       "2932 5.12               7         26.8      414.79623 13124267  \n",
       "2933 6.44              68         30.3      444.76575   129432  \n",
       "2934 7.13              65         33.6      454.36665 12777511  \n",
       "2935 6.52              68         36.7      453.35116 12633897  \n",
       "2936 6.53              71         39.8       57.34834   125525  \n",
       "2937 6.16              75         42.1      548.58731 12366165  \n",
       "2938 7.10              78         43.5      547.35888 12222251  \n",
       "     thinness_1_19_years thinness_5_9_years income_composition_of_resources\n",
       "1    17.2                17.3               0.479                          \n",
       "2    17.5                17.5               0.476                          \n",
       "3    17.7                17.7               0.470                          \n",
       "4    17.9                18.0               0.463                          \n",
       "5    18.2                18.2               0.454                          \n",
       "6    18.4                18.4               0.448                          \n",
       "7    18.6                18.7               0.434                          \n",
       "8    18.8                18.9               0.433                          \n",
       "9    19.0                19.1               0.415                          \n",
       "10   19.2                19.3               0.405                          \n",
       "11   19.3                19.5               0.396                          \n",
       "12   19.5                19.7               0.381                          \n",
       "13   19.7                19.9               0.373                          \n",
       "14   19.9                 2.2               0.341                          \n",
       "15    2.1                 2.4               0.340                          \n",
       "16    2.3                 2.5               0.338                          \n",
       "17    1.2                 1.3               0.762                          \n",
       "18    1.2                 1.3               0.761                          \n",
       "19    1.3                 1.4               0.759                          \n",
       "20    1.3                 1.4               0.752                          \n",
       "21    1.4                 1.5               0.738                          \n",
       "22    1.4                 1.5               0.725                          \n",
       "23    1.5                 1.6               0.721                          \n",
       "24    1.6                 1.6               0.713                          \n",
       "25    1.6                 1.7               0.703                          \n",
       "26    1.7                 1.8               0.696                          \n",
       "27    1.8                 1.8               0.685                          \n",
       "28    1.8                 1.9               0.681                          \n",
       "29    1.9                 2.0               0.674                          \n",
       "30    2.0                 2.1               0.670                          \n",
       "...  ...                 ...                ...                            \n",
       "2909  6.4                 6.2               0.565                          \n",
       "2910  6.5                 6.3               0.554                          \n",
       "2911  6.6                 6.4               0.543                          \n",
       "2912  6.7                 6.5               0.533                          \n",
       "2913  6.7                 6.6               0.518                          \n",
       "2914  6.8                 6.7               0.504                          \n",
       "2915  6.9                 6.8               0.492                          \n",
       "2916  7.0                 6.9               0.479                          \n",
       "2917  7.1                 7.0               0.467                          \n",
       "2918  7.2                 7.1               0.456                          \n",
       "2919  7.3                 7.2               0.443                          \n",
       "2920  7.4                 7.3               0.433                          \n",
       "2921  7.4                 7.4               0.424                          \n",
       "2922  7.5                 7.5               0.418                          \n",
       "2923  5.6                 5.5               0.507                          \n",
       "2924  5.9                 5.7               0.498                          \n",
       "2925  6.2                 6.0               0.488                          \n",
       "2926  6.5                 6.4               0.464                          \n",
       "2927  6.8                 6.7               0.452                          \n",
       "2928  7.1                 7.0               0.436                          \n",
       "2929  7.5                 7.4               0.419                          \n",
       "2930  7.8                 7.8               0.421                          \n",
       "2931  8.2                 8.2               0.414                          \n",
       "2932  8.6                 8.6               0.408                          \n",
       "2933  9.0                 9.0               0.406                          \n",
       "2934  9.4                 9.4               0.407                          \n",
       "2935  9.8                 9.9               0.418                          \n",
       "2936  1.2                 1.3               0.427                          \n",
       "2937  1.6                 1.7               0.427                          \n",
       "2938 11.0                11.2               0.434                          \n",
       "     schooling\n",
       "1    10.1     \n",
       "2    10.0     \n",
       "3     9.9     \n",
       "4     9.8     \n",
       "5     9.5     \n",
       "6     9.2     \n",
       "7     8.9     \n",
       "8     8.7     \n",
       "9     8.4     \n",
       "10    8.1     \n",
       "11    7.9     \n",
       "12    6.8     \n",
       "13    6.5     \n",
       "14    6.2     \n",
       "15    5.9     \n",
       "16    5.5     \n",
       "17   14.2     \n",
       "18   14.2     \n",
       "19   14.2     \n",
       "20   14.2     \n",
       "21   13.3     \n",
       "22   12.5     \n",
       "23   12.2     \n",
       "24   12.0     \n",
       "25   11.6     \n",
       "26   11.4     \n",
       "27   10.8     \n",
       "28   10.9     \n",
       "29   10.7     \n",
       "30   10.7     \n",
       "...  ...      \n",
       "2909 12.5     \n",
       "2910 12.3     \n",
       "2911 12.0     \n",
       "2912 11.8     \n",
       "2913 11.6     \n",
       "2914 11.4     \n",
       "2915 11.1     \n",
       "2916 10.9     \n",
       "2917 10.7     \n",
       "2918 10.5     \n",
       "2919 10.2     \n",
       "2920 10.0     \n",
       "2921  9.8     \n",
       "2922  9.6     \n",
       "2923 10.3     \n",
       "2924 10.3     \n",
       "2925 10.4     \n",
       "2926  9.8     \n",
       "2927 10.1     \n",
       "2928 10.0     \n",
       "2929  9.9     \n",
       "2930  9.7     \n",
       "2931  9.6     \n",
       "2932  9.5     \n",
       "2933  9.3     \n",
       "2934  9.2     \n",
       "2935  9.5     \n",
       "2936 10.0     \n",
       "2937  9.8     \n",
       "2938  9.8     "
      ]
     },
     "metadata": {},
     "output_type": "display_data"
    },
    {
     "data": {
      "text/html": [
       "<ol class=list-inline>\n",
       "\t<li>'Country'</li>\n",
       "\t<li>'Year'</li>\n",
       "\t<li>'Status'</li>\n",
       "\t<li>'Life expectancy'</li>\n",
       "\t<li>'Adult Mortality'</li>\n",
       "\t<li>'infant deaths'</li>\n",
       "\t<li>'Alcohol'</li>\n",
       "\t<li>'percentage expenditure'</li>\n",
       "\t<li>'Hepatitis B'</li>\n",
       "\t<li>'Measles'</li>\n",
       "\t<li>'BMI'</li>\n",
       "\t<li>'under-five deaths'</li>\n",
       "\t<li>'Polio'</li>\n",
       "\t<li>'Total expenditure'</li>\n",
       "\t<li>'Diphtheria'</li>\n",
       "\t<li>'HIV/AIDS'</li>\n",
       "\t<li>'GDP'</li>\n",
       "\t<li>'Population'</li>\n",
       "\t<li><span style=white-space:pre-wrap>'thinness  1-19 years'</span></li>\n",
       "\t<li>'thinness 5-9 years'</li>\n",
       "\t<li>'Income composition of resources'</li>\n",
       "\t<li>'Schooling'</li>\n",
       "</ol>\n"
      ],
      "text/latex": [
       "\\begin{enumerate*}\n",
       "\\item 'Country'\n",
       "\\item 'Year'\n",
       "\\item 'Status'\n",
       "\\item 'Life expectancy'\n",
       "\\item 'Adult Mortality'\n",
       "\\item 'infant deaths'\n",
       "\\item 'Alcohol'\n",
       "\\item 'percentage expenditure'\n",
       "\\item 'Hepatitis B'\n",
       "\\item 'Measles'\n",
       "\\item 'BMI'\n",
       "\\item 'under-five deaths'\n",
       "\\item 'Polio'\n",
       "\\item 'Total expenditure'\n",
       "\\item 'Diphtheria'\n",
       "\\item 'HIV/AIDS'\n",
       "\\item 'GDP'\n",
       "\\item 'Population'\n",
       "\\item 'thinness  1-19 years'\n",
       "\\item 'thinness 5-9 years'\n",
       "\\item 'Income composition of resources'\n",
       "\\item 'Schooling'\n",
       "\\end{enumerate*}\n"
      ],
      "text/markdown": [
       "1. 'Country'\n",
       "2. 'Year'\n",
       "3. 'Status'\n",
       "4. 'Life expectancy'\n",
       "5. 'Adult Mortality'\n",
       "6. 'infant deaths'\n",
       "7. 'Alcohol'\n",
       "8. 'percentage expenditure'\n",
       "9. 'Hepatitis B'\n",
       "10. 'Measles'\n",
       "11. 'BMI'\n",
       "12. 'under-five deaths'\n",
       "13. 'Polio'\n",
       "14. 'Total expenditure'\n",
       "15. 'Diphtheria'\n",
       "16. 'HIV/AIDS'\n",
       "17. 'GDP'\n",
       "18. 'Population'\n",
       "19. <span style=white-space:pre-wrap>'thinness  1-19 years'</span>\n",
       "20. 'thinness 5-9 years'\n",
       "21. 'Income composition of resources'\n",
       "22. 'Schooling'\n",
       "\n",
       "\n"
      ],
      "text/plain": [
       " [1] \"Country\"                         \"Year\"                           \n",
       " [3] \"Status\"                          \"Life expectancy\"                \n",
       " [5] \"Adult Mortality\"                 \"infant deaths\"                  \n",
       " [7] \"Alcohol\"                         \"percentage expenditure\"         \n",
       " [9] \"Hepatitis B\"                     \"Measles\"                        \n",
       "[11] \"BMI\"                             \"under-five deaths\"              \n",
       "[13] \"Polio\"                           \"Total expenditure\"              \n",
       "[15] \"Diphtheria\"                      \"HIV/AIDS\"                       \n",
       "[17] \"GDP\"                             \"Population\"                     \n",
       "[19] \"thinness  1-19 years\"            \"thinness 5-9 years\"             \n",
       "[21] \"Income composition of resources\" \"Schooling\"                      "
      ]
     },
     "metadata": {},
     "output_type": "display_data"
    }
   ],
   "source": [
    "clean_names(df)\n",
    "names(df)"
   ]
  },
  {
   "cell_type": "code",
   "execution_count": 7,
   "id": "printable-messenger",
   "metadata": {
    "execution": {
     "iopub.execute_input": "2021-04-20T19:07:57.899440Z",
     "iopub.status.busy": "2021-04-20T19:07:57.897409Z",
     "iopub.status.idle": "2021-04-20T19:07:58.052523Z",
     "shell.execute_reply": "2021-04-20T19:07:58.051641Z"
    },
    "papermill": {
     "duration": 0.198162,
     "end_time": "2021-04-20T19:07:58.052704",
     "exception": false,
     "start_time": "2021-04-20T19:07:57.854542",
     "status": "completed"
    },
    "tags": [],
    "vscode": {
     "languageId": "r"
    }
   },
   "outputs": [
    {
     "data": {
      "text/html": [
       "<table>\n",
       "<thead><tr><th scope=col>Life expectancy</th><th scope=col>Adult Mortality</th><th scope=col>infant deaths</th><th scope=col>Alcohol</th><th scope=col>percentage expenditure</th><th scope=col>Hepatitis B</th><th scope=col>Measles</th><th scope=col>BMI</th><th scope=col>under-five deaths</th><th scope=col>Polio</th><th scope=col>Total expenditure</th><th scope=col>Diphtheria</th><th scope=col>HIV/AIDS</th><th scope=col>GDP</th><th scope=col>Population</th><th scope=col>thinness  1-19 years</th><th scope=col>thinness 5-9 years</th><th scope=col>Income composition of resources</th><th scope=col>Schooling</th></tr></thead>\n",
       "<tbody>\n",
       "\t<tr><td>65.0     </td><td>263      </td><td>62       </td><td>0.01     </td><td>71.279624</td><td>65       </td><td>1154     </td><td>19.1     </td><td> 83      </td><td> 6       </td><td>8.16     </td><td>65       </td><td>0.1      </td><td>584.25921</td><td>33736494 </td><td>17.2     </td><td>17.3     </td><td>0.479    </td><td>10.1     </td></tr>\n",
       "\t<tr><td>59.9     </td><td>271      </td><td>64       </td><td>0.01     </td><td>73.523582</td><td>62       </td><td> 492     </td><td>18.6     </td><td> 86      </td><td>58       </td><td>8.18     </td><td>62       </td><td>0.1      </td><td>612.69651</td><td>  327582 </td><td>17.5     </td><td>17.5     </td><td>0.476    </td><td>10.0     </td></tr>\n",
       "\t<tr><td>59.9     </td><td>268      </td><td>66       </td><td>0.01     </td><td>73.219243</td><td>64       </td><td> 430     </td><td>18.1     </td><td> 89      </td><td>62       </td><td>8.13     </td><td>64       </td><td>0.1      </td><td>631.74498</td><td>31731688 </td><td>17.7     </td><td>17.7     </td><td>0.470    </td><td> 9.9     </td></tr>\n",
       "\t<tr><td>59.5     </td><td>272      </td><td>69       </td><td>0.01     </td><td>78.184215</td><td>67       </td><td>2787     </td><td>17.6     </td><td> 93      </td><td>67       </td><td>8.52     </td><td>67       </td><td>0.1      </td><td>669.95900</td><td> 3696958 </td><td>17.9     </td><td>18.0     </td><td>0.463    </td><td> 9.8     </td></tr>\n",
       "\t<tr><td>59.2     </td><td>275      </td><td>71       </td><td>0.01     </td><td> 7.097109</td><td>68       </td><td>3013     </td><td>17.2     </td><td> 97      </td><td>68       </td><td>7.87     </td><td>68       </td><td>0.1      </td><td> 63.53723</td><td> 2978599 </td><td>18.2     </td><td>18.2     </td><td>0.454    </td><td> 9.5     </td></tr>\n",
       "\t<tr><td>58.8     </td><td>279      </td><td>74       </td><td>0.01     </td><td>79.679367</td><td>66       </td><td>1989     </td><td>16.7     </td><td>102      </td><td>66       </td><td>9.20     </td><td>66       </td><td>0.1      </td><td>553.32894</td><td> 2883167 </td><td>18.4     </td><td>18.4     </td><td>0.448    </td><td> 9.2     </td></tr>\n",
       "</tbody>\n",
       "</table>\n"
      ],
      "text/latex": [
       "\\begin{tabular}{r|lllllllllllllllllll}\n",
       " Life expectancy & Adult Mortality & infant deaths & Alcohol & percentage expenditure & Hepatitis B & Measles & BMI & under-five deaths & Polio & Total expenditure & Diphtheria & HIV/AIDS & GDP & Population & thinness  1-19 years & thinness 5-9 years & Income composition of resources & Schooling\\\\\n",
       "\\hline\n",
       "\t 65.0      & 263       & 62        & 0.01      & 71.279624 & 65        & 1154      & 19.1      &  83       &  6        & 8.16      & 65        & 0.1       & 584.25921 & 33736494  & 17.2      & 17.3      & 0.479     & 10.1     \\\\\n",
       "\t 59.9      & 271       & 64        & 0.01      & 73.523582 & 62        &  492      & 18.6      &  86       & 58        & 8.18      & 62        & 0.1       & 612.69651 &   327582  & 17.5      & 17.5      & 0.476     & 10.0     \\\\\n",
       "\t 59.9      & 268       & 66        & 0.01      & 73.219243 & 64        &  430      & 18.1      &  89       & 62        & 8.13      & 64        & 0.1       & 631.74498 & 31731688  & 17.7      & 17.7      & 0.470     &  9.9     \\\\\n",
       "\t 59.5      & 272       & 69        & 0.01      & 78.184215 & 67        & 2787      & 17.6      &  93       & 67        & 8.52      & 67        & 0.1       & 669.95900 &  3696958  & 17.9      & 18.0      & 0.463     &  9.8     \\\\\n",
       "\t 59.2      & 275       & 71        & 0.01      &  7.097109 & 68        & 3013      & 17.2      &  97       & 68        & 7.87      & 68        & 0.1       &  63.53723 &  2978599  & 18.2      & 18.2      & 0.454     &  9.5     \\\\\n",
       "\t 58.8      & 279       & 74        & 0.01      & 79.679367 & 66        & 1989      & 16.7      & 102       & 66        & 9.20      & 66        & 0.1       & 553.32894 &  2883167  & 18.4      & 18.4      & 0.448     &  9.2     \\\\\n",
       "\\end{tabular}\n"
      ],
      "text/markdown": [
       "\n",
       "| Life expectancy | Adult Mortality | infant deaths | Alcohol | percentage expenditure | Hepatitis B | Measles | BMI | under-five deaths | Polio | Total expenditure | Diphtheria | HIV/AIDS | GDP | Population | thinness  1-19 years | thinness 5-9 years | Income composition of resources | Schooling |\n",
       "|---|---|---|---|---|---|---|---|---|---|---|---|---|---|---|---|---|---|---|\n",
       "| 65.0      | 263       | 62        | 0.01      | 71.279624 | 65        | 1154      | 19.1      |  83       |  6        | 8.16      | 65        | 0.1       | 584.25921 | 33736494  | 17.2      | 17.3      | 0.479     | 10.1      |\n",
       "| 59.9      | 271       | 64        | 0.01      | 73.523582 | 62        |  492      | 18.6      |  86       | 58        | 8.18      | 62        | 0.1       | 612.69651 |   327582  | 17.5      | 17.5      | 0.476     | 10.0      |\n",
       "| 59.9      | 268       | 66        | 0.01      | 73.219243 | 64        |  430      | 18.1      |  89       | 62        | 8.13      | 64        | 0.1       | 631.74498 | 31731688  | 17.7      | 17.7      | 0.470     |  9.9      |\n",
       "| 59.5      | 272       | 69        | 0.01      | 78.184215 | 67        | 2787      | 17.6      |  93       | 67        | 8.52      | 67        | 0.1       | 669.95900 |  3696958  | 17.9      | 18.0      | 0.463     |  9.8      |\n",
       "| 59.2      | 275       | 71        | 0.01      |  7.097109 | 68        | 3013      | 17.2      |  97       | 68        | 7.87      | 68        | 0.1       |  63.53723 |  2978599  | 18.2      | 18.2      | 0.454     |  9.5      |\n",
       "| 58.8      | 279       | 74        | 0.01      | 79.679367 | 66        | 1989      | 16.7      | 102       | 66        | 9.20      | 66        | 0.1       | 553.32894 |  2883167  | 18.4      | 18.4      | 0.448     |  9.2      |\n",
       "\n"
      ],
      "text/plain": [
       "  Life expectancy Adult Mortality infant deaths Alcohol percentage expenditure\n",
       "1 65.0            263             62            0.01    71.279624             \n",
       "2 59.9            271             64            0.01    73.523582             \n",
       "3 59.9            268             66            0.01    73.219243             \n",
       "4 59.5            272             69            0.01    78.184215             \n",
       "5 59.2            275             71            0.01     7.097109             \n",
       "6 58.8            279             74            0.01    79.679367             \n",
       "  Hepatitis B Measles BMI  under-five deaths Polio Total expenditure Diphtheria\n",
       "1 65          1154    19.1  83                6    8.16              65        \n",
       "2 62           492    18.6  86               58    8.18              62        \n",
       "3 64           430    18.1  89               62    8.13              64        \n",
       "4 67          2787    17.6  93               67    8.52              67        \n",
       "5 68          3013    17.2  97               68    7.87              68        \n",
       "6 66          1989    16.7 102               66    9.20              66        \n",
       "  HIV/AIDS GDP       Population thinness  1-19 years thinness 5-9 years\n",
       "1 0.1      584.25921 33736494   17.2                 17.3              \n",
       "2 0.1      612.69651   327582   17.5                 17.5              \n",
       "3 0.1      631.74498 31731688   17.7                 17.7              \n",
       "4 0.1      669.95900  3696958   17.9                 18.0              \n",
       "5 0.1       63.53723  2978599   18.2                 18.2              \n",
       "6 0.1      553.32894  2883167   18.4                 18.4              \n",
       "  Income composition of resources Schooling\n",
       "1 0.479                           10.1     \n",
       "2 0.476                           10.0     \n",
       "3 0.470                            9.9     \n",
       "4 0.463                            9.8     \n",
       "5 0.454                            9.5     \n",
       "6 0.448                            9.2     "
      ]
     },
     "metadata": {},
     "output_type": "display_data"
    }
   ],
   "source": [
    "df2 = df[,4:22]\n",
    "head(df2)"
   ]
  },
  {
   "cell_type": "markdown",
   "id": "cathedral-association",
   "metadata": {
    "papermill": {
     "duration": 0.04152,
     "end_time": "2021-04-20T19:07:58.136566",
     "exception": false,
     "start_time": "2021-04-20T19:07:58.095046",
     "status": "completed"
    },
    "tags": []
   },
   "source": [
    "# Fitting a regression model"
   ]
  },
  {
   "cell_type": "code",
   "execution_count": 8,
   "id": "boxed-mission",
   "metadata": {
    "execution": {
     "iopub.execute_input": "2021-04-20T19:07:58.225040Z",
     "iopub.status.busy": "2021-04-20T19:07:58.223321Z",
     "iopub.status.idle": "2021-04-20T19:07:58.294449Z",
     "shell.execute_reply": "2021-04-20T19:07:58.290956Z"
    },
    "papermill": {
     "duration": 0.116891,
     "end_time": "2021-04-20T19:07:58.294666",
     "exception": false,
     "start_time": "2021-04-20T19:07:58.177775",
     "status": "completed"
    },
    "tags": [],
    "vscode": {
     "languageId": "r"
    }
   },
   "outputs": [
    {
     "data": {
      "text/plain": [
       "\n",
       "Call:\n",
       "lm(formula = life_expectancy ~ ., data = df1)\n",
       "\n",
       "Residuals:\n",
       "     Min       1Q   Median       3Q      Max \n",
       "-17.0176  -2.0454  -0.0185   2.2260  11.9157 \n",
       "\n",
       "Coefficients:\n",
       "                                  Estimate Std. Error t value Pr(>|t|)    \n",
       "(Intercept)                      5.328e+01  7.358e-01  72.412  < 2e-16 ***\n",
       "adult_mortality                 -1.689e-02  9.473e-04 -17.828  < 2e-16 ***\n",
       "infant_deaths                    9.369e-02  1.068e-02   8.776  < 2e-16 ***\n",
       "alcohol                         -5.435e-02  3.061e-02  -1.776   0.0760 .  \n",
       "percentage_expenditure           3.777e-04  1.805e-04   2.093   0.0365 *  \n",
       "hepatitis_b                     -5.582e-03  4.446e-03  -1.256   0.2095    \n",
       "measles                         -8.617e-06  1.081e-05  -0.797   0.4253    \n",
       "bmi                              3.350e-02  6.011e-03   5.573 2.92e-08 ***\n",
       "under_five_deaths               -7.047e-02  7.728e-03  -9.119  < 2e-16 ***\n",
       "polio                            7.836e-03  5.163e-03   1.518   0.1293    \n",
       "total_expenditure                7.975e-02  4.074e-02   1.958   0.0505 .  \n",
       "diphtheria                       1.439e-02  5.938e-03   2.423   0.0155 *  \n",
       "hiv_aids                        -4.383e-01  1.788e-02 -24.519  < 2e-16 ***\n",
       "gdp                              1.383e-05  2.838e-05   0.487   0.6260    \n",
       "population                      -6.917e-10  1.753e-09  -0.395   0.6931    \n",
       "thinness_1_19_years             -8.670e-03  5.310e-02  -0.163   0.8703    \n",
       "thinness_5_9_years              -5.123e-02  5.242e-02  -0.977   0.3286    \n",
       "income_composition_of_resources  9.824e+00  8.340e-01  11.780  < 2e-16 ***\n",
       "schooling                        8.783e-01  5.939e-02  14.789  < 2e-16 ***\n",
       "---\n",
       "Signif. codes:  0 '***' 0.001 '**' 0.01 '*' 0.05 '.' 0.1 ' ' 1\n",
       "\n",
       "Residual standard error: 3.596 on 1630 degrees of freedom\n",
       "  (1289 observations deleted due to missingness)\n",
       "Multiple R-squared:  0.8347,\tAdjusted R-squared:  0.8329 \n",
       "F-statistic: 457.4 on 18 and 1630 DF,  p-value: < 2.2e-16\n"
      ]
     },
     "metadata": {},
     "output_type": "display_data"
    }
   ],
   "source": [
    "df1 = df2 %>%\n",
    "clean_names()\n",
    "model = lm(life_expectancy ~ .,data = df1)\n",
    "summary(model)"
   ]
  },
  {
   "cell_type": "markdown",
   "id": "patent-publisher",
   "metadata": {
    "papermill": {
     "duration": 0.050135,
     "end_time": "2021-04-20T19:07:58.420826",
     "exception": false,
     "start_time": "2021-04-20T19:07:58.370691",
     "status": "completed"
    },
    "tags": []
   },
   "source": [
    "# Inference\n",
    "In the above multiple regression function, some of the regressors’ coefficients have negative value indicating an inverse effect on life expectancy. Also, p-value > 0.05 (level of significance) of variables like ‘percentage expenditure’, ‘measles’, ‘population’, ‘Hepatitis B’, ‘thinness under 1 to 19 years’, and ‘thinness under 59 years.’ Thus, making all these variables statistically insignificant. "
   ]
  },
  {
   "cell_type": "markdown",
   "id": "studied-longer",
   "metadata": {
    "papermill": {
     "duration": 0.042485,
     "end_time": "2021-04-20T19:07:58.506323",
     "exception": false,
     "start_time": "2021-04-20T19:07:58.463838",
     "status": "completed"
    },
    "tags": []
   },
   "source": [
    "# Test for multicollinearity using library 'car' "
   ]
  },
  {
   "cell_type": "code",
   "execution_count": 9,
   "id": "accepting-olympus",
   "metadata": {
    "execution": {
     "iopub.execute_input": "2021-04-20T19:07:58.597545Z",
     "iopub.status.busy": "2021-04-20T19:07:58.595675Z",
     "iopub.status.idle": "2021-04-20T19:07:59.010969Z",
     "shell.execute_reply": "2021-04-20T19:07:59.008763Z"
    },
    "papermill": {
     "duration": 0.46218,
     "end_time": "2021-04-20T19:07:59.011176",
     "exception": false,
     "start_time": "2021-04-20T19:07:58.548996",
     "status": "completed"
    },
    "tags": [],
    "vscode": {
     "languageId": "r"
    }
   },
   "outputs": [
    {
     "data": {
      "text/html": [
       "<dl class=dl-horizontal>\n",
       "\t<dt>adult_mortality</dt>\n",
       "\t\t<dd>1.79598378479791</dd>\n",
       "\t<dt>infant_deaths</dt>\n",
       "\t\t<dd>212.17769868841</dd>\n",
       "\t<dt>alcohol</dt>\n",
       "\t\t<dd>1.93838074270338</dd>\n",
       "\t<dt>percentage_expenditure</dt>\n",
       "\t\t<dd>12.8472947161021</dd>\n",
       "\t<dt>hepatitis_b</dt>\n",
       "\t\t<dd>1.65186385079451</dd>\n",
       "\t<dt>measles</dt>\n",
       "\t\t<dd>1.51411443098844</dd>\n",
       "\t<dt>bmi</dt>\n",
       "\t\t<dd>1.79691980984587</dd>\n",
       "\t<dt>under_five_deaths</dt>\n",
       "\t\t<dd>201.999310765151</dd>\n",
       "\t<dt>polio</dt>\n",
       "\t\t<dd>1.71261972169808</dd>\n",
       "\t<dt>total_expenditure</dt>\n",
       "\t\t<dd>1.11856197294484</dd>\n",
       "\t<dt>diphtheria</dt>\n",
       "\t\t<dd>2.09293577020338</dd>\n",
       "\t<dt>hiv_aids</dt>\n",
       "\t\t<dd>1.48207850034402</dd>\n",
       "\t<dt>gdp</dt>\n",
       "\t\t<dd>13.5168741131564</dd>\n",
       "\t<dt>population</dt>\n",
       "\t\t<dd>1.94339053185054</dd>\n",
       "\t<dt>thinness_1_19_years</dt>\n",
       "\t\t<dd>7.60256177703898</dd>\n",
       "\t<dt>thinness_5_9_years</dt>\n",
       "\t\t<dd>7.5845186690958</dd>\n",
       "\t<dt>income_composition_of_resources</dt>\n",
       "\t\t<dd>2.97148878965185</dd>\n",
       "\t<dt>schooling</dt>\n",
       "\t\t<dd>3.51299296930317</dd>\n",
       "</dl>\n"
      ],
      "text/latex": [
       "\\begin{description*}\n",
       "\\item[adult\\textbackslash{}\\_mortality] 1.79598378479791\n",
       "\\item[infant\\textbackslash{}\\_deaths] 212.17769868841\n",
       "\\item[alcohol] 1.93838074270338\n",
       "\\item[percentage\\textbackslash{}\\_expenditure] 12.8472947161021\n",
       "\\item[hepatitis\\textbackslash{}\\_b] 1.65186385079451\n",
       "\\item[measles] 1.51411443098844\n",
       "\\item[bmi] 1.79691980984587\n",
       "\\item[under\\textbackslash{}\\_five\\textbackslash{}\\_deaths] 201.999310765151\n",
       "\\item[polio] 1.71261972169808\n",
       "\\item[total\\textbackslash{}\\_expenditure] 1.11856197294484\n",
       "\\item[diphtheria] 2.09293577020338\n",
       "\\item[hiv\\textbackslash{}\\_aids] 1.48207850034402\n",
       "\\item[gdp] 13.5168741131564\n",
       "\\item[population] 1.94339053185054\n",
       "\\item[thinness\\textbackslash{}\\_1\\textbackslash{}\\_19\\textbackslash{}\\_years] 7.60256177703898\n",
       "\\item[thinness\\textbackslash{}\\_5\\textbackslash{}\\_9\\textbackslash{}\\_years] 7.5845186690958\n",
       "\\item[income\\textbackslash{}\\_composition\\textbackslash{}\\_of\\textbackslash{}\\_resources] 2.97148878965185\n",
       "\\item[schooling] 3.51299296930317\n",
       "\\end{description*}\n"
      ],
      "text/markdown": [
       "adult_mortality\n",
       ":   1.79598378479791infant_deaths\n",
       ":   212.17769868841alcohol\n",
       ":   1.93838074270338percentage_expenditure\n",
       ":   12.8472947161021hepatitis_b\n",
       ":   1.65186385079451measles\n",
       ":   1.51411443098844bmi\n",
       ":   1.79691980984587under_five_deaths\n",
       ":   201.999310765151polio\n",
       ":   1.71261972169808total_expenditure\n",
       ":   1.11856197294484diphtheria\n",
       ":   2.09293577020338hiv_aids\n",
       ":   1.48207850034402gdp\n",
       ":   13.5168741131564population\n",
       ":   1.94339053185054thinness_1_19_years\n",
       ":   7.60256177703898thinness_5_9_years\n",
       ":   7.5845186690958income_composition_of_resources\n",
       ":   2.97148878965185schooling\n",
       ":   3.51299296930317\n",
       "\n"
      ],
      "text/plain": [
       "                adult_mortality                   infant_deaths \n",
       "                       1.795984                      212.177699 \n",
       "                        alcohol          percentage_expenditure \n",
       "                       1.938381                       12.847295 \n",
       "                    hepatitis_b                         measles \n",
       "                       1.651864                        1.514114 \n",
       "                            bmi               under_five_deaths \n",
       "                       1.796920                      201.999311 \n",
       "                          polio               total_expenditure \n",
       "                       1.712620                        1.118562 \n",
       "                     diphtheria                        hiv_aids \n",
       "                       2.092936                        1.482079 \n",
       "                            gdp                      population \n",
       "                      13.516874                        1.943391 \n",
       "            thinness_1_19_years              thinness_5_9_years \n",
       "                       7.602562                        7.584519 \n",
       "income_composition_of_resources                       schooling \n",
       "                       2.971489                        3.512993 "
      ]
     },
     "metadata": {},
     "output_type": "display_data"
    }
   ],
   "source": [
    "vif(model)"
   ]
  },
  {
   "cell_type": "code",
   "execution_count": 10,
   "id": "artistic-edinburgh",
   "metadata": {
    "execution": {
     "iopub.execute_input": "2021-04-20T19:07:59.152344Z",
     "iopub.status.busy": "2021-04-20T19:07:59.151207Z",
     "iopub.status.idle": "2021-04-20T19:08:00.282688Z",
     "shell.execute_reply": "2021-04-20T19:08:00.283167Z"
    },
    "papermill": {
     "duration": 1.191229,
     "end_time": "2021-04-20T19:08:00.283361",
     "exception": false,
     "start_time": "2021-04-20T19:07:59.092132",
     "status": "completed"
    },
    "tags": [],
    "vscode": {
     "languageId": "r"
    }
   },
   "outputs": [
    {
     "data": {
      "image/png": "[encoded data removed]",
      "text/plain": [
       "Plot with title \"\""
      ]
     },
     "metadata": {},
     "output_type": "display_data"
    },
    {
     "data": {
      "image/png": "[encoded data removed]",
      "text/plain": [
       "Plot with title \"\""
      ]
     },
     "metadata": {},
     "output_type": "display_data"
    },
    {
     "data": {
      "image/png": "[encoded data removed]",
      "text/plain": [
       "Plot with title \"\""
      ]
     },
     "metadata": {},
     "output_type": "display_data"
    },
    {
     "data": {
      "image/png": "[encoded data removed]",
      "text/plain": [
       "Plot with title \"\""
      ]
     },
     "metadata": {},
     "output_type": "display_data"
    }
   ],
   "source": [
    "plot(model)"
   ]
  },
  {
   "cell_type": "code",
   "execution_count": 11,
   "id": "associate-trigger",
   "metadata": {
    "execution": {
     "iopub.execute_input": "2021-04-20T19:08:00.414825Z",
     "iopub.status.busy": "2021-04-20T19:08:00.413570Z",
     "iopub.status.idle": "2021-04-20T19:08:00.428901Z",
     "shell.execute_reply": "2021-04-20T19:08:00.427527Z"
    },
    "papermill": {
     "duration": 0.082448,
     "end_time": "2021-04-20T19:08:00.429053",
     "exception": false,
     "start_time": "2021-04-20T19:08:00.346605",
     "status": "completed"
    },
    "tags": [],
    "vscode": {
     "languageId": "r"
    }
   },
   "outputs": [
    {
     "data": {
      "text/html": [
       "<ol class=list-inline>\n",
       "\t<li>'Country'</li>\n",
       "\t<li>'Year'</li>\n",
       "\t<li>'Status'</li>\n",
       "\t<li>'Life expectancy'</li>\n",
       "\t<li>'Adult Mortality'</li>\n",
       "\t<li>'infant deaths'</li>\n",
       "\t<li>'Alcohol'</li>\n",
       "\t<li>'percentage expenditure'</li>\n",
       "\t<li>'Hepatitis B'</li>\n",
       "\t<li>'Measles'</li>\n",
       "\t<li>'BMI'</li>\n",
       "\t<li>'under-five deaths'</li>\n",
       "\t<li>'Polio'</li>\n",
       "\t<li>'Total expenditure'</li>\n",
       "\t<li>'Diphtheria'</li>\n",
       "\t<li>'HIV/AIDS'</li>\n",
       "\t<li>'GDP'</li>\n",
       "\t<li>'Population'</li>\n",
       "\t<li><span style=white-space:pre-wrap>'thinness  1-19 years'</span></li>\n",
       "\t<li>'thinness 5-9 years'</li>\n",
       "\t<li>'Income composition of resources'</li>\n",
       "\t<li>'Schooling'</li>\n",
       "</ol>\n"
      ],
      "text/latex": [
       "\\begin{enumerate*}\n",
       "\\item 'Country'\n",
       "\\item 'Year'\n",
       "\\item 'Status'\n",
       "\\item 'Life expectancy'\n",
       "\\item 'Adult Mortality'\n",
       "\\item 'infant deaths'\n",
       "\\item 'Alcohol'\n",
       "\\item 'percentage expenditure'\n",
       "\\item 'Hepatitis B'\n",
       "\\item 'Measles'\n",
       "\\item 'BMI'\n",
       "\\item 'under-five deaths'\n",
       "\\item 'Polio'\n",
       "\\item 'Total expenditure'\n",
       "\\item 'Diphtheria'\n",
       "\\item 'HIV/AIDS'\n",
       "\\item 'GDP'\n",
       "\\item 'Population'\n",
       "\\item 'thinness  1-19 years'\n",
       "\\item 'thinness 5-9 years'\n",
       "\\item 'Income composition of resources'\n",
       "\\item 'Schooling'\n",
       "\\end{enumerate*}\n"
      ],
      "text/markdown": [
       "1. 'Country'\n",
       "2. 'Year'\n",
       "3. 'Status'\n",
       "4. 'Life expectancy'\n",
       "5. 'Adult Mortality'\n",
       "6. 'infant deaths'\n",
       "7. 'Alcohol'\n",
       "8. 'percentage expenditure'\n",
       "9. 'Hepatitis B'\n",
       "10. 'Measles'\n",
       "11. 'BMI'\n",
       "12. 'under-five deaths'\n",
       "13. 'Polio'\n",
       "14. 'Total expenditure'\n",
       "15. 'Diphtheria'\n",
       "16. 'HIV/AIDS'\n",
       "17. 'GDP'\n",
       "18. 'Population'\n",
       "19. <span style=white-space:pre-wrap>'thinness  1-19 years'</span>\n",
       "20. 'thinness 5-9 years'\n",
       "21. 'Income composition of resources'\n",
       "22. 'Schooling'\n",
       "\n",
       "\n"
      ],
      "text/plain": [
       " [1] \"Country\"                         \"Year\"                           \n",
       " [3] \"Status\"                          \"Life expectancy\"                \n",
       " [5] \"Adult Mortality\"                 \"infant deaths\"                  \n",
       " [7] \"Alcohol\"                         \"percentage expenditure\"         \n",
       " [9] \"Hepatitis B\"                     \"Measles\"                        \n",
       "[11] \"BMI\"                             \"under-five deaths\"              \n",
       "[13] \"Polio\"                           \"Total expenditure\"              \n",
       "[15] \"Diphtheria\"                      \"HIV/AIDS\"                       \n",
       "[17] \"GDP\"                             \"Population\"                     \n",
       "[19] \"thinness  1-19 years\"            \"thinness 5-9 years\"             \n",
       "[21] \"Income composition of resources\" \"Schooling\"                      "
      ]
     },
     "metadata": {},
     "output_type": "display_data"
    }
   ],
   "source": [
    "names(df)"
   ]
  },
  {
   "cell_type": "code",
   "execution_count": 12,
   "id": "warming-telling",
   "metadata": {
    "execution": {
     "iopub.execute_input": "2021-04-20T19:08:00.567943Z",
     "iopub.status.busy": "2021-04-20T19:08:00.566574Z",
     "iopub.status.idle": "2021-04-20T19:08:00.582563Z",
     "shell.execute_reply": "2021-04-20T19:08:00.581355Z"
    },
    "papermill": {
     "duration": 0.09001,
     "end_time": "2021-04-20T19:08:00.582714",
     "exception": false,
     "start_time": "2021-04-20T19:08:00.492704",
     "status": "completed"
    },
    "tags": [],
    "vscode": {
     "languageId": "r"
    }
   },
   "outputs": [],
   "source": [
    "names(df) = gsub(\" \", \"\", names(df))#names to extract columns\n",
    "names(df) = gsub(\"/\", \"\", names(df))\n",
    "names(df) = gsub(\"-\", \"\", names(df))"
   ]
  },
  {
   "cell_type": "code",
   "execution_count": 13,
   "id": "floating-satellite",
   "metadata": {
    "execution": {
     "iopub.execute_input": "2021-04-20T19:08:00.718649Z",
     "iopub.status.busy": "2021-04-20T19:08:00.717673Z",
     "iopub.status.idle": "2021-04-20T19:08:00.731246Z",
     "shell.execute_reply": "2021-04-20T19:08:00.729713Z"
    },
    "papermill": {
     "duration": 0.085286,
     "end_time": "2021-04-20T19:08:00.731426",
     "exception": false,
     "start_time": "2021-04-20T19:08:00.646140",
     "status": "completed"
    },
    "tags": [],
    "vscode": {
     "languageId": "r"
    }
   },
   "outputs": [
    {
     "data": {
      "text/html": [
       "<ol class=list-inline>\n",
       "\t<li>'Country'</li>\n",
       "\t<li>'Year'</li>\n",
       "\t<li>'Status'</li>\n",
       "\t<li>'Lifeexpectancy'</li>\n",
       "\t<li>'AdultMortality'</li>\n",
       "\t<li>'infantdeaths'</li>\n",
       "\t<li>'Alcohol'</li>\n",
       "\t<li>'percentageexpenditure'</li>\n",
       "\t<li>'HepatitisB'</li>\n",
       "\t<li>'Measles'</li>\n",
       "\t<li>'BMI'</li>\n",
       "\t<li>'underfivedeaths'</li>\n",
       "\t<li>'Polio'</li>\n",
       "\t<li>'Totalexpenditure'</li>\n",
       "\t<li>'Diphtheria'</li>\n",
       "\t<li>'HIVAIDS'</li>\n",
       "\t<li>'GDP'</li>\n",
       "\t<li>'Population'</li>\n",
       "\t<li>'thinness119years'</li>\n",
       "\t<li>'thinness59years'</li>\n",
       "\t<li>'Incomecompositionofresources'</li>\n",
       "\t<li>'Schooling'</li>\n",
       "</ol>\n"
      ],
      "text/latex": [
       "\\begin{enumerate*}\n",
       "\\item 'Country'\n",
       "\\item 'Year'\n",
       "\\item 'Status'\n",
       "\\item 'Lifeexpectancy'\n",
       "\\item 'AdultMortality'\n",
       "\\item 'infantdeaths'\n",
       "\\item 'Alcohol'\n",
       "\\item 'percentageexpenditure'\n",
       "\\item 'HepatitisB'\n",
       "\\item 'Measles'\n",
       "\\item 'BMI'\n",
       "\\item 'underfivedeaths'\n",
       "\\item 'Polio'\n",
       "\\item 'Totalexpenditure'\n",
       "\\item 'Diphtheria'\n",
       "\\item 'HIVAIDS'\n",
       "\\item 'GDP'\n",
       "\\item 'Population'\n",
       "\\item 'thinness119years'\n",
       "\\item 'thinness59years'\n",
       "\\item 'Incomecompositionofresources'\n",
       "\\item 'Schooling'\n",
       "\\end{enumerate*}\n"
      ],
      "text/markdown": [
       "1. 'Country'\n",
       "2. 'Year'\n",
       "3. 'Status'\n",
       "4. 'Lifeexpectancy'\n",
       "5. 'AdultMortality'\n",
       "6. 'infantdeaths'\n",
       "7. 'Alcohol'\n",
       "8. 'percentageexpenditure'\n",
       "9. 'HepatitisB'\n",
       "10. 'Measles'\n",
       "11. 'BMI'\n",
       "12. 'underfivedeaths'\n",
       "13. 'Polio'\n",
       "14. 'Totalexpenditure'\n",
       "15. 'Diphtheria'\n",
       "16. 'HIVAIDS'\n",
       "17. 'GDP'\n",
       "18. 'Population'\n",
       "19. 'thinness119years'\n",
       "20. 'thinness59years'\n",
       "21. 'Incomecompositionofresources'\n",
       "22. 'Schooling'\n",
       "\n",
       "\n"
      ],
      "text/plain": [
       " [1] \"Country\"                      \"Year\"                        \n",
       " [3] \"Status\"                       \"Lifeexpectancy\"              \n",
       " [5] \"AdultMortality\"               \"infantdeaths\"                \n",
       " [7] \"Alcohol\"                      \"percentageexpenditure\"       \n",
       " [9] \"HepatitisB\"                   \"Measles\"                     \n",
       "[11] \"BMI\"                          \"underfivedeaths\"             \n",
       "[13] \"Polio\"                        \"Totalexpenditure\"            \n",
       "[15] \"Diphtheria\"                   \"HIVAIDS\"                     \n",
       "[17] \"GDP\"                          \"Population\"                  \n",
       "[19] \"thinness119years\"             \"thinness59years\"             \n",
       "[21] \"Incomecompositionofresources\" \"Schooling\"                   "
      ]
     },
     "metadata": {},
     "output_type": "display_data"
    }
   ],
   "source": [
    "names(df)"
   ]
  },
  {
   "cell_type": "code",
   "execution_count": 14,
   "id": "imported-charger",
   "metadata": {
    "execution": {
     "iopub.execute_input": "2021-04-20T19:08:00.867997Z",
     "iopub.status.busy": "2021-04-20T19:08:00.867378Z",
     "iopub.status.idle": "2021-04-20T19:08:01.034537Z",
     "shell.execute_reply": "2021-04-20T19:08:01.033805Z"
    },
    "papermill": {
     "duration": 0.239057,
     "end_time": "2021-04-20T19:08:01.034670",
     "exception": false,
     "start_time": "2021-04-20T19:08:00.795613",
     "status": "completed"
    },
    "tags": [],
    "vscode": {
     "languageId": "r"
    }
   },
   "outputs": [
    {
     "data": {
      "text/html": [
       "<table>\n",
       "<thead><tr><th scope=col>Country</th><th scope=col>Year</th><th scope=col>Status</th><th scope=col>Lifeexpectancy</th><th scope=col>AdultMortality</th><th scope=col>infantdeaths</th><th scope=col>Alcohol</th><th scope=col>percentageexpenditure</th><th scope=col>HepatitisB</th><th scope=col>Measles</th><th scope=col>...</th><th scope=col>Polio</th><th scope=col>Totalexpenditure</th><th scope=col>Diphtheria</th><th scope=col>HIVAIDS</th><th scope=col>GDP</th><th scope=col>Population</th><th scope=col>thinness119years</th><th scope=col>thinness59years</th><th scope=col>Incomecompositionofresources</th><th scope=col>Schooling</th></tr></thead>\n",
       "<tbody>\n",
       "\t<tr><td>Afghanistan</td><td>2015       </td><td>Developing </td><td>65.0       </td><td>263        </td><td>62         </td><td>0.01       </td><td>71.279624  </td><td>65         </td><td>1154       </td><td>...        </td><td> 6         </td><td>8.16       </td><td>65         </td><td>0.1        </td><td>584.25921  </td><td>33736494   </td><td>17.2       </td><td>17.3       </td><td>0.479      </td><td>10.1       </td></tr>\n",
       "\t<tr><td>Afghanistan</td><td>2014       </td><td>Developing </td><td>59.9       </td><td>271        </td><td>64         </td><td>0.01       </td><td>73.523582  </td><td>62         </td><td> 492       </td><td>...        </td><td>58         </td><td>8.18       </td><td>62         </td><td>0.1        </td><td>612.69651  </td><td>  327582   </td><td>17.5       </td><td>17.5       </td><td>0.476      </td><td>10.0       </td></tr>\n",
       "\t<tr><td>Afghanistan</td><td>2013       </td><td>Developing </td><td>59.9       </td><td>268        </td><td>66         </td><td>0.01       </td><td>73.219243  </td><td>64         </td><td> 430       </td><td>...        </td><td>62         </td><td>8.13       </td><td>64         </td><td>0.1        </td><td>631.74498  </td><td>31731688   </td><td>17.7       </td><td>17.7       </td><td>0.470      </td><td> 9.9       </td></tr>\n",
       "\t<tr><td>Afghanistan</td><td>2012       </td><td>Developing </td><td>59.5       </td><td>272        </td><td>69         </td><td>0.01       </td><td>78.184215  </td><td>67         </td><td>2787       </td><td>...        </td><td>67         </td><td>8.52       </td><td>67         </td><td>0.1        </td><td>669.95900  </td><td> 3696958   </td><td>17.9       </td><td>18.0       </td><td>0.463      </td><td> 9.8       </td></tr>\n",
       "\t<tr><td>Afghanistan</td><td>2011       </td><td>Developing </td><td>59.2       </td><td>275        </td><td>71         </td><td>0.01       </td><td> 7.097109  </td><td>68         </td><td>3013       </td><td>...        </td><td>68         </td><td>7.87       </td><td>68         </td><td>0.1        </td><td> 63.53723  </td><td> 2978599   </td><td>18.2       </td><td>18.2       </td><td>0.454      </td><td> 9.5       </td></tr>\n",
       "\t<tr><td>Afghanistan</td><td>2010       </td><td>Developing </td><td>58.8       </td><td>279        </td><td>74         </td><td>0.01       </td><td>79.679367  </td><td>66         </td><td>1989       </td><td>...        </td><td>66         </td><td>9.20       </td><td>66         </td><td>0.1        </td><td>553.32894  </td><td> 2883167   </td><td>18.4       </td><td>18.4       </td><td>0.448      </td><td> 9.2       </td></tr>\n",
       "</tbody>\n",
       "</table>\n"
      ],
      "text/latex": [
       "\\begin{tabular}{r|llllllllllllllllllllll}\n",
       " Country & Year & Status & Lifeexpectancy & AdultMortality & infantdeaths & Alcohol & percentageexpenditure & HepatitisB & Measles & ... & Polio & Totalexpenditure & Diphtheria & HIVAIDS & GDP & Population & thinness119years & thinness59years & Incomecompositionofresources & Schooling\\\\\n",
       "\\hline\n",
       "\t Afghanistan & 2015        & Developing  & 65.0        & 263         & 62          & 0.01        & 71.279624   & 65          & 1154        & ...         &  6          & 8.16        & 65          & 0.1         & 584.25921   & 33736494    & 17.2        & 17.3        & 0.479       & 10.1       \\\\\n",
       "\t Afghanistan & 2014        & Developing  & 59.9        & 271         & 64          & 0.01        & 73.523582   & 62          &  492        & ...         & 58          & 8.18        & 62          & 0.1         & 612.69651   &   327582    & 17.5        & 17.5        & 0.476       & 10.0       \\\\\n",
       "\t Afghanistan & 2013        & Developing  & 59.9        & 268         & 66          & 0.01        & 73.219243   & 64          &  430        & ...         & 62          & 8.13        & 64          & 0.1         & 631.74498   & 31731688    & 17.7        & 17.7        & 0.470       &  9.9       \\\\\n",
       "\t Afghanistan & 2012        & Developing  & 59.5        & 272         & 69          & 0.01        & 78.184215   & 67          & 2787        & ...         & 67          & 8.52        & 67          & 0.1         & 669.95900   &  3696958    & 17.9        & 18.0        & 0.463       &  9.8       \\\\\n",
       "\t Afghanistan & 2011        & Developing  & 59.2        & 275         & 71          & 0.01        &  7.097109   & 68          & 3013        & ...         & 68          & 7.87        & 68          & 0.1         &  63.53723   &  2978599    & 18.2        & 18.2        & 0.454       &  9.5       \\\\\n",
       "\t Afghanistan & 2010        & Developing  & 58.8        & 279         & 74          & 0.01        & 79.679367   & 66          & 1989        & ...         & 66          & 9.20        & 66          & 0.1         & 553.32894   &  2883167    & 18.4        & 18.4        & 0.448       &  9.2       \\\\\n",
       "\\end{tabular}\n"
      ],
      "text/markdown": [
       "\n",
       "| Country | Year | Status | Lifeexpectancy | AdultMortality | infantdeaths | Alcohol | percentageexpenditure | HepatitisB | Measles | ... | Polio | Totalexpenditure | Diphtheria | HIVAIDS | GDP | Population | thinness119years | thinness59years | Incomecompositionofresources | Schooling |\n",
       "|---|---|---|---|---|---|---|---|---|---|---|---|---|---|---|---|---|---|---|---|---|\n",
       "| Afghanistan | 2015        | Developing  | 65.0        | 263         | 62          | 0.01        | 71.279624   | 65          | 1154        | ...         |  6          | 8.16        | 65          | 0.1         | 584.25921   | 33736494    | 17.2        | 17.3        | 0.479       | 10.1        |\n",
       "| Afghanistan | 2014        | Developing  | 59.9        | 271         | 64          | 0.01        | 73.523582   | 62          |  492        | ...         | 58          | 8.18        | 62          | 0.1         | 612.69651   |   327582    | 17.5        | 17.5        | 0.476       | 10.0        |\n",
       "| Afghanistan | 2013        | Developing  | 59.9        | 268         | 66          | 0.01        | 73.219243   | 64          |  430        | ...         | 62          | 8.13        | 64          | 0.1         | 631.74498   | 31731688    | 17.7        | 17.7        | 0.470       |  9.9        |\n",
       "| Afghanistan | 2012        | Developing  | 59.5        | 272         | 69          | 0.01        | 78.184215   | 67          | 2787        | ...         | 67          | 8.52        | 67          | 0.1         | 669.95900   |  3696958    | 17.9        | 18.0        | 0.463       |  9.8        |\n",
       "| Afghanistan | 2011        | Developing  | 59.2        | 275         | 71          | 0.01        |  7.097109   | 68          | 3013        | ...         | 68          | 7.87        | 68          | 0.1         |  63.53723   |  2978599    | 18.2        | 18.2        | 0.454       |  9.5        |\n",
       "| Afghanistan | 2010        | Developing  | 58.8        | 279         | 74          | 0.01        | 79.679367   | 66          | 1989        | ...         | 66          | 9.20        | 66          | 0.1         | 553.32894   |  2883167    | 18.4        | 18.4        | 0.448       |  9.2        |\n",
       "\n"
      ],
      "text/plain": [
       "  Country     Year Status     Lifeexpectancy AdultMortality infantdeaths\n",
       "1 Afghanistan 2015 Developing 65.0           263            62          \n",
       "2 Afghanistan 2014 Developing 59.9           271            64          \n",
       "3 Afghanistan 2013 Developing 59.9           268            66          \n",
       "4 Afghanistan 2012 Developing 59.5           272            69          \n",
       "5 Afghanistan 2011 Developing 59.2           275            71          \n",
       "6 Afghanistan 2010 Developing 58.8           279            74          \n",
       "  Alcohol percentageexpenditure HepatitisB Measles ... Polio Totalexpenditure\n",
       "1 0.01    71.279624             65         1154    ...  6    8.16            \n",
       "2 0.01    73.523582             62          492    ... 58    8.18            \n",
       "3 0.01    73.219243             64          430    ... 62    8.13            \n",
       "4 0.01    78.184215             67         2787    ... 67    8.52            \n",
       "5 0.01     7.097109             68         3013    ... 68    7.87            \n",
       "6 0.01    79.679367             66         1989    ... 66    9.20            \n",
       "  Diphtheria HIVAIDS GDP       Population thinness119years thinness59years\n",
       "1 65         0.1     584.25921 33736494   17.2             17.3           \n",
       "2 62         0.1     612.69651   327582   17.5             17.5           \n",
       "3 64         0.1     631.74498 31731688   17.7             17.7           \n",
       "4 67         0.1     669.95900  3696958   17.9             18.0           \n",
       "5 68         0.1      63.53723  2978599   18.2             18.2           \n",
       "6 66         0.1     553.32894  2883167   18.4             18.4           \n",
       "  Incomecompositionofresources Schooling\n",
       "1 0.479                        10.1     \n",
       "2 0.476                        10.0     \n",
       "3 0.470                         9.9     \n",
       "4 0.463                         9.8     \n",
       "5 0.454                         9.5     \n",
       "6 0.448                         9.2     "
      ]
     },
     "metadata": {},
     "output_type": "display_data"
    }
   ],
   "source": [
    "head(df)"
   ]
  },
  {
   "cell_type": "markdown",
   "id": "danish-botswana",
   "metadata": {
    "papermill": {
     "duration": 0.068006,
     "end_time": "2021-04-20T19:08:01.170967",
     "exception": false,
     "start_time": "2021-04-20T19:08:01.102961",
     "status": "completed"
    },
    "tags": []
   },
   "source": [
    "# Cleaning the data"
   ]
  },
  {
   "cell_type": "code",
   "execution_count": 15,
   "id": "straight-variation",
   "metadata": {
    "execution": {
     "iopub.execute_input": "2021-04-20T19:08:01.310369Z",
     "iopub.status.busy": "2021-04-20T19:08:01.309064Z",
     "iopub.status.idle": "2021-04-20T19:08:01.356744Z",
     "shell.execute_reply": "2021-04-20T19:08:01.355703Z"
    },
    "papermill": {
     "duration": 0.118944,
     "end_time": "2021-04-20T19:08:01.356878",
     "exception": false,
     "start_time": "2021-04-20T19:08:01.237934",
     "status": "completed"
    },
    "tags": [],
    "vscode": {
     "languageId": "r"
    }
   },
   "outputs": [],
   "source": [
    "df <- df[!is.na(df$Totalexpenditure), ]\n",
    "df <- df[!is.na(df$HepatitisB), ]\n",
    "df <- df[!is.na(df$AdultMortality), ]\n",
    "df <- df[!is.na(df$infantdeaths), ]\n",
    "df <- df[!is.na(df$Alcohol), ]\n",
    "df <- df[!is.na(df$percentageexpenditure), ]\n",
    "df <- df[!is.na(df$Measles), ]\n",
    "df <- df[!is.na(df$BMI), ]\n",
    "df <- df[!is.na(df$underfivedeaths), ]\n",
    "df <- df[!is.na(df$Polio), ]\n",
    "df <- df[!is.na(df$Diphtheria), ]\n",
    "df <- df[!is.na(df$HIVAIDS), ]\n",
    "df <- df[!is.na(df$GDP), ]\n",
    "df <- df[!is.na(df$Population), ]\n",
    "df <- df[!is.na(df$thinness119years), ]\n",
    "df <- df[!is.na(df$thinness59years), ]\n",
    "df <- df[!is.na(df$Incomecompositionofresources), ]\n",
    "df <- df[!is.na(df$Schooling), ]\n",
    "\n"
   ]
  },
  {
   "cell_type": "code",
   "execution_count": 16,
   "id": "martial-priest",
   "metadata": {
    "execution": {
     "iopub.execute_input": "2021-04-20T19:08:01.501742Z",
     "iopub.status.busy": "2021-04-20T19:08:01.500454Z",
     "iopub.status.idle": "2021-04-20T19:08:01.666581Z",
     "shell.execute_reply": "2021-04-20T19:08:01.665918Z"
    },
    "papermill": {
     "duration": 0.243449,
     "end_time": "2021-04-20T19:08:01.666710",
     "exception": false,
     "start_time": "2021-04-20T19:08:01.423261",
     "status": "completed"
    },
    "tags": [],
    "vscode": {
     "languageId": "r"
    }
   },
   "outputs": [
    {
     "data": {
      "text/html": [
       "<table>\n",
       "<thead><tr><th scope=col>Country</th><th scope=col>Year</th><th scope=col>Status</th><th scope=col>Lifeexpectancy</th><th scope=col>AdultMortality</th><th scope=col>infantdeaths</th><th scope=col>Alcohol</th><th scope=col>percentageexpenditure</th><th scope=col>HepatitisB</th><th scope=col>Measles</th><th scope=col>...</th><th scope=col>Polio</th><th scope=col>Totalexpenditure</th><th scope=col>Diphtheria</th><th scope=col>HIVAIDS</th><th scope=col>GDP</th><th scope=col>Population</th><th scope=col>thinness119years</th><th scope=col>thinness59years</th><th scope=col>Incomecompositionofresources</th><th scope=col>Schooling</th></tr></thead>\n",
       "<tbody>\n",
       "\t<tr><td>Afghanistan</td><td>2015       </td><td>Developing </td><td>65.0       </td><td>263        </td><td>62         </td><td>0.01       </td><td>71.279624  </td><td>65         </td><td>1154       </td><td>...        </td><td> 6         </td><td>8.16       </td><td>65         </td><td>0.1        </td><td>584.25921  </td><td>33736494   </td><td>17.2       </td><td>17.3       </td><td>0.479      </td><td>10.1       </td></tr>\n",
       "\t<tr><td>Afghanistan</td><td>2014       </td><td>Developing </td><td>59.9       </td><td>271        </td><td>64         </td><td>0.01       </td><td>73.523582  </td><td>62         </td><td> 492       </td><td>...        </td><td>58         </td><td>8.18       </td><td>62         </td><td>0.1        </td><td>612.69651  </td><td>  327582   </td><td>17.5       </td><td>17.5       </td><td>0.476      </td><td>10.0       </td></tr>\n",
       "\t<tr><td>Afghanistan</td><td>2013       </td><td>Developing </td><td>59.9       </td><td>268        </td><td>66         </td><td>0.01       </td><td>73.219243  </td><td>64         </td><td> 430       </td><td>...        </td><td>62         </td><td>8.13       </td><td>64         </td><td>0.1        </td><td>631.74498  </td><td>31731688   </td><td>17.7       </td><td>17.7       </td><td>0.470      </td><td> 9.9       </td></tr>\n",
       "\t<tr><td>Afghanistan</td><td>2012       </td><td>Developing </td><td>59.5       </td><td>272        </td><td>69         </td><td>0.01       </td><td>78.184215  </td><td>67         </td><td>2787       </td><td>...        </td><td>67         </td><td>8.52       </td><td>67         </td><td>0.1        </td><td>669.95900  </td><td> 3696958   </td><td>17.9       </td><td>18.0       </td><td>0.463      </td><td> 9.8       </td></tr>\n",
       "\t<tr><td>Afghanistan</td><td>2011       </td><td>Developing </td><td>59.2       </td><td>275        </td><td>71         </td><td>0.01       </td><td> 7.097109  </td><td>68         </td><td>3013       </td><td>...        </td><td>68         </td><td>7.87       </td><td>68         </td><td>0.1        </td><td> 63.53723  </td><td> 2978599   </td><td>18.2       </td><td>18.2       </td><td>0.454      </td><td> 9.5       </td></tr>\n",
       "\t<tr><td>Afghanistan</td><td>2010       </td><td>Developing </td><td>58.8       </td><td>279        </td><td>74         </td><td>0.01       </td><td>79.679367  </td><td>66         </td><td>1989       </td><td>...        </td><td>66         </td><td>9.20       </td><td>66         </td><td>0.1        </td><td>553.32894  </td><td> 2883167   </td><td>18.4       </td><td>18.4       </td><td>0.448      </td><td> 9.2       </td></tr>\n",
       "</tbody>\n",
       "</table>\n"
      ],
      "text/latex": [
       "\\begin{tabular}{r|llllllllllllllllllllll}\n",
       " Country & Year & Status & Lifeexpectancy & AdultMortality & infantdeaths & Alcohol & percentageexpenditure & HepatitisB & Measles & ... & Polio & Totalexpenditure & Diphtheria & HIVAIDS & GDP & Population & thinness119years & thinness59years & Incomecompositionofresources & Schooling\\\\\n",
       "\\hline\n",
       "\t Afghanistan & 2015        & Developing  & 65.0        & 263         & 62          & 0.01        & 71.279624   & 65          & 1154        & ...         &  6          & 8.16        & 65          & 0.1         & 584.25921   & 33736494    & 17.2        & 17.3        & 0.479       & 10.1       \\\\\n",
       "\t Afghanistan & 2014        & Developing  & 59.9        & 271         & 64          & 0.01        & 73.523582   & 62          &  492        & ...         & 58          & 8.18        & 62          & 0.1         & 612.69651   &   327582    & 17.5        & 17.5        & 0.476       & 10.0       \\\\\n",
       "\t Afghanistan & 2013        & Developing  & 59.9        & 268         & 66          & 0.01        & 73.219243   & 64          &  430        & ...         & 62          & 8.13        & 64          & 0.1         & 631.74498   & 31731688    & 17.7        & 17.7        & 0.470       &  9.9       \\\\\n",
       "\t Afghanistan & 2012        & Developing  & 59.5        & 272         & 69          & 0.01        & 78.184215   & 67          & 2787        & ...         & 67          & 8.52        & 67          & 0.1         & 669.95900   &  3696958    & 17.9        & 18.0        & 0.463       &  9.8       \\\\\n",
       "\t Afghanistan & 2011        & Developing  & 59.2        & 275         & 71          & 0.01        &  7.097109   & 68          & 3013        & ...         & 68          & 7.87        & 68          & 0.1         &  63.53723   &  2978599    & 18.2        & 18.2        & 0.454       &  9.5       \\\\\n",
       "\t Afghanistan & 2010        & Developing  & 58.8        & 279         & 74          & 0.01        & 79.679367   & 66          & 1989        & ...         & 66          & 9.20        & 66          & 0.1         & 553.32894   &  2883167    & 18.4        & 18.4        & 0.448       &  9.2       \\\\\n",
       "\\end{tabular}\n"
      ],
      "text/markdown": [
       "\n",
       "| Country | Year | Status | Lifeexpectancy | AdultMortality | infantdeaths | Alcohol | percentageexpenditure | HepatitisB | Measles | ... | Polio | Totalexpenditure | Diphtheria | HIVAIDS | GDP | Population | thinness119years | thinness59years | Incomecompositionofresources | Schooling |\n",
       "|---|---|---|---|---|---|---|---|---|---|---|---|---|---|---|---|---|---|---|---|---|\n",
       "| Afghanistan | 2015        | Developing  | 65.0        | 263         | 62          | 0.01        | 71.279624   | 65          | 1154        | ...         |  6          | 8.16        | 65          | 0.1         | 584.25921   | 33736494    | 17.2        | 17.3        | 0.479       | 10.1        |\n",
       "| Afghanistan | 2014        | Developing  | 59.9        | 271         | 64          | 0.01        | 73.523582   | 62          |  492        | ...         | 58          | 8.18        | 62          | 0.1         | 612.69651   |   327582    | 17.5        | 17.5        | 0.476       | 10.0        |\n",
       "| Afghanistan | 2013        | Developing  | 59.9        | 268         | 66          | 0.01        | 73.219243   | 64          |  430        | ...         | 62          | 8.13        | 64          | 0.1         | 631.74498   | 31731688    | 17.7        | 17.7        | 0.470       |  9.9        |\n",
       "| Afghanistan | 2012        | Developing  | 59.5        | 272         | 69          | 0.01        | 78.184215   | 67          | 2787        | ...         | 67          | 8.52        | 67          | 0.1         | 669.95900   |  3696958    | 17.9        | 18.0        | 0.463       |  9.8        |\n",
       "| Afghanistan | 2011        | Developing  | 59.2        | 275         | 71          | 0.01        |  7.097109   | 68          | 3013        | ...         | 68          | 7.87        | 68          | 0.1         |  63.53723   |  2978599    | 18.2        | 18.2        | 0.454       |  9.5        |\n",
       "| Afghanistan | 2010        | Developing  | 58.8        | 279         | 74          | 0.01        | 79.679367   | 66          | 1989        | ...         | 66          | 9.20        | 66          | 0.1         | 553.32894   |  2883167    | 18.4        | 18.4        | 0.448       |  9.2        |\n",
       "\n"
      ],
      "text/plain": [
       "  Country     Year Status     Lifeexpectancy AdultMortality infantdeaths\n",
       "1 Afghanistan 2015 Developing 65.0           263            62          \n",
       "2 Afghanistan 2014 Developing 59.9           271            64          \n",
       "3 Afghanistan 2013 Developing 59.9           268            66          \n",
       "4 Afghanistan 2012 Developing 59.5           272            69          \n",
       "5 Afghanistan 2011 Developing 59.2           275            71          \n",
       "6 Afghanistan 2010 Developing 58.8           279            74          \n",
       "  Alcohol percentageexpenditure HepatitisB Measles ... Polio Totalexpenditure\n",
       "1 0.01    71.279624             65         1154    ...  6    8.16            \n",
       "2 0.01    73.523582             62          492    ... 58    8.18            \n",
       "3 0.01    73.219243             64          430    ... 62    8.13            \n",
       "4 0.01    78.184215             67         2787    ... 67    8.52            \n",
       "5 0.01     7.097109             68         3013    ... 68    7.87            \n",
       "6 0.01    79.679367             66         1989    ... 66    9.20            \n",
       "  Diphtheria HIVAIDS GDP       Population thinness119years thinness59years\n",
       "1 65         0.1     584.25921 33736494   17.2             17.3           \n",
       "2 62         0.1     612.69651   327582   17.5             17.5           \n",
       "3 64         0.1     631.74498 31731688   17.7             17.7           \n",
       "4 67         0.1     669.95900  3696958   17.9             18.0           \n",
       "5 68         0.1      63.53723  2978599   18.2             18.2           \n",
       "6 66         0.1     553.32894  2883167   18.4             18.4           \n",
       "  Incomecompositionofresources Schooling\n",
       "1 0.479                        10.1     \n",
       "2 0.476                        10.0     \n",
       "3 0.470                         9.9     \n",
       "4 0.463                         9.8     \n",
       "5 0.454                         9.5     \n",
       "6 0.448                         9.2     "
      ]
     },
     "metadata": {},
     "output_type": "display_data"
    }
   ],
   "source": [
    "head(df)"
   ]
  },
  {
   "cell_type": "code",
   "execution_count": 17,
   "id": "hollow-summary",
   "metadata": {
    "execution": {
     "iopub.execute_input": "2021-04-20T19:08:01.952438Z",
     "iopub.status.busy": "2021-04-20T19:08:01.951079Z",
     "iopub.status.idle": "2021-04-20T19:08:01.965866Z",
     "shell.execute_reply": "2021-04-20T19:08:01.964636Z"
    },
    "papermill": {
     "duration": 0.088575,
     "end_time": "2021-04-20T19:08:01.966028",
     "exception": false,
     "start_time": "2021-04-20T19:08:01.877453",
     "status": "completed"
    },
    "tags": [],
    "vscode": {
     "languageId": "r"
    }
   },
   "outputs": [
    {
     "data": {
      "text/html": [
       "<ol class=list-inline>\n",
       "\t<li>'Country'</li>\n",
       "\t<li>'Year'</li>\n",
       "\t<li>'Status'</li>\n",
       "\t<li>'Lifeexpectancy'</li>\n",
       "\t<li>'AdultMortality'</li>\n",
       "\t<li>'infantdeaths'</li>\n",
       "\t<li>'Alcohol'</li>\n",
       "\t<li>'percentageexpenditure'</li>\n",
       "\t<li>'HepatitisB'</li>\n",
       "\t<li>'Measles'</li>\n",
       "\t<li>'BMI'</li>\n",
       "\t<li>'underfivedeaths'</li>\n",
       "\t<li>'Polio'</li>\n",
       "\t<li>'Totalexpenditure'</li>\n",
       "\t<li>'Diphtheria'</li>\n",
       "\t<li>'HIVAIDS'</li>\n",
       "\t<li>'GDP'</li>\n",
       "\t<li>'Population'</li>\n",
       "\t<li>'thinness119years'</li>\n",
       "\t<li>'thinness59years'</li>\n",
       "\t<li>'Incomecompositionofresources'</li>\n",
       "\t<li>'Schooling'</li>\n",
       "</ol>\n"
      ],
      "text/latex": [
       "\\begin{enumerate*}\n",
       "\\item 'Country'\n",
       "\\item 'Year'\n",
       "\\item 'Status'\n",
       "\\item 'Lifeexpectancy'\n",
       "\\item 'AdultMortality'\n",
       "\\item 'infantdeaths'\n",
       "\\item 'Alcohol'\n",
       "\\item 'percentageexpenditure'\n",
       "\\item 'HepatitisB'\n",
       "\\item 'Measles'\n",
       "\\item 'BMI'\n",
       "\\item 'underfivedeaths'\n",
       "\\item 'Polio'\n",
       "\\item 'Totalexpenditure'\n",
       "\\item 'Diphtheria'\n",
       "\\item 'HIVAIDS'\n",
       "\\item 'GDP'\n",
       "\\item 'Population'\n",
       "\\item 'thinness119years'\n",
       "\\item 'thinness59years'\n",
       "\\item 'Incomecompositionofresources'\n",
       "\\item 'Schooling'\n",
       "\\end{enumerate*}\n"
      ],
      "text/markdown": [
       "1. 'Country'\n",
       "2. 'Year'\n",
       "3. 'Status'\n",
       "4. 'Lifeexpectancy'\n",
       "5. 'AdultMortality'\n",
       "6. 'infantdeaths'\n",
       "7. 'Alcohol'\n",
       "8. 'percentageexpenditure'\n",
       "9. 'HepatitisB'\n",
       "10. 'Measles'\n",
       "11. 'BMI'\n",
       "12. 'underfivedeaths'\n",
       "13. 'Polio'\n",
       "14. 'Totalexpenditure'\n",
       "15. 'Diphtheria'\n",
       "16. 'HIVAIDS'\n",
       "17. 'GDP'\n",
       "18. 'Population'\n",
       "19. 'thinness119years'\n",
       "20. 'thinness59years'\n",
       "21. 'Incomecompositionofresources'\n",
       "22. 'Schooling'\n",
       "\n",
       "\n"
      ],
      "text/plain": [
       " [1] \"Country\"                      \"Year\"                        \n",
       " [3] \"Status\"                       \"Lifeexpectancy\"              \n",
       " [5] \"AdultMortality\"               \"infantdeaths\"                \n",
       " [7] \"Alcohol\"                      \"percentageexpenditure\"       \n",
       " [9] \"HepatitisB\"                   \"Measles\"                     \n",
       "[11] \"BMI\"                          \"underfivedeaths\"             \n",
       "[13] \"Polio\"                        \"Totalexpenditure\"            \n",
       "[15] \"Diphtheria\"                   \"HIVAIDS\"                     \n",
       "[17] \"GDP\"                          \"Population\"                  \n",
       "[19] \"thinness119years\"             \"thinness59years\"             \n",
       "[21] \"Incomecompositionofresources\" \"Schooling\"                   "
      ]
     },
     "metadata": {},
     "output_type": "display_data"
    }
   ],
   "source": [
    "names(df)"
   ]
  },
  {
   "cell_type": "markdown",
   "id": "boolean-equivalent",
   "metadata": {
    "papermill": {
     "duration": 0.071784,
     "end_time": "2021-04-20T19:08:02.108972",
     "exception": false,
     "start_time": "2021-04-20T19:08:02.037188",
     "status": "completed"
    },
    "tags": []
   },
   "source": [
    "# Cleaning the data by using 'filter' function"
   ]
  },
  {
   "cell_type": "code",
   "execution_count": 18,
   "id": "lovely-kentucky",
   "metadata": {
    "execution": {
     "iopub.execute_input": "2021-04-20T19:08:02.261715Z",
     "iopub.status.busy": "2021-04-20T19:08:02.254386Z",
     "iopub.status.idle": "2021-04-20T19:08:02.296715Z",
     "shell.execute_reply": "2021-04-20T19:08:02.295453Z"
    },
    "papermill": {
     "duration": 0.117222,
     "end_time": "2021-04-20T19:08:02.296859",
     "exception": false,
     "start_time": "2021-04-20T19:08:02.179637",
     "status": "completed"
    },
    "tags": [],
    "vscode": {
     "languageId": "r"
    }
   },
   "outputs": [
    {
     "data": {
      "text/plain": [
       "   Country               Year         Status          Lifeexpectancy\n",
       " Length:1649        Min.   :2000   Length:1649        Min.   :44.0  \n",
       " Class :character   1st Qu.:2005   Class :character   1st Qu.:64.4  \n",
       " Mode  :character   Median :2008   Mode  :character   Median :71.7  \n",
       "                    Mean   :2008                      Mean   :69.3  \n",
       "                    3rd Qu.:2011                      3rd Qu.:75.0  \n",
       "                    Max.   :2015                      Max.   :89.0  \n",
       " AdultMortality   infantdeaths        Alcohol       percentageexpenditure\n",
       " Min.   :  1.0   Min.   :   0.00   Min.   : 0.010   Min.   :    0.00     \n",
       " 1st Qu.: 77.0   1st Qu.:   1.00   1st Qu.: 0.810   1st Qu.:   37.44     \n",
       " Median :148.0   Median :   3.00   Median : 3.790   Median :  145.10     \n",
       " Mean   :168.2   Mean   :  32.55   Mean   : 4.533   Mean   :  698.97     \n",
       " 3rd Qu.:227.0   3rd Qu.:  22.00   3rd Qu.: 7.340   3rd Qu.:  509.39     \n",
       " Max.   :723.0   Max.   :1600.00   Max.   :17.870   Max.   :18961.35     \n",
       "   HepatitisB       Measles            BMI        underfivedeaths  \n",
       " Min.   : 2.00   Min.   :     0   Min.   : 2.00   Min.   :   0.00  \n",
       " 1st Qu.:74.00   1st Qu.:     0   1st Qu.:19.50   1st Qu.:   1.00  \n",
       " Median :89.00   Median :    15   Median :43.70   Median :   4.00  \n",
       " Mean   :79.22   Mean   :  2224   Mean   :38.13   Mean   :  44.22  \n",
       " 3rd Qu.:96.00   3rd Qu.:   373   3rd Qu.:55.80   3rd Qu.:  29.00  \n",
       " Max.   :99.00   Max.   :131441   Max.   :77.10   Max.   :2100.00  \n",
       "     Polio       Totalexpenditure   Diphtheria       HIVAIDS      \n",
       " Min.   : 3.00   Min.   : 0.740   Min.   : 2.00   Min.   : 0.100  \n",
       " 1st Qu.:81.00   1st Qu.: 4.410   1st Qu.:82.00   1st Qu.: 0.100  \n",
       " Median :93.00   Median : 5.840   Median :92.00   Median : 0.100  \n",
       " Mean   :83.56   Mean   : 5.956   Mean   :84.16   Mean   : 1.984  \n",
       " 3rd Qu.:97.00   3rd Qu.: 7.470   3rd Qu.:97.00   3rd Qu.: 0.700  \n",
       " Max.   :99.00   Max.   :14.390   Max.   :99.00   Max.   :50.600  \n",
       "      GDP              Population        thinness119years thinness59years \n",
       " Min.   :     1.68   Min.   :3.400e+01   Min.   : 0.100   Min.   : 0.100  \n",
       " 1st Qu.:   462.15   1st Qu.:1.919e+05   1st Qu.: 1.600   1st Qu.: 1.700  \n",
       " Median :  1592.57   Median :1.420e+06   Median : 3.000   Median : 3.200  \n",
       " Mean   :  5566.03   Mean   :1.465e+07   Mean   : 4.851   Mean   : 4.908  \n",
       " 3rd Qu.:  4718.51   3rd Qu.:7.659e+06   3rd Qu.: 7.100   3rd Qu.: 7.100  \n",
       " Max.   :119172.74   Max.   :1.294e+09   Max.   :27.200   Max.   :28.200  \n",
       " Incomecompositionofresources   Schooling    \n",
       " Min.   :0.0000               Min.   : 4.20  \n",
       " 1st Qu.:0.5090               1st Qu.:10.30  \n",
       " Median :0.6730               Median :12.30  \n",
       " Mean   :0.6316               Mean   :12.12  \n",
       " 3rd Qu.:0.7510               3rd Qu.:14.00  \n",
       " Max.   :0.9360               Max.   :20.70  "
      ]
     },
     "metadata": {},
     "output_type": "display_data"
    }
   ],
   "source": [
    "df1 = df %>%\n",
    "filter(!is.na(Lifeexpectancy),\n",
    "       !is.na(AdultMortality),\n",
    "      !is.na(infantdeaths),\n",
    "      !is.na(Alcohol),\n",
    "      !is.na(percentageexpenditure),\n",
    "      !is.na(HepatitisB),\n",
    "      !is.na(Measles),\n",
    "      !is.na(BMI),\n",
    "      !is.na(underfivedeaths),\n",
    "      !is.na(Totalexpenditure),\n",
    "      !is.na(Diphtheria),\n",
    "      !is.na(HIVAIDS),\n",
    "      !is.na(GDP),\n",
    "      !is.na(Population),\n",
    "      !is.na(GDP),\n",
    "      !is.na(thinness119years),\n",
    "      !is.na(thinness59years),\n",
    "      !is.na(Incomecompositionofresources),\n",
    "      !is.na(Schooling))\n",
    "summary(df1)"
   ]
  },
  {
   "cell_type": "code",
   "execution_count": 19,
   "id": "reflected-combination",
   "metadata": {
    "execution": {
     "iopub.execute_input": "2021-04-20T19:08:02.448026Z",
     "iopub.status.busy": "2021-04-20T19:08:02.446288Z",
     "iopub.status.idle": "2021-04-20T19:08:02.615562Z",
     "shell.execute_reply": "2021-04-20T19:08:02.614891Z"
    },
    "papermill": {
     "duration": 0.246738,
     "end_time": "2021-04-20T19:08:02.615704",
     "exception": false,
     "start_time": "2021-04-20T19:08:02.368966",
     "status": "completed"
    },
    "tags": [],
    "vscode": {
     "languageId": "r"
    }
   },
   "outputs": [
    {
     "data": {
      "text/html": [
       "<table>\n",
       "<thead><tr><th scope=col>Country</th><th scope=col>Year</th><th scope=col>Status</th><th scope=col>Lifeexpectancy</th><th scope=col>AdultMortality</th><th scope=col>infantdeaths</th><th scope=col>Alcohol</th><th scope=col>percentageexpenditure</th><th scope=col>HepatitisB</th><th scope=col>Measles</th><th scope=col>...</th><th scope=col>Polio</th><th scope=col>Totalexpenditure</th><th scope=col>Diphtheria</th><th scope=col>HIVAIDS</th><th scope=col>GDP</th><th scope=col>Population</th><th scope=col>thinness119years</th><th scope=col>thinness59years</th><th scope=col>Incomecompositionofresources</th><th scope=col>Schooling</th></tr></thead>\n",
       "<tbody>\n",
       "\t<tr><td>Afghanistan</td><td>2015       </td><td>Developing </td><td>65.0       </td><td>263        </td><td>62         </td><td>0.01       </td><td>71.279624  </td><td>65         </td><td>1154       </td><td>...        </td><td> 6         </td><td>8.16       </td><td>65         </td><td>0.1        </td><td>584.25921  </td><td>33736494   </td><td>17.2       </td><td>17.3       </td><td>0.479      </td><td>10.1       </td></tr>\n",
       "\t<tr><td>Afghanistan</td><td>2014       </td><td>Developing </td><td>59.9       </td><td>271        </td><td>64         </td><td>0.01       </td><td>73.523582  </td><td>62         </td><td> 492       </td><td>...        </td><td>58         </td><td>8.18       </td><td>62         </td><td>0.1        </td><td>612.69651  </td><td>  327582   </td><td>17.5       </td><td>17.5       </td><td>0.476      </td><td>10.0       </td></tr>\n",
       "\t<tr><td>Afghanistan</td><td>2013       </td><td>Developing </td><td>59.9       </td><td>268        </td><td>66         </td><td>0.01       </td><td>73.219243  </td><td>64         </td><td> 430       </td><td>...        </td><td>62         </td><td>8.13       </td><td>64         </td><td>0.1        </td><td>631.74498  </td><td>31731688   </td><td>17.7       </td><td>17.7       </td><td>0.470      </td><td> 9.9       </td></tr>\n",
       "\t<tr><td>Afghanistan</td><td>2012       </td><td>Developing </td><td>59.5       </td><td>272        </td><td>69         </td><td>0.01       </td><td>78.184215  </td><td>67         </td><td>2787       </td><td>...        </td><td>67         </td><td>8.52       </td><td>67         </td><td>0.1        </td><td>669.95900  </td><td> 3696958   </td><td>17.9       </td><td>18.0       </td><td>0.463      </td><td> 9.8       </td></tr>\n",
       "\t<tr><td>Afghanistan</td><td>2011       </td><td>Developing </td><td>59.2       </td><td>275        </td><td>71         </td><td>0.01       </td><td> 7.097109  </td><td>68         </td><td>3013       </td><td>...        </td><td>68         </td><td>7.87       </td><td>68         </td><td>0.1        </td><td> 63.53723  </td><td> 2978599   </td><td>18.2       </td><td>18.2       </td><td>0.454      </td><td> 9.5       </td></tr>\n",
       "\t<tr><td>Afghanistan</td><td>2010       </td><td>Developing </td><td>58.8       </td><td>279        </td><td>74         </td><td>0.01       </td><td>79.679367  </td><td>66         </td><td>1989       </td><td>...        </td><td>66         </td><td>9.20       </td><td>66         </td><td>0.1        </td><td>553.32894  </td><td> 2883167   </td><td>18.4       </td><td>18.4       </td><td>0.448      </td><td> 9.2       </td></tr>\n",
       "</tbody>\n",
       "</table>\n"
      ],
      "text/latex": [
       "\\begin{tabular}{r|llllllllllllllllllllll}\n",
       " Country & Year & Status & Lifeexpectancy & AdultMortality & infantdeaths & Alcohol & percentageexpenditure & HepatitisB & Measles & ... & Polio & Totalexpenditure & Diphtheria & HIVAIDS & GDP & Population & thinness119years & thinness59years & Incomecompositionofresources & Schooling\\\\\n",
       "\\hline\n",
       "\t Afghanistan & 2015        & Developing  & 65.0        & 263         & 62          & 0.01        & 71.279624   & 65          & 1154        & ...         &  6          & 8.16        & 65          & 0.1         & 584.25921   & 33736494    & 17.2        & 17.3        & 0.479       & 10.1       \\\\\n",
       "\t Afghanistan & 2014        & Developing  & 59.9        & 271         & 64          & 0.01        & 73.523582   & 62          &  492        & ...         & 58          & 8.18        & 62          & 0.1         & 612.69651   &   327582    & 17.5        & 17.5        & 0.476       & 10.0       \\\\\n",
       "\t Afghanistan & 2013        & Developing  & 59.9        & 268         & 66          & 0.01        & 73.219243   & 64          &  430        & ...         & 62          & 8.13        & 64          & 0.1         & 631.74498   & 31731688    & 17.7        & 17.7        & 0.470       &  9.9       \\\\\n",
       "\t Afghanistan & 2012        & Developing  & 59.5        & 272         & 69          & 0.01        & 78.184215   & 67          & 2787        & ...         & 67          & 8.52        & 67          & 0.1         & 669.95900   &  3696958    & 17.9        & 18.0        & 0.463       &  9.8       \\\\\n",
       "\t Afghanistan & 2011        & Developing  & 59.2        & 275         & 71          & 0.01        &  7.097109   & 68          & 3013        & ...         & 68          & 7.87        & 68          & 0.1         &  63.53723   &  2978599    & 18.2        & 18.2        & 0.454       &  9.5       \\\\\n",
       "\t Afghanistan & 2010        & Developing  & 58.8        & 279         & 74          & 0.01        & 79.679367   & 66          & 1989        & ...         & 66          & 9.20        & 66          & 0.1         & 553.32894   &  2883167    & 18.4        & 18.4        & 0.448       &  9.2       \\\\\n",
       "\\end{tabular}\n"
      ],
      "text/markdown": [
       "\n",
       "| Country | Year | Status | Lifeexpectancy | AdultMortality | infantdeaths | Alcohol | percentageexpenditure | HepatitisB | Measles | ... | Polio | Totalexpenditure | Diphtheria | HIVAIDS | GDP | Population | thinness119years | thinness59years | Incomecompositionofresources | Schooling |\n",
       "|---|---|---|---|---|---|---|---|---|---|---|---|---|---|---|---|---|---|---|---|---|\n",
       "| Afghanistan | 2015        | Developing  | 65.0        | 263         | 62          | 0.01        | 71.279624   | 65          | 1154        | ...         |  6          | 8.16        | 65          | 0.1         | 584.25921   | 33736494    | 17.2        | 17.3        | 0.479       | 10.1        |\n",
       "| Afghanistan | 2014        | Developing  | 59.9        | 271         | 64          | 0.01        | 73.523582   | 62          |  492        | ...         | 58          | 8.18        | 62          | 0.1         | 612.69651   |   327582    | 17.5        | 17.5        | 0.476       | 10.0        |\n",
       "| Afghanistan | 2013        | Developing  | 59.9        | 268         | 66          | 0.01        | 73.219243   | 64          |  430        | ...         | 62          | 8.13        | 64          | 0.1         | 631.74498   | 31731688    | 17.7        | 17.7        | 0.470       |  9.9        |\n",
       "| Afghanistan | 2012        | Developing  | 59.5        | 272         | 69          | 0.01        | 78.184215   | 67          | 2787        | ...         | 67          | 8.52        | 67          | 0.1         | 669.95900   |  3696958    | 17.9        | 18.0        | 0.463       |  9.8        |\n",
       "| Afghanistan | 2011        | Developing  | 59.2        | 275         | 71          | 0.01        |  7.097109   | 68          | 3013        | ...         | 68          | 7.87        | 68          | 0.1         |  63.53723   |  2978599    | 18.2        | 18.2        | 0.454       |  9.5        |\n",
       "| Afghanistan | 2010        | Developing  | 58.8        | 279         | 74          | 0.01        | 79.679367   | 66          | 1989        | ...         | 66          | 9.20        | 66          | 0.1         | 553.32894   |  2883167    | 18.4        | 18.4        | 0.448       |  9.2        |\n",
       "\n"
      ],
      "text/plain": [
       "  Country     Year Status     Lifeexpectancy AdultMortality infantdeaths\n",
       "1 Afghanistan 2015 Developing 65.0           263            62          \n",
       "2 Afghanistan 2014 Developing 59.9           271            64          \n",
       "3 Afghanistan 2013 Developing 59.9           268            66          \n",
       "4 Afghanistan 2012 Developing 59.5           272            69          \n",
       "5 Afghanistan 2011 Developing 59.2           275            71          \n",
       "6 Afghanistan 2010 Developing 58.8           279            74          \n",
       "  Alcohol percentageexpenditure HepatitisB Measles ... Polio Totalexpenditure\n",
       "1 0.01    71.279624             65         1154    ...  6    8.16            \n",
       "2 0.01    73.523582             62          492    ... 58    8.18            \n",
       "3 0.01    73.219243             64          430    ... 62    8.13            \n",
       "4 0.01    78.184215             67         2787    ... 67    8.52            \n",
       "5 0.01     7.097109             68         3013    ... 68    7.87            \n",
       "6 0.01    79.679367             66         1989    ... 66    9.20            \n",
       "  Diphtheria HIVAIDS GDP       Population thinness119years thinness59years\n",
       "1 65         0.1     584.25921 33736494   17.2             17.3           \n",
       "2 62         0.1     612.69651   327582   17.5             17.5           \n",
       "3 64         0.1     631.74498 31731688   17.7             17.7           \n",
       "4 67         0.1     669.95900  3696958   17.9             18.0           \n",
       "5 68         0.1      63.53723  2978599   18.2             18.2           \n",
       "6 66         0.1     553.32894  2883167   18.4             18.4           \n",
       "  Incomecompositionofresources Schooling\n",
       "1 0.479                        10.1     \n",
       "2 0.476                        10.0     \n",
       "3 0.470                         9.9     \n",
       "4 0.463                         9.8     \n",
       "5 0.454                         9.5     \n",
       "6 0.448                         9.2     "
      ]
     },
     "metadata": {},
     "output_type": "display_data"
    }
   ],
   "source": [
    "head(df1)"
   ]
  },
  {
   "cell_type": "code",
   "execution_count": 20,
   "id": "partial-tourist",
   "metadata": {
    "execution": {
     "iopub.execute_input": "2021-04-20T19:08:02.790922Z",
     "iopub.status.busy": "2021-04-20T19:08:02.789074Z",
     "iopub.status.idle": "2021-04-20T19:08:02.806463Z",
     "shell.execute_reply": "2021-04-20T19:08:02.804689Z"
    },
    "papermill": {
     "duration": 0.109236,
     "end_time": "2021-04-20T19:08:02.806661",
     "exception": false,
     "start_time": "2021-04-20T19:08:02.697425",
     "status": "completed"
    },
    "tags": [],
    "vscode": {
     "languageId": "r"
    }
   },
   "outputs": [
    {
     "data": {
      "text/html": [
       "<ol class=list-inline>\n",
       "\t<li>'Country'</li>\n",
       "\t<li>'Year'</li>\n",
       "\t<li>'Status'</li>\n",
       "\t<li>'Lifeexpectancy'</li>\n",
       "\t<li>'AdultMortality'</li>\n",
       "\t<li>'infantdeaths'</li>\n",
       "\t<li>'Alcohol'</li>\n",
       "\t<li>'percentageexpenditure'</li>\n",
       "\t<li>'HepatitisB'</li>\n",
       "\t<li>'Measles'</li>\n",
       "\t<li>'BMI'</li>\n",
       "\t<li>'underfivedeaths'</li>\n",
       "\t<li>'Polio'</li>\n",
       "\t<li>'Totalexpenditure'</li>\n",
       "\t<li>'Diphtheria'</li>\n",
       "\t<li>'HIVAIDS'</li>\n",
       "\t<li>'GDP'</li>\n",
       "\t<li>'Population'</li>\n",
       "\t<li>'thinness119years'</li>\n",
       "\t<li>'thinness59years'</li>\n",
       "\t<li>'Incomecompositionofresources'</li>\n",
       "\t<li>'Schooling'</li>\n",
       "</ol>\n"
      ],
      "text/latex": [
       "\\begin{enumerate*}\n",
       "\\item 'Country'\n",
       "\\item 'Year'\n",
       "\\item 'Status'\n",
       "\\item 'Lifeexpectancy'\n",
       "\\item 'AdultMortality'\n",
       "\\item 'infantdeaths'\n",
       "\\item 'Alcohol'\n",
       "\\item 'percentageexpenditure'\n",
       "\\item 'HepatitisB'\n",
       "\\item 'Measles'\n",
       "\\item 'BMI'\n",
       "\\item 'underfivedeaths'\n",
       "\\item 'Polio'\n",
       "\\item 'Totalexpenditure'\n",
       "\\item 'Diphtheria'\n",
       "\\item 'HIVAIDS'\n",
       "\\item 'GDP'\n",
       "\\item 'Population'\n",
       "\\item 'thinness119years'\n",
       "\\item 'thinness59years'\n",
       "\\item 'Incomecompositionofresources'\n",
       "\\item 'Schooling'\n",
       "\\end{enumerate*}\n"
      ],
      "text/markdown": [
       "1. 'Country'\n",
       "2. 'Year'\n",
       "3. 'Status'\n",
       "4. 'Lifeexpectancy'\n",
       "5. 'AdultMortality'\n",
       "6. 'infantdeaths'\n",
       "7. 'Alcohol'\n",
       "8. 'percentageexpenditure'\n",
       "9. 'HepatitisB'\n",
       "10. 'Measles'\n",
       "11. 'BMI'\n",
       "12. 'underfivedeaths'\n",
       "13. 'Polio'\n",
       "14. 'Totalexpenditure'\n",
       "15. 'Diphtheria'\n",
       "16. 'HIVAIDS'\n",
       "17. 'GDP'\n",
       "18. 'Population'\n",
       "19. 'thinness119years'\n",
       "20. 'thinness59years'\n",
       "21. 'Incomecompositionofresources'\n",
       "22. 'Schooling'\n",
       "\n",
       "\n"
      ],
      "text/plain": [
       " [1] \"Country\"                      \"Year\"                        \n",
       " [3] \"Status\"                       \"Lifeexpectancy\"              \n",
       " [5] \"AdultMortality\"               \"infantdeaths\"                \n",
       " [7] \"Alcohol\"                      \"percentageexpenditure\"       \n",
       " [9] \"HepatitisB\"                   \"Measles\"                     \n",
       "[11] \"BMI\"                          \"underfivedeaths\"             \n",
       "[13] \"Polio\"                        \"Totalexpenditure\"            \n",
       "[15] \"Diphtheria\"                   \"HIVAIDS\"                     \n",
       "[17] \"GDP\"                          \"Population\"                  \n",
       "[19] \"thinness119years\"             \"thinness59years\"             \n",
       "[21] \"Incomecompositionofresources\" \"Schooling\"                   "
      ]
     },
     "metadata": {},
     "output_type": "display_data"
    }
   ],
   "source": [
    "names(df1)"
   ]
  },
  {
   "cell_type": "markdown",
   "id": "posted-marble",
   "metadata": {
    "papermill": {
     "duration": 0.085883,
     "end_time": "2021-04-20T19:08:02.977435",
     "exception": false,
     "start_time": "2021-04-20T19:08:02.891552",
     "status": "completed"
    },
    "tags": []
   },
   "source": [
    "# Fitting a regression model"
   ]
  },
  {
   "cell_type": "code",
   "execution_count": 21,
   "id": "circular-insurance",
   "metadata": {
    "execution": {
     "iopub.execute_input": "2021-04-20T19:08:03.144050Z",
     "iopub.status.busy": "2021-04-20T19:08:03.142243Z",
     "iopub.status.idle": "2021-04-20T19:08:03.179164Z",
     "shell.execute_reply": "2021-04-20T19:08:03.175983Z"
    },
    "papermill": {
     "duration": 0.115825,
     "end_time": "2021-04-20T19:08:03.179378",
     "exception": false,
     "start_time": "2021-04-20T19:08:03.063553",
     "status": "completed"
    },
    "tags": [],
    "vscode": {
     "languageId": "r"
    }
   },
   "outputs": [
    {
     "data": {
      "text/plain": [
       "\n",
       "Call:\n",
       "lm(formula = df1$Lifeexpectancy ~ df1$Alcohol + df1$AdultMortality + \n",
       "    df1$infantdeaths + df1$percentageexpenditure + df1$Measles + \n",
       "    df1$BMI + df1$Polio + df1$Incomecompositionofresources + \n",
       "    df1$Population + df1$GDP + df1$HepatitisB + df1$underfivedeaths + \n",
       "    df1$Totalexpenditure + df1$Diphtheria + df1$HIVAIDS + df1$thinness119years + \n",
       "    df1$thinness59years)\n",
       "\n",
       "Residuals:\n",
       "     Min       1Q   Median       3Q      Max \n",
       "-17.6374  -2.2322   0.0112   2.2062  14.1422 \n",
       "\n",
       "Coefficients:\n",
       "                                   Estimate Std. Error t value Pr(>|t|)    \n",
       "(Intercept)                       5.796e+01  7.074e-01  81.936  < 2e-16 ***\n",
       "df1$Alcohol                       7.824e-02  3.116e-02   2.511  0.01213 *  \n",
       "df1$AdultMortality               -1.842e-02  1.002e-03 -18.378  < 2e-16 ***\n",
       "df1$infantdeaths                  1.005e-01  1.136e-02   8.846  < 2e-16 ***\n",
       "df1$percentageexpenditure         2.283e-04  1.918e-04   1.190  0.23422    \n",
       "df1$Measles                      -1.262e-05  1.150e-05  -1.097  0.27270    \n",
       "df1$BMI                           5.095e-02  6.275e-03   8.119 9.16e-16 ***\n",
       "df1$Polio                         1.411e-02  5.478e-03   2.576  0.01009 *  \n",
       "df1$Incomecompositionofresources  1.600e+01  7.684e-01  20.829  < 2e-16 ***\n",
       "df1$Population                    1.093e-09  1.861e-09   0.587  0.55714    \n",
       "df1$GDP                           5.171e-05  3.009e-05   1.719  0.08588 .  \n",
       "df1$HepatitisB                   -4.521e-03  4.733e-03  -0.955  0.33957    \n",
       "df1$underfivedeaths              -7.672e-02  8.216e-03  -9.339  < 2e-16 ***\n",
       "df1$Totalexpenditure              1.257e-01  4.325e-02   2.906  0.00371 ** \n",
       "df1$Diphtheria                    1.626e-02  6.321e-03   2.572  0.01021 *  \n",
       "df1$HIVAIDS                      -4.352e-01  1.903e-02 -22.870  < 2e-16 ***\n",
       "df1$thinness119years             -5.305e-02  5.645e-02  -0.940  0.34742    \n",
       "df1$thinness59years              -1.858e-02  5.576e-02  -0.333  0.73897    \n",
       "---\n",
       "Signif. codes:  0 '***' 0.001 '**' 0.01 '*' 0.05 '.' 0.1 ' ' 1\n",
       "\n",
       "Residual standard error: 3.828 on 1631 degrees of freedom\n",
       "Multiple R-squared:  0.8126,\tAdjusted R-squared:  0.8106 \n",
       "F-statistic: 415.9 on 17 and 1631 DF,  p-value: < 2.2e-16\n"
      ]
     },
     "metadata": {},
     "output_type": "display_data"
    }
   ],
   "source": [
    "fit1 <- lm(df1$Lifeexpectancy ~ df1$Alcohol+ df1$AdultMortality + df1$infantdeaths + \n",
    "           df1$percentageexpenditure + df1$Measles + df1$BMI + df1$Polio + \n",
    "           df1$Incomecompositionofresources + df1$Population + df1$GDP + \n",
    "           df1$HepatitisB + df1$underfivedeaths + df1$Totalexpenditure + df1$Diphtheria +\n",
    "           df1$HIVAIDS + df1$thinness119years + df1$thinness59years)\n",
    "summary(fit1)"
   ]
  },
  {
   "cell_type": "markdown",
   "id": "authentic-personality",
   "metadata": {
    "papermill": {
     "duration": 0.075436,
     "end_time": "2021-04-20T19:08:03.374578",
     "exception": false,
     "start_time": "2021-04-20T19:08:03.299142",
     "status": "completed"
    },
    "tags": []
   },
   "source": [
    "# Inference\n",
    "In the above multiple regression function, some of the regressors’ coefficients have negative value indicating an inverse effect on life expectancy. Also, p-value > 0.05 (level of significance) of variables like ‘percentage expenditure’, ‘measles’, ‘population’, ‘Hepatitis B’, ‘thinness under 1 to 19 years’, and ‘thinness under 59 years.’ Thus, making all these variables statistically insignificant. "
   ]
  },
  {
   "cell_type": "markdown",
   "id": "dressed-handy",
   "metadata": {
    "papermill": {
     "duration": 0.107621,
     "end_time": "2021-04-20T19:08:03.558944",
     "exception": false,
     "start_time": "2021-04-20T19:08:03.451323",
     "status": "completed"
    },
    "tags": []
   },
   "source": [
    "#  Test for multicollinearity"
   ]
  },
  {
   "cell_type": "markdown",
   "id": "annoying-fault",
   "metadata": {
    "papermill": {
     "duration": 0.075562,
     "end_time": "2021-04-20T19:08:03.711707",
     "exception": false,
     "start_time": "2021-04-20T19:08:03.636145",
     "status": "completed"
    },
    "tags": []
   },
   "source": [
    "# VIF: Variance Inflation Factor\n",
    "It is a tool to identify multicollinearity. It shows how the variance of the estimator is inflated due to multicollinearity issue. Thus, the VIF values calculated by using R software for various explanatory variables in the model are as follows: \n"
   ]
  },
  {
   "cell_type": "code",
   "execution_count": 22,
   "id": "literary-edgar",
   "metadata": {
    "execution": {
     "iopub.execute_input": "2021-04-20T19:08:03.871730Z",
     "iopub.status.busy": "2021-04-20T19:08:03.869905Z",
     "iopub.status.idle": "2021-04-20T19:08:03.915491Z",
     "shell.execute_reply": "2021-04-20T19:08:03.913403Z"
    },
    "papermill": {
     "duration": 0.12792,
     "end_time": "2021-04-20T19:08:03.915639",
     "exception": false,
     "start_time": "2021-04-20T19:08:03.787719",
     "status": "completed"
    },
    "tags": [],
    "vscode": {
     "languageId": "r"
    }
   },
   "outputs": [
    {
     "data": {
      "text/html": [
       "<table>\n",
       "<thead><tr><th></th><th scope=col>vif.fit1.</th></tr></thead>\n",
       "<tbody>\n",
       "\t<tr><th scope=row>df1$Alcohol</th><td>  1.772066</td></tr>\n",
       "\t<tr><th scope=row>df1$AdultMortality</th><td>  1.774429</td></tr>\n",
       "\t<tr><th scope=row>df1$infantdeaths</th><td>211.787914</td></tr>\n",
       "\t<tr><th scope=row>df1$percentageexpenditure</th><td> 12.807040</td></tr>\n",
       "\t<tr><th scope=row>df1$Measles</th><td>  1.513165</td></tr>\n",
       "\t<tr><th scope=row>df1$BMI</th><td>  1.727690</td></tr>\n",
       "\t<tr><th scope=row>df1$Polio</th><td>  1.701056</td></tr>\n",
       "\t<tr><th scope=row>df1$Incomecompositionofresources</th><td>  2.225360</td></tr>\n",
       "\t<tr><th scope=row>df1$Population</th><td>  1.934176</td></tr>\n",
       "\t<tr><th scope=row>df1$GDP</th><td> 13.406771</td></tr>\n",
       "\t<tr><th scope=row>df1$HepatitisB</th><td>  1.651434</td></tr>\n",
       "\t<tr><th scope=row>df1$underfivedeaths</th><td>201.394652</td></tr>\n",
       "\t<tr><th scope=row>df1$Totalexpenditure</th><td>  1.112065</td></tr>\n",
       "\t<tr><th scope=row>df1$Diphtheria</th><td>  2.091991</td></tr>\n",
       "\t<tr><th scope=row>df1$HIVAIDS</th><td>  1.481879</td></tr>\n",
       "\t<tr><th scope=row>df1$thinness119years</th><td>  7.578282</td></tr>\n",
       "\t<tr><th scope=row>df1$thinness59years</th><td>  7.571068</td></tr>\n",
       "</tbody>\n",
       "</table>\n"
      ],
      "text/latex": [
       "\\begin{tabular}{r|l}\n",
       "  & vif.fit1.\\\\\n",
       "\\hline\n",
       "\tdf1\\$Alcohol &   1.772066\\\\\n",
       "\tdf1\\$AdultMortality &   1.774429\\\\\n",
       "\tdf1\\$infantdeaths & 211.787914\\\\\n",
       "\tdf1\\$percentageexpenditure &  12.807040\\\\\n",
       "\tdf1\\$Measles &   1.513165\\\\\n",
       "\tdf1\\$BMI &   1.727690\\\\\n",
       "\tdf1\\$Polio &   1.701056\\\\\n",
       "\tdf1\\$Incomecompositionofresources &   2.225360\\\\\n",
       "\tdf1\\$Population &   1.934176\\\\\n",
       "\tdf1\\$GDP &  13.406771\\\\\n",
       "\tdf1\\$HepatitisB &   1.651434\\\\\n",
       "\tdf1\\$underfivedeaths & 201.394652\\\\\n",
       "\tdf1\\$Totalexpenditure &   1.112065\\\\\n",
       "\tdf1\\$Diphtheria &   2.091991\\\\\n",
       "\tdf1\\$HIVAIDS &   1.481879\\\\\n",
       "\tdf1\\$thinness119years &   7.578282\\\\\n",
       "\tdf1\\$thinness59years &   7.571068\\\\\n",
       "\\end{tabular}\n"
      ],
      "text/markdown": [
       "\n",
       "| <!--/--> | vif.fit1. |\n",
       "|---|---|\n",
       "| df1$Alcohol |   1.772066 |\n",
       "| df1$AdultMortality |   1.774429 |\n",
       "| df1$infantdeaths | 211.787914 |\n",
       "| df1$percentageexpenditure |  12.807040 |\n",
       "| df1$Measles |   1.513165 |\n",
       "| df1$BMI |   1.727690 |\n",
       "| df1$Polio |   1.701056 |\n",
       "| df1$Incomecompositionofresources |   2.225360 |\n",
       "| df1$Population |   1.934176 |\n",
       "| df1$GDP |  13.406771 |\n",
       "| df1$HepatitisB |   1.651434 |\n",
       "| df1$underfivedeaths | 201.394652 |\n",
       "| df1$Totalexpenditure |   1.112065 |\n",
       "| df1$Diphtheria |   2.091991 |\n",
       "| df1$HIVAIDS |   1.481879 |\n",
       "| df1$thinness119years |   7.578282 |\n",
       "| df1$thinness59years |   7.571068 |\n",
       "\n"
      ],
      "text/plain": [
       "                                 vif.fit1. \n",
       "df1$Alcohol                        1.772066\n",
       "df1$AdultMortality                 1.774429\n",
       "df1$infantdeaths                 211.787914\n",
       "df1$percentageexpenditure         12.807040\n",
       "df1$Measles                        1.513165\n",
       "df1$BMI                            1.727690\n",
       "df1$Polio                          1.701056\n",
       "df1$Incomecompositionofresources   2.225360\n",
       "df1$Population                     1.934176\n",
       "df1$GDP                           13.406771\n",
       "df1$HepatitisB                     1.651434\n",
       "df1$underfivedeaths              201.394652\n",
       "df1$Totalexpenditure               1.112065\n",
       "df1$Diphtheria                     2.091991\n",
       "df1$HIVAIDS                        1.481879\n",
       "df1$thinness119years               7.578282\n",
       "df1$thinness59years                7.571068"
      ]
     },
     "metadata": {},
     "output_type": "display_data"
    }
   ],
   "source": [
    "data.frame(vif(fit1))"
   ]
  },
  {
   "cell_type": "markdown",
   "id": "empty-interest",
   "metadata": {
    "papermill": {
     "duration": 0.07649,
     "end_time": "2021-04-20T19:08:04.109786",
     "exception": false,
     "start_time": "2021-04-20T19:08:04.033296",
     "status": "completed"
    },
    "tags": []
   },
   "source": [
    "# Inference\n",
    "According to rule of thumb, VIF = 3 is ideal situation with no issue of multicollinearity, VIF value ranging from 1 to 10 indicates no issues even if multicollinearity (in some degree) exist in the model. However, if the value of VIF >10 then it is not justifiable and there is a problem of multicollinearity in the model. \n",
    "As per the output obtained above, we see most of the VIF values for different variables is ranging between 1 to 10, which means these variables are not responsible for causing multicollinearity in the model. However, there are two variables, i.e., 'under five deaths' and 'infant deaths' with significantly high VIF values pointing out that there are ones majorly responsible for causing the problem of multicollinarity in the regression model. \n",
    "Also, looking at the nature of these two variables, we can also make out that there are high chances that number of infant deaths will affect have an impact on deaths under the age of five. "
   ]
  },
  {
   "cell_type": "markdown",
   "id": "straight-drain",
   "metadata": {
    "papermill": {
     "duration": 0.077227,
     "end_time": "2021-04-20T19:08:04.264155",
     "exception": false,
     "start_time": "2021-04-20T19:08:04.186928",
     "status": "completed"
    },
    "tags": []
   },
   "source": [
    "# Remedial measures:\n",
    "1. Dropping the variable (s) and specification bias: One way to correct the problem is by dropping variables causing multicollinearity from the model. \n",
    "For instance, in our fitted regression model, as per the analysis and VIF values, we can resolve the issue by dropping variables like ‘infants’ deaths’ and ‘under 5 deaths’. However, by doing so we may be committing specification bias if the variables are important for analysis. \n",
    "2. Additional or new data: Multicollinearity is a sample feature, thus sometimes by taking another sample with same variables, collinearity may not be a problem. Or, by simply increasing the sample size.\n"
   ]
  },
  {
   "cell_type": "markdown",
   "id": "adjustable-present",
   "metadata": {
    "papermill": {
     "duration": 0.076811,
     "end_time": "2021-04-20T19:08:04.418403",
     "exception": false,
     "start_time": "2021-04-20T19:08:04.341592",
     "status": "completed"
    },
    "tags": []
   },
   "source": [
    "# Test for heteroscedasticity: Breush-Pagan test "
   ]
  },
  {
   "cell_type": "markdown",
   "id": "shared-serial",
   "metadata": {
    "papermill": {
     "duration": 0.076878,
     "end_time": "2021-04-20T19:08:04.572839",
     "exception": false,
     "start_time": "2021-04-20T19:08:04.495961",
     "status": "completed"
    },
    "tags": []
   },
   "source": [
    "**Ho : No hetroscedasticity\n",
    "H1 : Hetroscedasticity**"
   ]
  },
  {
   "cell_type": "code",
   "execution_count": 23,
   "id": "radical-allah",
   "metadata": {
    "execution": {
     "iopub.execute_input": "2021-04-20T19:08:04.731839Z",
     "iopub.status.busy": "2021-04-20T19:08:04.729982Z",
     "iopub.status.idle": "2021-04-20T19:08:04.854815Z",
     "shell.execute_reply": "2021-04-20T19:08:04.852722Z"
    },
    "papermill": {
     "duration": 0.205617,
     "end_time": "2021-04-20T19:08:04.854959",
     "exception": false,
     "start_time": "2021-04-20T19:08:04.649342",
     "status": "completed"
    },
    "tags": [],
    "vscode": {
     "languageId": "r"
    }
   },
   "outputs": [
    {
     "data": {
      "text/plain": [
       "\n",
       "\tstudentized Breusch-Pagan test\n",
       "\n",
       "data:  fit1\n",
       "BP = 414.66, df = 17, p-value < 2.2e-16\n"
      ]
     },
     "metadata": {},
     "output_type": "display_data"
    }
   ],
   "source": [
    "bptest(fit1)"
   ]
  },
  {
   "cell_type": "markdown",
   "id": "impaired-naples",
   "metadata": {
    "papermill": {
     "duration": 0.080598,
     "end_time": "2021-04-20T19:08:05.015054",
     "exception": false,
     "start_time": "2021-04-20T19:08:04.934456",
     "status": "completed"
    },
    "tags": []
   },
   "source": [
    "# Inference\n",
    "Since, p-value (2.2e -16) < 0.05 (level of significance), we reject the null hypothesis and say that the regression model has the issue of heteroscedasticity, i.e., the variance of error terms is not constant. "
   ]
  },
  {
   "cell_type": "markdown",
   "id": "sunset-procurement",
   "metadata": {
    "papermill": {
     "duration": 0.080101,
     "end_time": "2021-04-20T19:08:05.291424",
     "exception": false,
     "start_time": "2021-04-20T19:08:05.211323",
     "status": "completed"
    },
    "tags": []
   },
   "source": [
    "# Remedial Measures: \n",
    "1. Instead of using OLS estimators, we will have to use generalised least squares method (GLS estimators). \n",
    "2. If standard error of the error term is given then we can use weighted standard error. \n",
    "3. Taking logarithms of the data points. \n"
   ]
  },
  {
   "cell_type": "code",
   "execution_count": 24,
   "id": "shaped-kansas",
   "metadata": {
    "execution": {
     "iopub.execute_input": "2021-04-20T19:08:05.456506Z",
     "iopub.status.busy": "2021-04-20T19:08:05.455563Z",
     "iopub.status.idle": "2021-04-20T19:08:06.211144Z",
     "shell.execute_reply": "2021-04-20T19:08:06.211677Z"
    },
    "papermill": {
     "duration": 0.841754,
     "end_time": "2021-04-20T19:08:06.211842",
     "exception": false,
     "start_time": "2021-04-20T19:08:05.370088",
     "status": "completed"
    },
    "tags": [],
    "vscode": {
     "languageId": "r"
    }
   },
   "outputs": [
    {
     "data": {
      "image/png": "[encoded data removed]",
      "text/plain": [
       "Plot with title \"\""
      ]
     },
     "metadata": {},
     "output_type": "display_data"
    },
    {
     "data": {
      "image/png": "[encoded data removed]",
      "text/plain": [
       "Plot with title \"\""
      ]
     },
     "metadata": {},
     "output_type": "display_data"
    },
    {
     "data": {
      "image/png": "[encoded data removed]",
      "text/plain": [
       "Plot with title \"\""
      ]
     },
     "metadata": {},
     "output_type": "display_data"
    },
    {
     "data": {
      "image/png": "[encoded data removed]",
      "text/plain": [
       "Plot with title \"\""
      ]
     },
     "metadata": {},
     "output_type": "display_data"
    }
   ],
   "source": [
    "plot(fit1)"
   ]
  },
  {
   "cell_type": "markdown",
   "id": "tropical-marks",
   "metadata": {
    "papermill": {
     "duration": 0.095887,
     "end_time": "2021-04-20T19:08:06.405515",
     "exception": false,
     "start_time": "2021-04-20T19:08:06.309628",
     "status": "completed"
    },
    "tags": []
   },
   "source": [
    "# Inference\n",
    "The graphs that we are interested in for checking hetroscedasticity is the chart of '**residuals vs fitted values**' and the **'standardised residuals on Y axis'**. If there is no presence of hetroscedasticity, then there will be equal distribution of points throughtout the range of X values and a flat red line. \n",
    "But, in the above case as one can see in both the plots, the red line is slightly curved and the residuals seem to increase as the fitted Y values increase. So, the inference is that there is **presence of hetroscedasticity** in the model. "
   ]
  },
  {
   "cell_type": "markdown",
   "id": "seven-million",
   "metadata": {
    "papermill": {
     "duration": 0.094978,
     "end_time": "2021-04-20T19:08:06.595538",
     "exception": false,
     "start_time": "2021-04-20T19:08:06.500560",
     "status": "completed"
    },
    "tags": []
   },
   "source": [
    "# Test for Autocorrelation: Durbin Watson test\n"
   ]
  },
  {
   "cell_type": "markdown",
   "id": "solved-presentation",
   "metadata": {
    "papermill": {
     "duration": 0.09569,
     "end_time": "2021-04-20T19:08:06.786326",
     "exception": false,
     "start_time": "2021-04-20T19:08:06.690636",
     "status": "completed"
    },
    "tags": []
   },
   "source": [
    "**Ho: There is no correlation among the residuals.\n",
    "H1: The residuals are autocorrelated.**"
   ]
  },
  {
   "cell_type": "code",
   "execution_count": 25,
   "id": "included-adolescent",
   "metadata": {
    "execution": {
     "iopub.execute_input": "2021-04-20T19:08:06.984393Z",
     "iopub.status.busy": "2021-04-20T19:08:06.982944Z",
     "iopub.status.idle": "2021-04-20T19:08:07.838767Z",
     "shell.execute_reply": "2021-04-20T19:08:07.837420Z"
    },
    "papermill": {
     "duration": 0.957054,
     "end_time": "2021-04-20T19:08:07.838927",
     "exception": false,
     "start_time": "2021-04-20T19:08:06.881873",
     "status": "completed"
    },
    "tags": [],
    "vscode": {
     "languageId": "r"
    }
   },
   "outputs": [
    {
     "data": {
      "text/plain": [
       " lag Autocorrelation D-W Statistic p-value\n",
       "   1        0.612734     0.7706071       0\n",
       " Alternative hypothesis: rho != 0"
      ]
     },
     "metadata": {},
     "output_type": "display_data"
    }
   ],
   "source": [
    "durbinWatsonTest(fit1)"
   ]
  },
  {
   "cell_type": "markdown",
   "id": "retained-simple",
   "metadata": {
    "papermill": {
     "duration": 0.096938,
     "end_time": "2021-04-20T19:08:08.033092",
     "exception": false,
     "start_time": "2021-04-20T19:08:07.936154",
     "status": "completed"
    },
    "tags": []
   },
   "source": [
    "# Inference\n",
    "From the output obtained above, we can see that the test statistic is 0.7706071 and the corresponding p value is 0. Since, the p-value is less than 0.05, we reject the null hypothesis and conclude that the **residuals (error terms) are autocorrelated.**\n",
    "Also, the value of D-W statistic is approx. 0.8 which is close to 0 showing high chances of high positive autocorrelation. "
   ]
  },
  {
   "cell_type": "markdown",
   "id": "alleged-berry",
   "metadata": {
    "papermill": {
     "duration": 0.094581,
     "end_time": "2021-04-20T19:08:08.222610",
     "exception": false,
     "start_time": "2021-04-20T19:08:08.128029",
     "status": "completed"
    },
    "tags": []
   },
   "source": [
    "# Remedial Measures\n",
    "1. If the source of autocorrelation is excluded variable specification bias, then the problem can be solved by including those explanatory variables in the model. \n",
    "2. If the problem is due to wrong functional form, then correct by using the right functional form. \n",
    "3. Cochrane Orcult procedure. \n"
   ]
  },
  {
   "cell_type": "markdown",
   "id": "collaborative-athletics",
   "metadata": {
    "papermill": {
     "duration": 0.095513,
     "end_time": "2021-04-20T19:08:08.436924",
     "exception": false,
     "start_time": "2021-04-20T19:08:08.341411",
     "status": "completed"
    },
    "tags": []
   },
   "source": [
    "# Conclusion:\n",
    "The WHO data on life expectancy was analysed by using multiple regression, and part of the process involved checking to make sure that the data can actually be analysed using multiple regression. And, it is only appropriate to use multiple regression if the data passes few of the CLRM assumptions like multicollinearity, heteroscedasticity and autocorrelation that are required for regression to give you a valid result. Thus, regression diagnostics was run to ensure no such issue in the model and if detected suitable remedial measures were provided. \n",
    "\n"
   ]
  }
 ],
 "metadata": {
  "kernelspec": {
   "display_name": "R",
   "language": "R",
   "name": "ir"
  },
  "language_info": {
   "codemirror_mode": "r",
   "file_extension": ".r",
   "mimetype": "text/x-r-source",
   "name": "R",
   "pygments_lexer": "r",
   "version": "3.6.1"
  },
  "papermill": {
   "default_parameters": {},
   "duration": 16.466468,
   "end_time": "2021-04-20T19:08:08.641138",
   "environment_variables": {},
   "exception": null,
   "input_path": "__notebook__.ipynb",
   "output_path": "__notebook__.ipynb",
   "parameters": {},
   "start_time": "2021-04-20T19:07:52.174670",
   "version": "2.3.3"
  }
 },
 "nbformat": 4,
 "nbformat_minor": 5
}
